{
 "cells": [
  {
   "attachments": {},
   "cell_type": "markdown",
   "metadata": {},
   "source": [
    "# Setup"
   ]
  },
  {
   "cell_type": "code",
   "execution_count": 1,
   "metadata": {},
   "outputs": [],
   "source": [
    "import pandas as pd\n",
    "from scipy import stats"
   ]
  },
  {
   "cell_type": "code",
   "execution_count": 2,
   "metadata": {},
   "outputs": [],
   "source": [
    "import seaborn as sns"
   ]
  },
  {
   "cell_type": "code",
   "execution_count": 3,
   "metadata": {},
   "outputs": [],
   "source": [
    "import numpy as np"
   ]
  },
  {
   "attachments": {},
   "cell_type": "markdown",
   "metadata": {},
   "source": [
    "# Laod Data"
   ]
  },
  {
   "cell_type": "code",
   "execution_count": 4,
   "metadata": {},
   "outputs": [
    {
     "data": {
      "text/html": [
       "<div>\n",
       "<style scoped>\n",
       "    .dataframe tbody tr th:only-of-type {\n",
       "        vertical-align: middle;\n",
       "    }\n",
       "\n",
       "    .dataframe tbody tr th {\n",
       "        vertical-align: top;\n",
       "    }\n",
       "\n",
       "    .dataframe thead th {\n",
       "        text-align: right;\n",
       "    }\n",
       "</style>\n",
       "<table border=\"1\" class=\"dataframe\">\n",
       "  <thead>\n",
       "    <tr style=\"text-align: right;\">\n",
       "      <th></th>\n",
       "      <th>IOS_score</th>\n",
       "      <th>IOS_group</th>\n",
       "      <th>wc_self</th>\n",
       "      <th>wc_target</th>\n",
       "      <th>wc_intercept</th>\n",
       "      <th>Overlap_score</th>\n",
       "      <th>word_vec_avg_self</th>\n",
       "      <th>word_vec_avg_target</th>\n",
       "      <th>_merge</th>\n",
       "      <th>euclidean_distance</th>\n",
       "      <th>manhattan_distance</th>\n",
       "      <th>cosine_similarity</th>\n",
       "    </tr>\n",
       "    <tr>\n",
       "      <th>MID</th>\n",
       "      <th></th>\n",
       "      <th></th>\n",
       "      <th></th>\n",
       "      <th></th>\n",
       "      <th></th>\n",
       "      <th></th>\n",
       "      <th></th>\n",
       "      <th></th>\n",
       "      <th></th>\n",
       "      <th></th>\n",
       "      <th></th>\n",
       "      <th></th>\n",
       "    </tr>\n",
       "  </thead>\n",
       "  <tbody>\n",
       "    <tr>\n",
       "      <th>3</th>\n",
       "      <td>2</td>\n",
       "      <td>LowIOS</td>\n",
       "      <td>5</td>\n",
       "      <td>3</td>\n",
       "      <td>0</td>\n",
       "      <td>0.0</td>\n",
       "      <td>[ 0.12970965 -0.02112623 -0.02253387  0.043296...</td>\n",
       "      <td>[ 0.10904028 -0.08473143  0.05675215  0.057820...</td>\n",
       "      <td>both</td>\n",
       "      <td>0.581706</td>\n",
       "      <td>3.300618</td>\n",
       "      <td>0.626</td>\n",
       "    </tr>\n",
       "    <tr>\n",
       "      <th>11</th>\n",
       "      <td>2</td>\n",
       "      <td>LowIOS</td>\n",
       "      <td>1</td>\n",
       "      <td>6</td>\n",
       "      <td>0</td>\n",
       "      <td>0.0</td>\n",
       "      <td>[ 0.04467268 -0.02641947  0.1916748   0.042756...</td>\n",
       "      <td>[ 0.04378919  0.02432722 -0.09181204  0.066824...</td>\n",
       "      <td>both</td>\n",
       "      <td>0.980559</td>\n",
       "      <td>5.501461</td>\n",
       "      <td>0.352</td>\n",
       "    </tr>\n",
       "    <tr>\n",
       "      <th>13</th>\n",
       "      <td>6</td>\n",
       "      <td>HighIOS</td>\n",
       "      <td>2</td>\n",
       "      <td>3</td>\n",
       "      <td>0</td>\n",
       "      <td>0.0</td>\n",
       "      <td>[-0.00738698  0.10435431 -0.17571743  0.071207...</td>\n",
       "      <td>[ 0.1713229   0.03118779  0.00279703 -0.021871...</td>\n",
       "      <td>both</td>\n",
       "      <td>0.980611</td>\n",
       "      <td>5.779664</td>\n",
       "      <td>0.203</td>\n",
       "    </tr>\n",
       "    <tr>\n",
       "      <th>17</th>\n",
       "      <td>3</td>\n",
       "      <td>LowIOS</td>\n",
       "      <td>5</td>\n",
       "      <td>2</td>\n",
       "      <td>0</td>\n",
       "      <td>0.0</td>\n",
       "      <td>[ 0.00619531 -0.04341352 -0.06554738 -0.015299...</td>\n",
       "      <td>[ 0.10074951 -0.03477319  0.01334162  0.099734...</td>\n",
       "      <td>both</td>\n",
       "      <td>0.870356</td>\n",
       "      <td>5.114403</td>\n",
       "      <td>0.384</td>\n",
       "    </tr>\n",
       "    <tr>\n",
       "      <th>22</th>\n",
       "      <td>6</td>\n",
       "      <td>HighIOS</td>\n",
       "      <td>2</td>\n",
       "      <td>5</td>\n",
       "      <td>2</td>\n",
       "      <td>0.4</td>\n",
       "      <td>[ 0.04037306  0.01481102  0.16814518  0.082948...</td>\n",
       "      <td>[ 0.04354712  0.00518411  0.02660024  0.043834...</td>\n",
       "      <td>both</td>\n",
       "      <td>0.629677</td>\n",
       "      <td>3.410520</td>\n",
       "      <td>0.615</td>\n",
       "    </tr>\n",
       "  </tbody>\n",
       "</table>\n",
       "</div>"
      ],
      "text/plain": [
       "     IOS_score IOS_group  wc_self  wc_target  wc_intercept  Overlap_score  \\\n",
       "MID                                                                         \n",
       "3            2    LowIOS        5          3             0            0.0   \n",
       "11           2    LowIOS        1          6             0            0.0   \n",
       "13           6   HighIOS        2          3             0            0.0   \n",
       "17           3    LowIOS        5          2             0            0.0   \n",
       "22           6   HighIOS        2          5             2            0.4   \n",
       "\n",
       "                                     word_vec_avg_self  \\\n",
       "MID                                                      \n",
       "3    [ 0.12970965 -0.02112623 -0.02253387  0.043296...   \n",
       "11   [ 0.04467268 -0.02641947  0.1916748   0.042756...   \n",
       "13   [-0.00738698  0.10435431 -0.17571743  0.071207...   \n",
       "17   [ 0.00619531 -0.04341352 -0.06554738 -0.015299...   \n",
       "22   [ 0.04037306  0.01481102  0.16814518  0.082948...   \n",
       "\n",
       "                                   word_vec_avg_target _merge  \\\n",
       "MID                                                             \n",
       "3    [ 0.10904028 -0.08473143  0.05675215  0.057820...   both   \n",
       "11   [ 0.04378919  0.02432722 -0.09181204  0.066824...   both   \n",
       "13   [ 0.1713229   0.03118779  0.00279703 -0.021871...   both   \n",
       "17   [ 0.10074951 -0.03477319  0.01334162  0.099734...   both   \n",
       "22   [ 0.04354712  0.00518411  0.02660024  0.043834...   both   \n",
       "\n",
       "     euclidean_distance  manhattan_distance  cosine_similarity  \n",
       "MID                                                             \n",
       "3              0.581706            3.300618              0.626  \n",
       "11             0.980559            5.501461              0.352  \n",
       "13             0.980611            5.779664              0.203  \n",
       "17             0.870356            5.114403              0.384  \n",
       "22             0.629677            3.410520              0.615  "
      ]
     },
     "execution_count": 4,
     "metadata": {},
     "output_type": "execute_result"
    }
   ],
   "source": [
    "filename = './output02.csv'\n",
    "df = pd.read_csv(filename, header=0, index_col=0)\n",
    "df.head()"
   ]
  },
  {
   "cell_type": "code",
   "execution_count": 5,
   "metadata": {},
   "outputs": [
    {
     "data": {
      "text/html": [
       "<div>\n",
       "<style scoped>\n",
       "    .dataframe tbody tr th:only-of-type {\n",
       "        vertical-align: middle;\n",
       "    }\n",
       "\n",
       "    .dataframe tbody tr th {\n",
       "        vertical-align: top;\n",
       "    }\n",
       "\n",
       "    .dataframe thead th {\n",
       "        text-align: right;\n",
       "    }\n",
       "</style>\n",
       "<table border=\"1\" class=\"dataframe\">\n",
       "  <thead>\n",
       "    <tr style=\"text-align: right;\">\n",
       "      <th></th>\n",
       "      <th>IOS_score</th>\n",
       "      <th>IOS_group</th>\n",
       "      <th>wc_self</th>\n",
       "      <th>wc_target</th>\n",
       "      <th>wc_intercept</th>\n",
       "      <th>Overlap_score</th>\n",
       "      <th>word_vec_avg_self</th>\n",
       "      <th>word_vec_avg_target</th>\n",
       "      <th>_merge</th>\n",
       "      <th>euclidean_distance</th>\n",
       "      <th>manhattan_distance</th>\n",
       "      <th>cosine_similarity</th>\n",
       "    </tr>\n",
       "    <tr>\n",
       "      <th>MID</th>\n",
       "      <th></th>\n",
       "      <th></th>\n",
       "      <th></th>\n",
       "      <th></th>\n",
       "      <th></th>\n",
       "      <th></th>\n",
       "      <th></th>\n",
       "      <th></th>\n",
       "      <th></th>\n",
       "      <th></th>\n",
       "      <th></th>\n",
       "      <th></th>\n",
       "    </tr>\n",
       "  </thead>\n",
       "  <tbody>\n",
       "    <tr>\n",
       "      <th>3</th>\n",
       "      <td>2</td>\n",
       "      <td>LowIOS</td>\n",
       "      <td>5</td>\n",
       "      <td>3</td>\n",
       "      <td>0</td>\n",
       "      <td>0.0</td>\n",
       "      <td>[ 0.12970965 -0.02112623 -0.02253387  0.043296...</td>\n",
       "      <td>[ 0.10904028 -0.08473143  0.05675215  0.057820...</td>\n",
       "      <td>both</td>\n",
       "      <td>0.581706</td>\n",
       "      <td>3.300618</td>\n",
       "      <td>0.626</td>\n",
       "    </tr>\n",
       "    <tr>\n",
       "      <th>11</th>\n",
       "      <td>2</td>\n",
       "      <td>LowIOS</td>\n",
       "      <td>1</td>\n",
       "      <td>6</td>\n",
       "      <td>0</td>\n",
       "      <td>0.0</td>\n",
       "      <td>[ 0.04467268 -0.02641947  0.1916748   0.042756...</td>\n",
       "      <td>[ 0.04378919  0.02432722 -0.09181204  0.066824...</td>\n",
       "      <td>both</td>\n",
       "      <td>0.980559</td>\n",
       "      <td>5.501461</td>\n",
       "      <td>0.352</td>\n",
       "    </tr>\n",
       "    <tr>\n",
       "      <th>13</th>\n",
       "      <td>6</td>\n",
       "      <td>HighIOS</td>\n",
       "      <td>2</td>\n",
       "      <td>3</td>\n",
       "      <td>0</td>\n",
       "      <td>0.0</td>\n",
       "      <td>[-0.00738698  0.10435431 -0.17571743  0.071207...</td>\n",
       "      <td>[ 0.1713229   0.03118779  0.00279703 -0.021871...</td>\n",
       "      <td>both</td>\n",
       "      <td>0.980611</td>\n",
       "      <td>5.779664</td>\n",
       "      <td>0.203</td>\n",
       "    </tr>\n",
       "    <tr>\n",
       "      <th>17</th>\n",
       "      <td>3</td>\n",
       "      <td>LowIOS</td>\n",
       "      <td>5</td>\n",
       "      <td>2</td>\n",
       "      <td>0</td>\n",
       "      <td>0.0</td>\n",
       "      <td>[ 0.00619531 -0.04341352 -0.06554738 -0.015299...</td>\n",
       "      <td>[ 0.10074951 -0.03477319  0.01334162  0.099734...</td>\n",
       "      <td>both</td>\n",
       "      <td>0.870356</td>\n",
       "      <td>5.114403</td>\n",
       "      <td>0.384</td>\n",
       "    </tr>\n",
       "    <tr>\n",
       "      <th>22</th>\n",
       "      <td>6</td>\n",
       "      <td>HighIOS</td>\n",
       "      <td>2</td>\n",
       "      <td>5</td>\n",
       "      <td>2</td>\n",
       "      <td>0.4</td>\n",
       "      <td>[ 0.04037306  0.01481102  0.16814518  0.082948...</td>\n",
       "      <td>[ 0.04354712  0.00518411  0.02660024  0.043834...</td>\n",
       "      <td>both</td>\n",
       "      <td>0.629677</td>\n",
       "      <td>3.410520</td>\n",
       "      <td>0.615</td>\n",
       "    </tr>\n",
       "  </tbody>\n",
       "</table>\n",
       "</div>"
      ],
      "text/plain": [
       "     IOS_score IOS_group  wc_self  wc_target  wc_intercept  Overlap_score  \\\n",
       "MID                                                                         \n",
       "3            2    LowIOS        5          3             0            0.0   \n",
       "11           2    LowIOS        1          6             0            0.0   \n",
       "13           6   HighIOS        2          3             0            0.0   \n",
       "17           3    LowIOS        5          2             0            0.0   \n",
       "22           6   HighIOS        2          5             2            0.4   \n",
       "\n",
       "                                     word_vec_avg_self  \\\n",
       "MID                                                      \n",
       "3    [ 0.12970965 -0.02112623 -0.02253387  0.043296...   \n",
       "11   [ 0.04467268 -0.02641947  0.1916748   0.042756...   \n",
       "13   [-0.00738698  0.10435431 -0.17571743  0.071207...   \n",
       "17   [ 0.00619531 -0.04341352 -0.06554738 -0.015299...   \n",
       "22   [ 0.04037306  0.01481102  0.16814518  0.082948...   \n",
       "\n",
       "                                   word_vec_avg_target _merge  \\\n",
       "MID                                                             \n",
       "3    [ 0.10904028 -0.08473143  0.05675215  0.057820...   both   \n",
       "11   [ 0.04378919  0.02432722 -0.09181204  0.066824...   both   \n",
       "13   [ 0.1713229   0.03118779  0.00279703 -0.021871...   both   \n",
       "17   [ 0.10074951 -0.03477319  0.01334162  0.099734...   both   \n",
       "22   [ 0.04354712  0.00518411  0.02660024  0.043834...   both   \n",
       "\n",
       "     euclidean_distance  manhattan_distance  cosine_similarity  \n",
       "MID                                                             \n",
       "3              0.581706            3.300618              0.626  \n",
       "11             0.980559            5.501461              0.352  \n",
       "13             0.980611            5.779664              0.203  \n",
       "17             0.870356            5.114403              0.384  \n",
       "22             0.629677            3.410520              0.615  "
      ]
     },
     "execution_count": 5,
     "metadata": {},
     "output_type": "execute_result"
    }
   ],
   "source": [
    "df = df.dropna()\n",
    "df.head()"
   ]
  },
  {
   "attachments": {},
   "cell_type": "markdown",
   "metadata": {},
   "source": [
    "# Descriptive Statistics on Overlap Score"
   ]
  },
  {
   "cell_type": "code",
   "execution_count": 6,
   "metadata": {},
   "outputs": [
    {
     "data": {
      "text/html": [
       "<div>\n",
       "<style scoped>\n",
       "    .dataframe tbody tr th:only-of-type {\n",
       "        vertical-align: middle;\n",
       "    }\n",
       "\n",
       "    .dataframe tbody tr th {\n",
       "        vertical-align: top;\n",
       "    }\n",
       "\n",
       "    .dataframe thead th {\n",
       "        text-align: right;\n",
       "    }\n",
       "</style>\n",
       "<table border=\"1\" class=\"dataframe\">\n",
       "  <thead>\n",
       "    <tr style=\"text-align: right;\">\n",
       "      <th></th>\n",
       "      <th>count</th>\n",
       "      <th>mean</th>\n",
       "      <th>std</th>\n",
       "      <th>min</th>\n",
       "      <th>25%</th>\n",
       "      <th>50%</th>\n",
       "      <th>75%</th>\n",
       "      <th>max</th>\n",
       "    </tr>\n",
       "  </thead>\n",
       "  <tbody>\n",
       "    <tr>\n",
       "      <th>Overlap_score</th>\n",
       "      <td>29.0</td>\n",
       "      <td>0.088629</td>\n",
       "      <td>0.158935</td>\n",
       "      <td>0.0</td>\n",
       "      <td>0.0</td>\n",
       "      <td>0.0</td>\n",
       "      <td>0.166667</td>\n",
       "      <td>0.666667</td>\n",
       "    </tr>\n",
       "  </tbody>\n",
       "</table>\n",
       "</div>"
      ],
      "text/plain": [
       "               count      mean       std  min  25%  50%       75%       max\n",
       "Overlap_score   29.0  0.088629  0.158935  0.0  0.0  0.0  0.166667  0.666667"
      ]
     },
     "execution_count": 6,
     "metadata": {},
     "output_type": "execute_result"
    }
   ],
   "source": [
    "# Low IOS Group\n",
    "df.loc[df['IOS_group'] == 'LowIOS', ['Overlap_score']].describe().T"
   ]
  },
  {
   "cell_type": "code",
   "execution_count": 7,
   "metadata": {},
   "outputs": [
    {
     "data": {
      "text/html": [
       "<div>\n",
       "<style scoped>\n",
       "    .dataframe tbody tr th:only-of-type {\n",
       "        vertical-align: middle;\n",
       "    }\n",
       "\n",
       "    .dataframe tbody tr th {\n",
       "        vertical-align: top;\n",
       "    }\n",
       "\n",
       "    .dataframe thead th {\n",
       "        text-align: right;\n",
       "    }\n",
       "</style>\n",
       "<table border=\"1\" class=\"dataframe\">\n",
       "  <thead>\n",
       "    <tr style=\"text-align: right;\">\n",
       "      <th></th>\n",
       "      <th>count</th>\n",
       "      <th>mean</th>\n",
       "      <th>std</th>\n",
       "      <th>min</th>\n",
       "      <th>25%</th>\n",
       "      <th>50%</th>\n",
       "      <th>75%</th>\n",
       "      <th>max</th>\n",
       "    </tr>\n",
       "  </thead>\n",
       "  <tbody>\n",
       "    <tr>\n",
       "      <th>Overlap_score</th>\n",
       "      <td>20.0</td>\n",
       "      <td>0.104668</td>\n",
       "      <td>0.126781</td>\n",
       "      <td>0.0</td>\n",
       "      <td>0.0</td>\n",
       "      <td>0.091667</td>\n",
       "      <td>0.142857</td>\n",
       "      <td>0.4</td>\n",
       "    </tr>\n",
       "  </tbody>\n",
       "</table>\n",
       "</div>"
      ],
      "text/plain": [
       "               count      mean       std  min  25%       50%       75%  max\n",
       "Overlap_score   20.0  0.104668  0.126781  0.0  0.0  0.091667  0.142857  0.4"
      ]
     },
     "execution_count": 7,
     "metadata": {},
     "output_type": "execute_result"
    }
   ],
   "source": [
    "# High IOS Group\n",
    "df.loc[df['IOS_group'] == 'HighIOS', ['Overlap_score']].describe().T"
   ]
  },
  {
   "attachments": {},
   "cell_type": "markdown",
   "metadata": {},
   "source": [
    "# Visualization"
   ]
  },
  {
   "attachments": {},
   "cell_type": "markdown",
   "metadata": {},
   "source": [
    "## Overlapping Score"
   ]
  },
  {
   "cell_type": "markdown",
   "metadata": {},
   "source": [
    "### Overlapping Score: Histogram"
   ]
  },
  {
   "cell_type": "code",
   "execution_count": 8,
   "metadata": {},
   "outputs": [
    {
     "data": {
      "text/plain": [
       "array([<Axes: title={'center': 'HighIOS'}>,\n",
       "       <Axes: title={'center': 'LowIOS'}>], dtype=object)"
      ]
     },
     "execution_count": 8,
     "metadata": {},
     "output_type": "execute_result"
    },
    {
     "data": {
      "image/png": "[encoded data removed]",
      "text/plain": [
       "<Figure size 640x480 with 2 Axes>"
      ]
     },
     "metadata": {},
     "output_type": "display_data"
    }
   ],
   "source": [
    "df['Overlap_score'].hist(by=df['IOS_group'], range=[0, 1], sharey=True)"
   ]
  },
  {
   "attachments": {},
   "cell_type": "markdown",
   "metadata": {},
   "source": [
    "### Overlapping Score: Boxplot"
   ]
  },
  {
   "cell_type": "code",
   "execution_count": 9,
   "metadata": {},
   "outputs": [
    {
     "data": {
      "text/plain": [
       "<Axes: title={'center': 'Overlap_score'}, xlabel='[IOS_group]'>"
      ]
     },
     "execution_count": 9,
     "metadata": {},
     "output_type": "execute_result"
    },
    {
     "data": {
      "image/png": "[encoded data removed]",
      "text/plain": [
       "<Figure size 640x480 with 1 Axes>"
      ]
     },
     "metadata": {},
     "output_type": "display_data"
    }
   ],
   "source": [
    "df.boxplot(column=['Overlap_score'], by=['IOS_group'])"
   ]
  },
  {
   "attachments": {},
   "cell_type": "markdown",
   "metadata": {},
   "source": [
    "### Overlapping Score: Scatter plot"
   ]
  },
  {
   "cell_type": "code",
   "execution_count": 10,
   "metadata": {},
   "outputs": [
    {
     "data": {
      "text/plain": [
       "<Axes: xlabel='Overlap_score', ylabel='IOS_score'>"
      ]
     },
     "execution_count": 10,
     "metadata": {},
     "output_type": "execute_result"
    },
    {
     "data": {
      "image/png": "[encoded data removed]",
      "text/plain": [
       "<Figure size 640x480 with 1 Axes>"
      ]
     },
     "metadata": {},
     "output_type": "display_data"
    }
   ],
   "source": [
    "sns.scatterplot(x='Overlap_score', y='IOS_score', hue='IOS_group', data=df)"
   ]
  },
  {
   "cell_type": "markdown",
   "metadata": {},
   "source": [
    "## Euclidean Distance"
   ]
  },
  {
   "cell_type": "markdown",
   "metadata": {},
   "source": [
    "### Euclidean Distance: Histogram"
   ]
  },
  {
   "cell_type": "code",
   "execution_count": 11,
   "metadata": {},
   "outputs": [
    {
     "data": {
      "text/plain": [
       "array([<Axes: title={'center': 'HighIOS'}>,\n",
       "       <Axes: title={'center': 'LowIOS'}>], dtype=object)"
      ]
     },
     "execution_count": 11,
     "metadata": {},
     "output_type": "execute_result"
    },
    {
     "data": {
      "image/png": "[encoded data removed]",
      "text/plain": [
       "<Figure size 640x480 with 2 Axes>"
      ]
     },
     "metadata": {},
     "output_type": "display_data"
    }
   ],
   "source": [
    "df['euclidean_distance'].hist(by=df['IOS_group'], range=[0, 1.5], sharey=True)"
   ]
  },
  {
   "cell_type": "markdown",
   "metadata": {},
   "source": [
    "### Euclidean Distance: Boxplot"
   ]
  },
  {
   "cell_type": "code",
   "execution_count": 12,
   "metadata": {},
   "outputs": [
    {
     "data": {
      "text/plain": [
       "<Axes: title={'center': 'euclidean_distance'}, xlabel='[IOS_group]'>"
      ]
     },
     "execution_count": 12,
     "metadata": {},
     "output_type": "execute_result"
    },
    {
     "data": {
      "image/png": "[encoded data removed]",
      "text/plain": [
       "<Figure size 640x480 with 1 Axes>"
      ]
     },
     "metadata": {},
     "output_type": "display_data"
    }
   ],
   "source": [
    "df.boxplot(column=['euclidean_distance'], by=['IOS_group'])"
   ]
  },
  {
   "cell_type": "markdown",
   "metadata": {},
   "source": [
    "### Euclidean Distance: Scatter plot"
   ]
  },
  {
   "cell_type": "code",
   "execution_count": 13,
   "metadata": {},
   "outputs": [
    {
     "data": {
      "text/plain": [
       "<Axes: xlabel='euclidean_distance', ylabel='IOS_score'>"
      ]
     },
     "execution_count": 13,
     "metadata": {},
     "output_type": "execute_result"
    },
    {
     "data": {
      "image/png": "[encoded data removed]",
      "text/plain": [
       "<Figure size 640x480 with 1 Axes>"
      ]
     },
     "metadata": {},
     "output_type": "display_data"
    }
   ],
   "source": [
    "sns.scatterplot(x='euclidean_distance', y='IOS_score', hue='IOS_group', data=df)"
   ]
  },
  {
   "cell_type": "markdown",
   "metadata": {},
   "source": [
    "## Manhattan Distance"
   ]
  },
  {
   "cell_type": "markdown",
   "metadata": {},
   "source": [
    "### Manhattan Distance: Histogram"
   ]
  },
  {
   "cell_type": "code",
   "execution_count": 14,
   "metadata": {},
   "outputs": [
    {
     "data": {
      "text/plain": [
       "array([<Axes: title={'center': 'HighIOS'}>,\n",
       "       <Axes: title={'center': 'LowIOS'}>], dtype=object)"
      ]
     },
     "execution_count": 14,
     "metadata": {},
     "output_type": "execute_result"
    },
    {
     "data": {
      "image/png": "[encoded data removed]",
      "text/plain": [
       "<Figure size 640x480 with 2 Axes>"
      ]
     },
     "metadata": {},
     "output_type": "display_data"
    }
   ],
   "source": [
    "df['manhattan_distance'].hist(by=df['IOS_group'], range=[0, 10], sharey=True)"
   ]
  },
  {
   "cell_type": "markdown",
   "metadata": {},
   "source": [
    "### Manhattan Distance: Boxplot"
   ]
  },
  {
   "cell_type": "code",
   "execution_count": 15,
   "metadata": {},
   "outputs": [
    {
     "data": {
      "text/plain": [
       "<Axes: title={'center': 'manhattan_distance'}, xlabel='[IOS_group]'>"
      ]
     },
     "execution_count": 15,
     "metadata": {},
     "output_type": "execute_result"
    },
    {
     "data": {
      "image/png": "[encoded data removed]",
      "text/plain": [
       "<Figure size 640x480 with 1 Axes>"
      ]
     },
     "metadata": {},
     "output_type": "display_data"
    }
   ],
   "source": [
    "df.boxplot(column=['manhattan_distance'], by=['IOS_group'])"
   ]
  },
  {
   "cell_type": "markdown",
   "metadata": {},
   "source": [
    "### Manhattan Distance: Scatter plot"
   ]
  },
  {
   "cell_type": "code",
   "execution_count": 16,
   "metadata": {},
   "outputs": [
    {
     "data": {
      "text/plain": [
       "<Axes: xlabel='manhattan_distance', ylabel='IOS_score'>"
      ]
     },
     "execution_count": 16,
     "metadata": {},
     "output_type": "execute_result"
    },
    {
     "data": {
      "image/png": "[encoded data removed]",
      "text/plain": [
       "<Figure size 640x480 with 1 Axes>"
      ]
     },
     "metadata": {},
     "output_type": "display_data"
    }
   ],
   "source": [
    "sns.scatterplot(x='manhattan_distance', y='IOS_score', hue='IOS_group', data=df)"
   ]
  },
  {
   "cell_type": "markdown",
   "metadata": {},
   "source": [
    "## Cosine Similarity"
   ]
  },
  {
   "cell_type": "markdown",
   "metadata": {},
   "source": [
    "### Cosine Similarity: Histogram"
   ]
  },
  {
   "cell_type": "code",
   "execution_count": 17,
   "metadata": {},
   "outputs": [
    {
     "data": {
      "text/plain": [
       "array([<Axes: title={'center': 'HighIOS'}>,\n",
       "       <Axes: title={'center': 'LowIOS'}>], dtype=object)"
      ]
     },
     "execution_count": 17,
     "metadata": {},
     "output_type": "execute_result"
    },
    {
     "data": {
      "image/png": "[encoded data removed]",
      "text/plain": [
       "<Figure size 640x480 with 2 Axes>"
      ]
     },
     "metadata": {},
     "output_type": "display_data"
    }
   ],
   "source": [
    "df['cosine_similarity'].hist(by=df['IOS_group'], range=[0, 1], sharey=True)"
   ]
  },
  {
   "cell_type": "markdown",
   "metadata": {},
   "source": [
    "### Cosine Similarity: Boxplot"
   ]
  },
  {
   "cell_type": "code",
   "execution_count": 18,
   "metadata": {},
   "outputs": [
    {
     "data": {
      "text/plain": [
       "<Axes: title={'center': 'cosine_similarity'}, xlabel='[IOS_group]'>"
      ]
     },
     "execution_count": 18,
     "metadata": {},
     "output_type": "execute_result"
    },
    {
     "data": {
      "image/png": "[encoded data removed]",
      "text/plain": [
       "<Figure size 640x480 with 1 Axes>"
      ]
     },
     "metadata": {},
     "output_type": "display_data"
    }
   ],
   "source": [
    "df.boxplot(column=['cosine_similarity'], by=['IOS_group'])"
   ]
  },
  {
   "cell_type": "markdown",
   "metadata": {},
   "source": [
    "### Cosine Similarity: Scatter plot"
   ]
  },
  {
   "cell_type": "code",
   "execution_count": 19,
   "metadata": {},
   "outputs": [
    {
     "data": {
      "text/plain": [
       "<Axes: xlabel='cosine_similarity', ylabel='IOS_score'>"
      ]
     },
     "execution_count": 19,
     "metadata": {},
     "output_type": "execute_result"
    },
    {
     "data": {
      "image/png": "[encoded data removed]",
      "text/plain": [
       "<Figure size 640x480 with 1 Axes>"
      ]
     },
     "metadata": {},
     "output_type": "display_data"
    }
   ],
   "source": [
    "sns.scatterplot(x='cosine_similarity', y='IOS_score', hue='IOS_group', data=df)"
   ]
  },
  {
   "attachments": {},
   "cell_type": "markdown",
   "metadata": {},
   "source": [
    "# Check the Outliers"
   ]
  },
  {
   "cell_type": "code",
   "execution_count": 20,
   "metadata": {},
   "outputs": [
    {
     "data": {
      "text/html": [
       "<div>\n",
       "<style scoped>\n",
       "    .dataframe tbody tr th:only-of-type {\n",
       "        vertical-align: middle;\n",
       "    }\n",
       "\n",
       "    .dataframe tbody tr th {\n",
       "        vertical-align: top;\n",
       "    }\n",
       "\n",
       "    .dataframe thead th {\n",
       "        text-align: right;\n",
       "    }\n",
       "</style>\n",
       "<table border=\"1\" class=\"dataframe\">\n",
       "  <thead>\n",
       "    <tr style=\"text-align: right;\">\n",
       "      <th></th>\n",
       "      <th>IOS_score</th>\n",
       "      <th>IOS_group</th>\n",
       "      <th>wc_self</th>\n",
       "      <th>wc_target</th>\n",
       "      <th>wc_intercept</th>\n",
       "      <th>Overlap_score</th>\n",
       "      <th>word_vec_avg_self</th>\n",
       "      <th>word_vec_avg_target</th>\n",
       "      <th>_merge</th>\n",
       "      <th>euclidean_distance</th>\n",
       "      <th>manhattan_distance</th>\n",
       "      <th>cosine_similarity</th>\n",
       "    </tr>\n",
       "    <tr>\n",
       "      <th>MID</th>\n",
       "      <th></th>\n",
       "      <th></th>\n",
       "      <th></th>\n",
       "      <th></th>\n",
       "      <th></th>\n",
       "      <th></th>\n",
       "      <th></th>\n",
       "      <th></th>\n",
       "      <th></th>\n",
       "      <th></th>\n",
       "      <th></th>\n",
       "      <th></th>\n",
       "    </tr>\n",
       "  </thead>\n",
       "  <tbody>\n",
       "  </tbody>\n",
       "</table>\n",
       "</div>"
      ],
      "text/plain": [
       "Empty DataFrame\n",
       "Columns: [IOS_score, IOS_group, wc_self, wc_target, wc_intercept, Overlap_score, word_vec_avg_self, word_vec_avg_target, _merge, euclidean_distance, manhattan_distance, cosine_similarity]\n",
       "Index: []"
      ]
     },
     "execution_count": 20,
     "metadata": {},
     "output_type": "execute_result"
    }
   ],
   "source": [
    "df.loc[df['Overlap_score'] == 1, :]"
   ]
  },
  {
   "attachments": {},
   "cell_type": "markdown",
   "metadata": {},
   "source": [
    "# Confirmatory Analyses"
   ]
  },
  {
   "attachments": {},
   "cell_type": "markdown",
   "metadata": {},
   "source": [
    "## 01: a one-tailed independent two-sample t-test\n",
    "The author had planned:\n",
    "- sample size: 51 for each group\n",
    "- alpha: 0.05\n",
    "- effect size: 0.5\n",
    "- power: 0.8"
   ]
  },
  {
   "cell_type": "code",
   "execution_count": 21,
   "metadata": {},
   "outputs": [],
   "source": [
    "groupH = df[df['IOS_group']=='HighIOS']\n",
    "groupL = df[df['IOS_group']=='LowIOS']"
   ]
  },
  {
   "cell_type": "markdown",
   "metadata": {},
   "source": [
    "### Overlapping Magnitude"
   ]
  },
  {
   "cell_type": "code",
   "execution_count": 22,
   "metadata": {},
   "outputs": [
    {
     "data": {
      "text/plain": [
       "TtestResult(statistic=0.3919290632895706, pvalue=0.34846206010394787, df=45.90966149288226)"
      ]
     },
     "execution_count": 22,
     "metadata": {},
     "output_type": "execute_result"
    }
   ],
   "source": [
    "stats.ttest_ind(groupH['Overlap_score'], groupL['Overlap_score'], equal_var=False, alternative=\"greater\") # perform Welch's t-test without assuming equal population variance."
   ]
  },
  {
   "cell_type": "code",
   "execution_count": 23,
   "metadata": {},
   "outputs": [
    {
     "data": {
      "text/plain": [
       "TtestResult(statistic=0.3919290632895706, pvalue=0.6515379398960521, df=45.90966149288226)"
      ]
     },
     "execution_count": 23,
     "metadata": {},
     "output_type": "execute_result"
    }
   ],
   "source": [
    "stats.ttest_ind(groupH['Overlap_score'], groupL['Overlap_score'], equal_var=False, alternative=\"less\") # perform Welch's t-test without assuming equal population variance."
   ]
  },
  {
   "cell_type": "markdown",
   "metadata": {},
   "source": [
    "### Euclidean Distance"
   ]
  },
  {
   "cell_type": "code",
   "execution_count": 24,
   "metadata": {},
   "outputs": [
    {
     "data": {
      "text/plain": [
       "TtestResult(statistic=-0.23905560544922527, pvalue=0.4061483735458366, df=39.55631410537324)"
      ]
     },
     "execution_count": 24,
     "metadata": {},
     "output_type": "execute_result"
    }
   ],
   "source": [
    "stats.ttest_ind(groupH['euclidean_distance'], groupL['euclidean_distance'], equal_var=False, alternative=\"less\")"
   ]
  },
  {
   "cell_type": "code",
   "execution_count": 25,
   "metadata": {},
   "outputs": [
    {
     "data": {
      "text/plain": [
       "TtestResult(statistic=-0.23905560544922527, pvalue=0.5938516264541633, df=39.55631410537324)"
      ]
     },
     "execution_count": 25,
     "metadata": {},
     "output_type": "execute_result"
    }
   ],
   "source": [
    "stats.ttest_ind(groupH['euclidean_distance'], groupL['euclidean_distance'], equal_var=False, alternative=\"greater\")"
   ]
  },
  {
   "cell_type": "markdown",
   "metadata": {},
   "source": [
    "### Manhattan Distance"
   ]
  },
  {
   "cell_type": "code",
   "execution_count": 26,
   "metadata": {},
   "outputs": [
    {
     "data": {
      "text/plain": [
       "TtestResult(statistic=-0.1665628560095142, pvalue=0.43429494562790094, df=38.31660501168952)"
      ]
     },
     "execution_count": 26,
     "metadata": {},
     "output_type": "execute_result"
    }
   ],
   "source": [
    "stats.ttest_ind(groupH['manhattan_distance'], groupL['manhattan_distance'], equal_var=False, alternative=\"less\")"
   ]
  },
  {
   "cell_type": "code",
   "execution_count": 27,
   "metadata": {},
   "outputs": [
    {
     "data": {
      "text/plain": [
       "TtestResult(statistic=-0.1665628560095142, pvalue=0.5657050543720992, df=38.31660501168952)"
      ]
     },
     "execution_count": 27,
     "metadata": {},
     "output_type": "execute_result"
    }
   ],
   "source": [
    "stats.ttest_ind(groupH['manhattan_distance'], groupL['manhattan_distance'], equal_var=False, alternative=\"greater\")"
   ]
  },
  {
   "cell_type": "markdown",
   "metadata": {},
   "source": [
    "### Cosine Similarity"
   ]
  },
  {
   "cell_type": "code",
   "execution_count": 28,
   "metadata": {},
   "outputs": [
    {
     "data": {
      "text/plain": [
       "TtestResult(statistic=0.33441885220912226, pvalue=0.36993138988365026, df=38.83843127726019)"
      ]
     },
     "execution_count": 28,
     "metadata": {},
     "output_type": "execute_result"
    }
   ],
   "source": [
    "stats.ttest_ind(groupH['cosine_similarity'], groupL['cosine_similarity'], equal_var=False, alternative=\"greater\")"
   ]
  },
  {
   "cell_type": "code",
   "execution_count": 29,
   "metadata": {},
   "outputs": [
    {
     "data": {
      "text/plain": [
       "TtestResult(statistic=0.33441885220912226, pvalue=0.6300686101163497, df=38.83843127726019)"
      ]
     },
     "execution_count": 29,
     "metadata": {},
     "output_type": "execute_result"
    }
   ],
   "source": [
    "stats.ttest_ind(groupH['cosine_similarity'], groupL['cosine_similarity'], equal_var=False, alternative=\"less\")"
   ]
  },
  {
   "cell_type": "code",
   "execution_count": 30,
   "metadata": {},
   "outputs": [
    {
     "data": {
      "text/plain": [
       "TtestResult(statistic=0.33441885220912226, pvalue=0.7398627797673005, df=38.83843127726019)"
      ]
     },
     "execution_count": 30,
     "metadata": {},
     "output_type": "execute_result"
    }
   ],
   "source": [
    "stats.ttest_ind(groupH['cosine_similarity'], groupL['cosine_similarity'], equal_var=False, alternative=\"two-sided\")"
   ]
  },
  {
   "cell_type": "code",
   "execution_count": 31,
   "metadata": {},
   "outputs": [
    {
     "data": {
      "text/html": [
       "<div>\n",
       "<style scoped>\n",
       "    .dataframe tbody tr th:only-of-type {\n",
       "        vertical-align: middle;\n",
       "    }\n",
       "\n",
       "    .dataframe tbody tr th {\n",
       "        vertical-align: top;\n",
       "    }\n",
       "\n",
       "    .dataframe thead th {\n",
       "        text-align: right;\n",
       "    }\n",
       "</style>\n",
       "<table border=\"1\" class=\"dataframe\">\n",
       "  <thead>\n",
       "    <tr style=\"text-align: right;\">\n",
       "      <th></th>\n",
       "      <th>cosine_similarity</th>\n",
       "    </tr>\n",
       "    <tr>\n",
       "      <th>IOS_group</th>\n",
       "      <th></th>\n",
       "    </tr>\n",
       "  </thead>\n",
       "  <tbody>\n",
       "    <tr>\n",
       "      <th>HighIOS</th>\n",
       "      <td>0.601500</td>\n",
       "    </tr>\n",
       "    <tr>\n",
       "      <th>LowIOS</th>\n",
       "      <td>0.582655</td>\n",
       "    </tr>\n",
       "  </tbody>\n",
       "</table>\n",
       "</div>"
      ],
      "text/plain": [
       "           cosine_similarity\n",
       "IOS_group                   \n",
       "HighIOS             0.601500\n",
       "LowIOS              0.582655"
      ]
     },
     "execution_count": 31,
     "metadata": {},
     "output_type": "execute_result"
    }
   ],
   "source": [
    "df[['IOS_group', 'cosine_similarity']].groupby('IOS_group').mean()"
   ]
  },
  {
   "cell_type": "code",
   "execution_count": 32,
   "metadata": {},
   "outputs": [
    {
     "data": {
      "text/html": [
       "<div>\n",
       "<style scoped>\n",
       "    .dataframe tbody tr th:only-of-type {\n",
       "        vertical-align: middle;\n",
       "    }\n",
       "\n",
       "    .dataframe tbody tr th {\n",
       "        vertical-align: top;\n",
       "    }\n",
       "\n",
       "    .dataframe thead th {\n",
       "        text-align: right;\n",
       "    }\n",
       "</style>\n",
       "<table border=\"1\" class=\"dataframe\">\n",
       "  <thead>\n",
       "    <tr style=\"text-align: right;\">\n",
       "      <th></th>\n",
       "      <th>cosine_similarity</th>\n",
       "    </tr>\n",
       "    <tr>\n",
       "      <th>IOS_group</th>\n",
       "      <th></th>\n",
       "    </tr>\n",
       "  </thead>\n",
       "  <tbody>\n",
       "    <tr>\n",
       "      <th>HighIOS</th>\n",
       "      <td>0.199902</td>\n",
       "    </tr>\n",
       "    <tr>\n",
       "      <th>LowIOS</th>\n",
       "      <td>0.184782</td>\n",
       "    </tr>\n",
       "  </tbody>\n",
       "</table>\n",
       "</div>"
      ],
      "text/plain": [
       "           cosine_similarity\n",
       "IOS_group                   \n",
       "HighIOS             0.199902\n",
       "LowIOS              0.184782"
      ]
     },
     "execution_count": 32,
     "metadata": {},
     "output_type": "execute_result"
    }
   ],
   "source": [
    "df[['IOS_group', 'cosine_similarity']].groupby('IOS_group').std()"
   ]
  },
  {
   "attachments": {},
   "cell_type": "markdown",
   "metadata": {},
   "source": [
    "### Post hoc Power Analysis"
   ]
  },
  {
   "cell_type": "code",
   "execution_count": 33,
   "metadata": {},
   "outputs": [
    {
     "name": "stdout",
     "output_type": "stream",
     "text": [
      "Num. of group H: 20\n",
      "Num. of group L: 29\n"
     ]
    }
   ],
   "source": [
    "print('Num. of group H: ' + str(len(groupH)))\n",
    "print('Num. of group L: ' + str(len(groupL)))"
   ]
  },
  {
   "cell_type": "code",
   "execution_count": 34,
   "metadata": {},
   "outputs": [],
   "source": [
    "def cohens_d(x1, x2):\n",
    "    n1 = len(x1)\n",
    "    n2 = len(x2)\n",
    "    x1_mean = x1.mean()\n",
    "    x2_mean = x2.mean()\n",
    "    s1 = x1.std()\n",
    "    s2 = x2.std()\n",
    "    s = np.sqrt((n1*np.square(s1) + n2*np.square(s2)) / (n1 + n2))\n",
    "    d = np.abs(x1_mean - x2_mean) / s\n",
    "    return d"
   ]
  },
  {
   "cell_type": "code",
   "execution_count": 35,
   "metadata": {},
   "outputs": [
    {
     "name": "stdout",
     "output_type": "stream",
     "text": [
      "Cohens d (Euclidean distance): 0.0702\n",
      "Cohens d (Manhattan distance): 0.0493\n",
      "Cohens d (Cosine similarity): 0.0986\n"
     ]
    }
   ],
   "source": [
    "euclidean_d = cohens_d(groupH['euclidean_distance'], groupL['euclidean_distance'])\n",
    "print('Cohen''s d (Euclidean distance): {:.4f}'.format(euclidean_d))\n",
    "manhattan_d = cohens_d(groupH['manhattan_distance'], groupL['manhattan_distance'])\n",
    "print('Cohen''s d (Manhattan distance): {:.4f}'.format(manhattan_d))\n",
    "cosine_d = cohens_d(groupH['cosine_similarity'], groupL['cosine_similarity'])\n",
    "print('Cohen''s d (Cosine similarity): {:.4f}'.format(cosine_d))"
   ]
  },
  {
   "cell_type": "code",
   "execution_count": 36,
   "metadata": {},
   "outputs": [
    {
     "name": "stdout",
     "output_type": "stream",
     "text": [
      "Post hoc power (Euclidean distance): 0.0797\n",
      "Post hoc power (Manhattan distance): 0.0697\n",
      "Post hoc power (Cosine similarity): 0.0950\n"
     ]
    }
   ],
   "source": [
    "# Compute post hoc power powered by G*Power\n",
    "print('Post hoc power (Euclidean distance): {:.4f}'.format(0.0797))\n",
    "print('Post hoc power (Manhattan distance): {:.4f}'.format(0.0697))\n",
    "print('Post hoc power (Cosine similarity): {:.4f}'.format(0.0950))"
   ]
  },
  {
   "attachments": {},
   "cell_type": "markdown",
   "metadata": {},
   "source": [
    "## 02: Spearman's rank correlation coefficient between the IOS scores and the overlapping scores\n",
    "The author had planned:\n",
    "- sample size: 119, including participants who rated on the IOS scale as 4\n",
    "- alpha: 0.05\n",
    "- effect size: 0.3\n",
    "- power: 0.93\n",
    "- two-tailed\n"
   ]
  },
  {
   "cell_type": "markdown",
   "metadata": {},
   "source": [
    "### Overlapping score"
   ]
  },
  {
   "cell_type": "code",
   "execution_count": 37,
   "metadata": {},
   "outputs": [
    {
     "data": {
      "text/html": [
       "<div>\n",
       "<style scoped>\n",
       "    .dataframe tbody tr th:only-of-type {\n",
       "        vertical-align: middle;\n",
       "    }\n",
       "\n",
       "    .dataframe tbody tr th {\n",
       "        vertical-align: top;\n",
       "    }\n",
       "\n",
       "    .dataframe thead th {\n",
       "        text-align: right;\n",
       "    }\n",
       "</style>\n",
       "<table border=\"1\" class=\"dataframe\">\n",
       "  <thead>\n",
       "    <tr style=\"text-align: right;\">\n",
       "      <th></th>\n",
       "      <th>IOS_score</th>\n",
       "      <th>IOS_group</th>\n",
       "      <th>wc_self</th>\n",
       "      <th>wc_target</th>\n",
       "      <th>wc_intercept</th>\n",
       "      <th>Overlap_score</th>\n",
       "      <th>word_vec_avg_self</th>\n",
       "      <th>word_vec_avg_target</th>\n",
       "      <th>_merge</th>\n",
       "      <th>euclidean_distance</th>\n",
       "      <th>manhattan_distance</th>\n",
       "      <th>cosine_similarity</th>\n",
       "    </tr>\n",
       "    <tr>\n",
       "      <th>MID</th>\n",
       "      <th></th>\n",
       "      <th></th>\n",
       "      <th></th>\n",
       "      <th></th>\n",
       "      <th></th>\n",
       "      <th></th>\n",
       "      <th></th>\n",
       "      <th></th>\n",
       "      <th></th>\n",
       "      <th></th>\n",
       "      <th></th>\n",
       "      <th></th>\n",
       "    </tr>\n",
       "  </thead>\n",
       "  <tbody>\n",
       "    <tr>\n",
       "      <th>3</th>\n",
       "      <td>2</td>\n",
       "      <td>LowIOS</td>\n",
       "      <td>5</td>\n",
       "      <td>3</td>\n",
       "      <td>0</td>\n",
       "      <td>0.0</td>\n",
       "      <td>[ 0.12970965 -0.02112623 -0.02253387  0.043296...</td>\n",
       "      <td>[ 0.10904028 -0.08473143  0.05675215  0.057820...</td>\n",
       "      <td>both</td>\n",
       "      <td>0.581706</td>\n",
       "      <td>3.300618</td>\n",
       "      <td>0.626</td>\n",
       "    </tr>\n",
       "  </tbody>\n",
       "</table>\n",
       "</div>"
      ],
      "text/plain": [
       "     IOS_score IOS_group  wc_self  wc_target  wc_intercept  Overlap_score  \\\n",
       "MID                                                                         \n",
       "3            2    LowIOS        5          3             0            0.0   \n",
       "\n",
       "                                     word_vec_avg_self  \\\n",
       "MID                                                      \n",
       "3    [ 0.12970965 -0.02112623 -0.02253387  0.043296...   \n",
       "\n",
       "                                   word_vec_avg_target _merge  \\\n",
       "MID                                                             \n",
       "3    [ 0.10904028 -0.08473143  0.05675215  0.057820...   both   \n",
       "\n",
       "     euclidean_distance  manhattan_distance  cosine_similarity  \n",
       "MID                                                             \n",
       "3              0.581706            3.300618              0.626  "
      ]
     },
     "execution_count": 37,
     "metadata": {},
     "output_type": "execute_result"
    }
   ],
   "source": [
    "df.head(1)"
   ]
  },
  {
   "cell_type": "code",
   "execution_count": 38,
   "metadata": {},
   "outputs": [],
   "source": [
    "iosscores = df['IOS_score']\n",
    "overlapscores = df['Overlap_score']"
   ]
  },
  {
   "cell_type": "code",
   "execution_count": 39,
   "metadata": {},
   "outputs": [
    {
     "data": {
      "text/plain": [
       "SignificanceResult(statistic=0.11364680286006125, pvalue=0.436855094189893)"
      ]
     },
     "execution_count": 39,
     "metadata": {},
     "output_type": "execute_result"
    }
   ],
   "source": [
    "res = stats.spearmanr(iosscores, overlapscores)\n",
    "res"
   ]
  },
  {
   "cell_type": "markdown",
   "metadata": {},
   "source": [
    "### Euclidean Dsitance"
   ]
  },
  {
   "cell_type": "code",
   "execution_count": 40,
   "metadata": {},
   "outputs": [
    {
     "data": {
      "text/plain": [
       "SignificanceResult(statistic=-0.008546703806590266, pvalue=0.9535228101560276)"
      ]
     },
     "execution_count": 40,
     "metadata": {},
     "output_type": "execute_result"
    }
   ],
   "source": [
    "euclidean_distance = df['euclidean_distance']\n",
    "res = stats.spearmanr(iosscores, euclidean_distance)\n",
    "res"
   ]
  },
  {
   "cell_type": "markdown",
   "metadata": {},
   "source": [
    "### Manhattan Distance"
   ]
  },
  {
   "cell_type": "code",
   "execution_count": 41,
   "metadata": {},
   "outputs": [
    {
     "data": {
      "text/plain": [
       "SignificanceResult(statistic=-0.002605702380058008, pvalue=0.9858230834730011)"
      ]
     },
     "execution_count": 41,
     "metadata": {},
     "output_type": "execute_result"
    }
   ],
   "source": [
    "manhattan_distance = df['manhattan_distance']\n",
    "res = stats.spearmanr(iosscores, manhattan_distance)\n",
    "res"
   ]
  },
  {
   "cell_type": "markdown",
   "metadata": {},
   "source": [
    "### Cosine Similarity"
   ]
  },
  {
   "cell_type": "code",
   "execution_count": 42,
   "metadata": {},
   "outputs": [
    {
     "data": {
      "text/plain": [
       "SignificanceResult(statistic=0.05386399059772844, pvalue=0.7131853993304413)"
      ]
     },
     "execution_count": 42,
     "metadata": {},
     "output_type": "execute_result"
    }
   ],
   "source": [
    "cosine_similarity = df['cosine_similarity']\n",
    "res = stats.spearmanr(iosscores, cosine_similarity)\n",
    "res"
   ]
  },
  {
   "attachments": {},
   "cell_type": "markdown",
   "metadata": {},
   "source": [
    "### Post hoc Power Analysis"
   ]
  },
  {
   "cell_type": "code",
   "execution_count": 43,
   "metadata": {},
   "outputs": [
    {
     "name": "stdout",
     "output_type": "stream",
     "text": [
      "Num. of Sumple of the IOS socre: 49\n",
      "Num. of Sumple of the Overlapping socre: 49\n"
     ]
    }
   ],
   "source": [
    "print('Num. of Sumple of the IOS socre: ' + str(len(iosscores)))\n",
    "print('Num. of Sumple of the Overlapping socre: ' + str(len(overlapscores)))"
   ]
  },
  {
   "cell_type": "markdown",
   "metadata": {},
   "source": [
    "Achieved power: 0.0961 (H1: rho1 = 0.05)"
   ]
  },
  {
   "attachments": {},
   "cell_type": "markdown",
   "metadata": {},
   "source": []
  }
 ],
 "metadata": {
  "kernelspec": {
   "display_name": "myproject02",
   "language": "python",
   "name": "python3"
  },
  "language_info": {
   "codemirror_mode": {
    "name": "ipython",
    "version": 3
   },
   "file_extension": ".py",
   "mimetype": "text/x-python",
   "name": "python",
   "nbconvert_exporter": "python",
   "pygments_lexer": "ipython3",
   "version": "3.11.5"
  },
  "orig_nbformat": 4
 },
 "nbformat": 4,
 "nbformat_minor": 2
}
