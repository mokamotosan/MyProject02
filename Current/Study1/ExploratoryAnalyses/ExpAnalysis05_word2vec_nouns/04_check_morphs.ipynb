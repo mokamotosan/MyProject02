{
 "cells": [
  {
   "attachments": {},
   "cell_type": "markdown",
   "metadata": {},
   "source": [
    "# Points\n",
    "The selection of tokens was examined by:\n",
    "- a glance at the most/least frequent tokens\n",
    "- histograms\n",
    "- Zipf's law"
   ]
  },
  {
   "attachments": {},
   "cell_type": "markdown",
   "metadata": {},
   "source": [
    "# Setup"
   ]
  },
  {
   "cell_type": "code",
   "execution_count": 1,
   "metadata": {},
   "outputs": [],
   "source": [
    "from collections import Counter"
   ]
  },
  {
   "cell_type": "code",
   "execution_count": 2,
   "metadata": {},
   "outputs": [],
   "source": [
    "import matplotlib.pyplot as plt\n",
    "import japanize_matplotlib"
   ]
  },
  {
   "cell_type": "code",
   "execution_count": 3,
   "metadata": {},
   "outputs": [],
   "source": [
    "import pandas as pd"
   ]
  },
  {
   "cell_type": "code",
   "execution_count": 4,
   "metadata": {},
   "outputs": [],
   "source": [
    "import math"
   ]
  },
  {
   "cell_type": "markdown",
   "metadata": {},
   "source": [
    "# Analysis"
   ]
  },
  {
   "attachments": {},
   "cell_type": "markdown",
   "metadata": {},
   "source": [
    "## Morphological Analysis"
   ]
  },
  {
   "cell_type": "code",
   "execution_count": 5,
   "metadata": {},
   "outputs": [],
   "source": [
    "def my_morphol(filename):\n",
    "\tsentences = []\n",
    "\tsentence = []\n",
    "\tprevious_line = ''\n",
    "\tMID = -1\n",
    "\twith open(filename, mode='r') as f:\n",
    "\t\tfor line in f:\n",
    "\t\t\t# skip header\n",
    "\t\t\t# the beginning/middle of a sentence\n",
    "\t\t\tif line != 'EOS\\n':\n",
    "\t\t\t\tfields = line.split('\\t')\n",
    "\t\t\t\tattr = fields[1].split(',')\n",
    "\t\t\t\t# 変数名行\n",
    "\t\t\t\tif previous_line == '':\n",
    "\t\t\t\t\tcontinue\n",
    "\t\t\t\t# MID行\n",
    "\t\t\t\telif fields[0] == 'MID':\n",
    "\t\t\t\t\tcontinue\n",
    "\t\t\t\t# 文頭\n",
    "\t\t\t\telif previous_line == 'EOS\\n' and attr[1] == '数':\n",
    "\t\t\t\t\tMID = int(fields[0])\n",
    "\t\t\t\t\tsentence.append(MID)\n",
    "\t\t\t\t# 文中\n",
    "\t\t\t\telse:\n",
    "\t\t\t\t\tmorph = {'surface': fields[0], 'base': attr[6], 'pos': attr[0], 'pos1': attr[1]}\n",
    "\t\t\t\t\tsentence.append(morph)\n",
    "\t\t\t# 文末（EOS行）\n",
    "\t\t\telse:\n",
    "\t\t\t\tif MID > 0 and len(sentence) > 0:\n",
    "\t\t\t\t\tsentences.append(sentence)\n",
    "\t\t\t\t\tsentence = []\n",
    "\t\t\t\t\tMID = -1\n",
    "\t\t\t\telif MID > 0 and len(sentence) == 0:\n",
    "\t\t\t\t\tsentences.append([])\n",
    "\t\t\t\t\tsentence = []\n",
    "\t\t\t\t\tMID = -1\n",
    "\n",
    "\t\t\tprevious_line = line\n",
    "\n",
    "\treturn sentences"
   ]
  },
  {
   "cell_type": "code",
   "execution_count": 6,
   "metadata": {},
   "outputs": [],
   "source": [
    "# SELF\n",
    "filename = './output01_self.txt.mecab'\n",
    "sentences_self = my_morphol(filename)"
   ]
  },
  {
   "cell_type": "code",
   "execution_count": 7,
   "metadata": {},
   "outputs": [],
   "source": [
    "# TARGET\n",
    "filename = './output01_target.txt.mecab'\n",
    "sentences_target = my_morphol(filename)"
   ]
  },
  {
   "attachments": {},
   "cell_type": "markdown",
   "metadata": {},
   "source": [
    "## Tokenization"
   ]
  },
  {
   "cell_type": "code",
   "execution_count": 8,
   "metadata": {},
   "outputs": [],
   "source": [
    "def my_tokenization(sentences):\n",
    "\tsentences_token = []\n",
    "\tsentence_token = []\n",
    "\tfor sentence in sentences:\n",
    "\t\t# sentence[0] = MID\n",
    "\t\tsentence_token.append(sentence[0])\n",
    "\n",
    "\t\tfor morph in sentence[1:]:\n",
    "\t\t\t# POS according to https://www.gavo.t.u-tokyo.ac.jp/~mine/japanese/nlp+slp/NAIST-JDIC_manual.pdf\n",
    "#\t\t\t# Words for Traits\n",
    "#\t\t\tif morph['pos'] == '形容詞' and morph['pos1'] == '自立':\n",
    "#\t\t\t\tsentence_token.append(morph['base'])\n",
    "#\t\t\telif morph['pos'] == '名詞' and morph['pos1'] == '形容動詞語幹':\n",
    "#\t\t\t\tif morph['base'] != '*\\n':\n",
    "#\t\t\t\t\tsentence_token.append(morph['base'])\n",
    "#\t\t\telif morph['pos'] == '名詞' and morph['pos1'] == 'ナイ形容詞語幹':\n",
    "#\t\t\t\tif morph['base'] != '*\\n':\n",
    "#\t\t\t\t\tsentence_token.append(morph['base'])\n",
    "#\n",
    "#\t\t\t# Words for Behaviors\n",
    "#\t\t\telif morph['pos'] == '動詞' and morph['pos1'] == '自立':\n",
    "#\t\t\t\tsentence_token.append(morph['base'])\n",
    "#\t\t\telif morph['pos'] == '名詞' and morph['pos1'] == 'サ変接続':\n",
    "#\t\t\t\tif morph['base'] != '*\\n':\t# e.g, {'surface': '､', 'base': '*\\n', 'pos': '名詞', 'pos1': 'サ変接続'}\n",
    "#\t\t\t\t\tsentence_token.append(morph['base'])\n",
    "\n",
    "\t\t\t# Words for Stereotype etc\n",
    "\t\t\tif morph['pos'] == '名詞' and morph['pos1'] == '一般':\n",
    "\t\t\t\tif morph['base'] != '*\\n':\t# e.g., {'surface': 'キャパオーバー', 'base': '*\\n', 'pos': '名詞', 'pos1': '一般'},\n",
    "\t\t\t\t\tsentence_token.append(morph['base'])\n",
    "\t\t\telif morph['pos'] == '名詞' and morph['pos1'] == '固有名詞':\n",
    "\t\t\t\tif morph['base'] != '*\\n':\t# {'surface': 'k', 'base': '*\\n', 'pos': '名詞', 'pos1': '固有名詞'}\n",
    "\t\t\t\t\tsentence_token.append(morph['base'])\n",
    "\t\t\telif morph['pos'] == '名詞' and morph['pos1'] == '代名詞':\n",
    "\t\t\t\tif morph['base'] != '*\\n':\n",
    "\t\t\t\t\tsentence_token.append(morph['base'])\n",
    "\n",
    "\t\tsentences_token.append(sentence_token)\n",
    "\t\tsentence_token = []\n",
    "\n",
    "\treturn sentences_token"
   ]
  },
  {
   "cell_type": "code",
   "execution_count": 9,
   "metadata": {},
   "outputs": [],
   "source": [
    "# def my_tokenization(sentences):\n",
    "# \tsentences_token = []\n",
    "# \tsentence_token = []\n",
    "# \tfor sentence in sentences:\n",
    "# \t\t# sentence[0] = MID\n",
    "# \t\tsentence_token.append(sentence[0])\n",
    "# \n",
    "# \t\tfor morph in sentence[1:]:\n",
    "# \t\t\t# POS according to https://www.gavo.t.u-tokyo.ac.jp/~mine/japanese/nlp+slp/NAIST-JDIC_manual.pdf\n",
    "# \t\t\t# Words for Traits\n",
    "# \t\t\tif morph['pos'] == '形容詞' and morph['pos1'] == '自立': # pos = 形容詞, pos1 = 自立\n",
    "# \t\t\t\tsentence_token.append(morph['base'])\n",
    "# \t\t\telif morph['pos'] == '名詞' and morph['pos1'] == '形容動詞語幹': # pos = 名詞, pos1 = 形容動詞語幹\n",
    "# \t\t\t\tsentence_token.append(morph['base'])\n",
    "# \t\t\telif morph['pos'] == '名詞' and morph['pos1'] == 'ナイ形容詞語幹': # pos = 名詞, pos1 = ナイ形容詞語幹\n",
    "# \t\t\t\tsentence_token.append(morph['base'])\n",
    "# \n",
    "# \t\t\t# Words for Behaviors\n",
    "# \t\t\telif morph['pos'] == '動詞' and morph['pos1'] == '自立': # pos = 動詞, pos1 = 自立\n",
    "# \t\t\t\tsentence_token.append(morph['base'])\n",
    "# \t\t\telif morph['pos'] == '名詞' and morph['pos1'] == 'サ変接続': # pos = 名詞, pos1 = サ変接続, \n",
    "# \t\t\t\tsentence_token.append(morph['base'])\n",
    "# \n",
    "# \t\t\t# Words for Stereotype etc\n",
    "# \t\t\telif morph['pos'] == '名詞' and morph['pos1'] == '一般': # pos = 名詞, 一般\n",
    "# \t\t\t\tif morph['base'] == '*\\n': # e.g., {'surface': 'キャパオーバー', 'base': '*\\n', 'pos': '名詞', 'pos1': '一般'},\n",
    "# \t\t\t\t\tsentence_token.append(morph['surface'])\n",
    "# \t\t\t\telse:\n",
    "# \t\t\t\t\tsentence_token.append(morph['base'])\n",
    "# \t\t\telif morph['pos'] == '名詞' and morph['pos1'] == '固有名詞': # pos = 名詞, 固有名詞\n",
    "# \t\t\t\tif morph['base'] == '*\\n': # {'surface': 'k', 'base': '*\\n', 'pos': '名詞', 'pos1': '固有名詞'}\n",
    "# \t\t\t\t\tsentence_token.append(morph['surface'])\n",
    "# \t\t\t\telse:\n",
    "# \t\t\t\t\tsentence_token.append(morph['base'])\n",
    "# \t\t\telif morph['pos'] == '名詞' and morph['pos1'] == '代名詞': # pos = 名詞, 代名詞\n",
    "# \t\t\t\tsentence_token.append(morph['base'])\n",
    "# \n",
    "# \t\tsentences_token.append(sentence_token)\n",
    "# \t\tsentence_token = []\n",
    "# \n",
    "# \treturn sentences_token"
   ]
  },
  {
   "cell_type": "code",
   "execution_count": 10,
   "metadata": {},
   "outputs": [],
   "source": [
    "# SELF\n",
    "sentences_token_self = my_tokenization(sentences_self)"
   ]
  },
  {
   "cell_type": "code",
   "execution_count": 11,
   "metadata": {},
   "outputs": [],
   "source": [
    "# TARGET\n",
    "sentences_token_target = my_tokenization(sentences_target)"
   ]
  },
  {
   "attachments": {},
   "cell_type": "markdown",
   "metadata": {},
   "source": [
    "# The most/least frequent tokens"
   ]
  },
  {
   "cell_type": "code",
   "execution_count": 12,
   "metadata": {},
   "outputs": [],
   "source": [
    "# Expanding multidimensional arrays\n",
    "word_list_self = sum(sentences_token_self,[])\n",
    "word_list_target = sum(sentences_token_target,[])\n",
    "# Counting tokens\n",
    "word_count_all = Counter(word_list_self + word_list_target).most_common()\n",
    "word_count_self = Counter(word_list_self).most_common()\n",
    "word_count_target = Counter(word_list_target).most_common()"
   ]
  },
  {
   "cell_type": "markdown",
   "metadata": {},
   "source": [
    "## Self + Target"
   ]
  },
  {
   "cell_type": "code",
   "execution_count": 13,
   "metadata": {},
   "outputs": [
    {
     "data": {
      "text/html": [
       "<div>\n",
       "<style scoped>\n",
       "    .dataframe tbody tr th:only-of-type {\n",
       "        vertical-align: middle;\n",
       "    }\n",
       "\n",
       "    .dataframe tbody tr th {\n",
       "        vertical-align: top;\n",
       "    }\n",
       "\n",
       "    .dataframe thead th {\n",
       "        text-align: right;\n",
       "    }\n",
       "</style>\n",
       "<table border=\"1\" class=\"dataframe\">\n",
       "  <thead>\n",
       "    <tr style=\"text-align: right;\">\n",
       "      <th></th>\n",
       "      <th>ALL</th>\n",
       "    </tr>\n",
       "  </thead>\n",
       "  <tbody>\n",
       "    <tr>\n",
       "      <th>人</th>\n",
       "      <td>42</td>\n",
       "    </tr>\n",
       "    <tr>\n",
       "      <th>自分</th>\n",
       "      <td>35</td>\n",
       "    </tr>\n",
       "    <tr>\n",
       "      <th>責任</th>\n",
       "      <td>23</td>\n",
       "    </tr>\n",
       "    <tr>\n",
       "      <th>どちら</th>\n",
       "      <td>15</td>\n",
       "    </tr>\n",
       "    <tr>\n",
       "      <th>他人</th>\n",
       "      <td>14</td>\n",
       "    </tr>\n",
       "    <tr>\n",
       "      <th>何事</th>\n",
       "      <td>11</td>\n",
       "    </tr>\n",
       "    <tr>\n",
       "      <th>何</th>\n",
       "      <td>9</td>\n",
       "    </tr>\n",
       "    <tr>\n",
       "      <th>誰</th>\n",
       "      <td>9</td>\n",
       "    </tr>\n",
       "    <tr>\n",
       "      <th>愛想</th>\n",
       "      <td>8</td>\n",
       "    </tr>\n",
       "    <tr>\n",
       "      <th>相手</th>\n",
       "      <td>8</td>\n",
       "    </tr>\n",
       "  </tbody>\n",
       "</table>\n",
       "</div>"
      ],
      "text/plain": [
       "     ALL\n",
       "人     42\n",
       "自分    35\n",
       "責任    23\n",
       "どちら   15\n",
       "他人    14\n",
       "何事    11\n",
       "何      9\n",
       "誰      9\n",
       "愛想     8\n",
       "相手     8"
      ]
     },
     "execution_count": 13,
     "metadata": {},
     "output_type": "execute_result"
    }
   ],
   "source": [
    "word_count_df_all = pd.DataFrame([w[1] for w in word_count_all],\n",
    "\t\t\t\tindex = [w[0] for w in word_count_all],\n",
    "\t\t\t\tcolumns = ['ALL'])\n",
    "word_count_df_all.head(10)"
   ]
  },
  {
   "cell_type": "markdown",
   "metadata": {},
   "source": [
    "# Self"
   ]
  },
  {
   "cell_type": "code",
   "execution_count": 14,
   "metadata": {},
   "outputs": [
    {
     "data": {
      "text/html": [
       "<div>\n",
       "<style scoped>\n",
       "    .dataframe tbody tr th:only-of-type {\n",
       "        vertical-align: middle;\n",
       "    }\n",
       "\n",
       "    .dataframe tbody tr th {\n",
       "        vertical-align: top;\n",
       "    }\n",
       "\n",
       "    .dataframe thead th {\n",
       "        text-align: right;\n",
       "    }\n",
       "</style>\n",
       "<table border=\"1\" class=\"dataframe\">\n",
       "  <thead>\n",
       "    <tr style=\"text-align: right;\">\n",
       "      <th></th>\n",
       "      <th>SELF</th>\n",
       "    </tr>\n",
       "  </thead>\n",
       "  <tbody>\n",
       "    <tr>\n",
       "      <th>自分</th>\n",
       "      <td>21</td>\n",
       "    </tr>\n",
       "    <tr>\n",
       "      <th>人</th>\n",
       "      <td>20</td>\n",
       "    </tr>\n",
       "    <tr>\n",
       "      <th>責任</th>\n",
       "      <td>15</td>\n",
       "    </tr>\n",
       "    <tr>\n",
       "      <th>他人</th>\n",
       "      <td>10</td>\n",
       "    </tr>\n",
       "    <tr>\n",
       "      <th>どちら</th>\n",
       "      <td>9</td>\n",
       "    </tr>\n",
       "    <tr>\n",
       "      <th>愛想</th>\n",
       "      <td>7</td>\n",
       "    </tr>\n",
       "    <tr>\n",
       "      <th>人付き合い</th>\n",
       "      <td>6</td>\n",
       "    </tr>\n",
       "    <tr>\n",
       "      <th>何事</th>\n",
       "      <td>6</td>\n",
       "    </tr>\n",
       "    <tr>\n",
       "      <th>相手</th>\n",
       "      <td>5</td>\n",
       "    </tr>\n",
       "    <tr>\n",
       "      <th>何</th>\n",
       "      <td>5</td>\n",
       "    </tr>\n",
       "  </tbody>\n",
       "</table>\n",
       "</div>"
      ],
      "text/plain": [
       "       SELF\n",
       "自分       21\n",
       "人        20\n",
       "責任       15\n",
       "他人       10\n",
       "どちら       9\n",
       "愛想        7\n",
       "人付き合い     6\n",
       "何事        6\n",
       "相手        5\n",
       "何         5"
      ]
     },
     "execution_count": 14,
     "metadata": {},
     "output_type": "execute_result"
    }
   ],
   "source": [
    "word_count_df_self = pd.DataFrame([w[1] for w in word_count_self],\n",
    "\t\t\t\tindex = [w[0] for w in word_count_self],\n",
    "\t\t\t\tcolumns = ['SELF'])\n",
    "word_count_df_self.head(10)"
   ]
  },
  {
   "cell_type": "markdown",
   "metadata": {},
   "source": [
    "## Target"
   ]
  },
  {
   "cell_type": "code",
   "execution_count": 15,
   "metadata": {},
   "outputs": [
    {
     "data": {
      "text/html": [
       "<div>\n",
       "<style scoped>\n",
       "    .dataframe tbody tr th:only-of-type {\n",
       "        vertical-align: middle;\n",
       "    }\n",
       "\n",
       "    .dataframe tbody tr th {\n",
       "        vertical-align: top;\n",
       "    }\n",
       "\n",
       "    .dataframe thead th {\n",
       "        text-align: right;\n",
       "    }\n",
       "</style>\n",
       "<table border=\"1\" class=\"dataframe\">\n",
       "  <thead>\n",
       "    <tr style=\"text-align: right;\">\n",
       "      <th></th>\n",
       "      <th>TARGET</th>\n",
       "    </tr>\n",
       "  </thead>\n",
       "  <tbody>\n",
       "    <tr>\n",
       "      <th>人</th>\n",
       "      <td>22</td>\n",
       "    </tr>\n",
       "    <tr>\n",
       "      <th>自分</th>\n",
       "      <td>14</td>\n",
       "    </tr>\n",
       "    <tr>\n",
       "      <th>責任</th>\n",
       "      <td>8</td>\n",
       "    </tr>\n",
       "    <tr>\n",
       "      <th>私</th>\n",
       "      <td>6</td>\n",
       "    </tr>\n",
       "    <tr>\n",
       "      <th>性格</th>\n",
       "      <td>6</td>\n",
       "    </tr>\n",
       "    <tr>\n",
       "      <th>どちら</th>\n",
       "      <td>6</td>\n",
       "    </tr>\n",
       "    <tr>\n",
       "      <th>社交</th>\n",
       "      <td>6</td>\n",
       "    </tr>\n",
       "    <tr>\n",
       "      <th>感じ</th>\n",
       "      <td>5</td>\n",
       "    </tr>\n",
       "    <tr>\n",
       "      <th>誰</th>\n",
       "      <td>5</td>\n",
       "    </tr>\n",
       "    <tr>\n",
       "      <th>友達</th>\n",
       "      <td>5</td>\n",
       "    </tr>\n",
       "  </tbody>\n",
       "</table>\n",
       "</div>"
      ],
      "text/plain": [
       "     TARGET\n",
       "人        22\n",
       "自分       14\n",
       "責任        8\n",
       "私         6\n",
       "性格        6\n",
       "どちら       6\n",
       "社交        6\n",
       "感じ        5\n",
       "誰         5\n",
       "友達        5"
      ]
     },
     "execution_count": 15,
     "metadata": {},
     "output_type": "execute_result"
    }
   ],
   "source": [
    "word_count_df_target = pd.DataFrame([w[1] for w in word_count_target],\n",
    "\t\t\t\tindex = [w[0] for w in word_count_target],\n",
    "\t\t\t\tcolumns = ['TARGET'])\n",
    "word_count_df_target.head(10)"
   ]
  },
  {
   "cell_type": "code",
   "execution_count": 16,
   "metadata": {},
   "outputs": [
    {
     "data": {
      "text/html": [
       "<div>\n",
       "<style scoped>\n",
       "    .dataframe tbody tr th:only-of-type {\n",
       "        vertical-align: middle;\n",
       "    }\n",
       "\n",
       "    .dataframe tbody tr th {\n",
       "        vertical-align: top;\n",
       "    }\n",
       "\n",
       "    .dataframe thead th {\n",
       "        text-align: right;\n",
       "    }\n",
       "</style>\n",
       "<table border=\"1\" class=\"dataframe\">\n",
       "  <thead>\n",
       "    <tr style=\"text-align: right;\">\n",
       "      <th></th>\n",
       "      <th>ALL</th>\n",
       "      <th>SELF</th>\n",
       "      <th>TARGET</th>\n",
       "    </tr>\n",
       "  </thead>\n",
       "  <tbody>\n",
       "    <tr>\n",
       "      <th>人</th>\n",
       "      <td>42</td>\n",
       "      <td>20.0</td>\n",
       "      <td>22.0</td>\n",
       "    </tr>\n",
       "    <tr>\n",
       "      <th>自分</th>\n",
       "      <td>35</td>\n",
       "      <td>21.0</td>\n",
       "      <td>14.0</td>\n",
       "    </tr>\n",
       "    <tr>\n",
       "      <th>責任</th>\n",
       "      <td>23</td>\n",
       "      <td>15.0</td>\n",
       "      <td>8.0</td>\n",
       "    </tr>\n",
       "    <tr>\n",
       "      <th>どちら</th>\n",
       "      <td>15</td>\n",
       "      <td>9.0</td>\n",
       "      <td>6.0</td>\n",
       "    </tr>\n",
       "    <tr>\n",
       "      <th>他人</th>\n",
       "      <td>14</td>\n",
       "      <td>10.0</td>\n",
       "      <td>4.0</td>\n",
       "    </tr>\n",
       "    <tr>\n",
       "      <th>何事</th>\n",
       "      <td>11</td>\n",
       "      <td>6.0</td>\n",
       "      <td>5.0</td>\n",
       "    </tr>\n",
       "    <tr>\n",
       "      <th>誰</th>\n",
       "      <td>9</td>\n",
       "      <td>4.0</td>\n",
       "      <td>5.0</td>\n",
       "    </tr>\n",
       "    <tr>\n",
       "      <th>何</th>\n",
       "      <td>9</td>\n",
       "      <td>5.0</td>\n",
       "      <td>4.0</td>\n",
       "    </tr>\n",
       "    <tr>\n",
       "      <th>タイプ</th>\n",
       "      <td>8</td>\n",
       "      <td>3.0</td>\n",
       "      <td>5.0</td>\n",
       "    </tr>\n",
       "    <tr>\n",
       "      <th>相手</th>\n",
       "      <td>8</td>\n",
       "      <td>5.0</td>\n",
       "      <td>3.0</td>\n",
       "    </tr>\n",
       "  </tbody>\n",
       "</table>\n",
       "</div>"
      ],
      "text/plain": [
       "     ALL  SELF  TARGET\n",
       "人     42  20.0    22.0\n",
       "自分    35  21.0    14.0\n",
       "責任    23  15.0     8.0\n",
       "どちら   15   9.0     6.0\n",
       "他人    14  10.0     4.0\n",
       "何事    11   6.0     5.0\n",
       "誰      9   4.0     5.0\n",
       "何      9   5.0     4.0\n",
       "タイプ    8   3.0     5.0\n",
       "相手     8   5.0     3.0"
      ]
     },
     "execution_count": 16,
     "metadata": {},
     "output_type": "execute_result"
    }
   ],
   "source": [
    "word_count_df = pd.merge(word_count_df_all, word_count_df_self, how='outer', left_index=True, right_index=True)\n",
    "word_count_df = pd.merge(word_count_df, word_count_df_target, how='outer', left_index=True, right_index=True)\n",
    "word_count_df.sort_values(by=['ALL'], ascending=False).head(10)"
   ]
  },
  {
   "cell_type": "code",
   "execution_count": 17,
   "metadata": {},
   "outputs": [
    {
     "data": {
      "text/html": [
       "<div>\n",
       "<style scoped>\n",
       "    .dataframe tbody tr th:only-of-type {\n",
       "        vertical-align: middle;\n",
       "    }\n",
       "\n",
       "    .dataframe tbody tr th {\n",
       "        vertical-align: top;\n",
       "    }\n",
       "\n",
       "    .dataframe thead th {\n",
       "        text-align: right;\n",
       "    }\n",
       "</style>\n",
       "<table border=\"1\" class=\"dataframe\">\n",
       "  <thead>\n",
       "    <tr style=\"text-align: right;\">\n",
       "      <th></th>\n",
       "      <th>ALL</th>\n",
       "      <th>SELF</th>\n",
       "      <th>TARGET</th>\n",
       "    </tr>\n",
       "  </thead>\n",
       "  <tbody>\n",
       "    <tr>\n",
       "      <th>2</th>\n",
       "      <td>2</td>\n",
       "      <td>1.0</td>\n",
       "      <td>1.0</td>\n",
       "    </tr>\n",
       "    <tr>\n",
       "      <th>3</th>\n",
       "      <td>2</td>\n",
       "      <td>1.0</td>\n",
       "      <td>1.0</td>\n",
       "    </tr>\n",
       "    <tr>\n",
       "      <th>5</th>\n",
       "      <td>2</td>\n",
       "      <td>1.0</td>\n",
       "      <td>1.0</td>\n",
       "    </tr>\n",
       "    <tr>\n",
       "      <th>8</th>\n",
       "      <td>2</td>\n",
       "      <td>1.0</td>\n",
       "      <td>1.0</td>\n",
       "    </tr>\n",
       "    <tr>\n",
       "      <th>9</th>\n",
       "      <td>2</td>\n",
       "      <td>1.0</td>\n",
       "      <td>1.0</td>\n",
       "    </tr>\n",
       "    <tr>\n",
       "      <th>...</th>\n",
       "      <td>...</td>\n",
       "      <td>...</td>\n",
       "      <td>...</td>\n",
       "    </tr>\n",
       "    <tr>\n",
       "      <th>頭</th>\n",
       "      <td>1</td>\n",
       "      <td>NaN</td>\n",
       "      <td>1.0</td>\n",
       "    </tr>\n",
       "    <tr>\n",
       "      <th>顔</th>\n",
       "      <td>2</td>\n",
       "      <td>1.0</td>\n",
       "      <td>1.0</td>\n",
       "    </tr>\n",
       "    <tr>\n",
       "      <th>魚</th>\n",
       "      <td>1</td>\n",
       "      <td>NaN</td>\n",
       "      <td>1.0</td>\n",
       "    </tr>\n",
       "    <tr>\n",
       "      <th>鹿</th>\n",
       "      <td>1</td>\n",
       "      <td>NaN</td>\n",
       "      <td>1.0</td>\n",
       "    </tr>\n",
       "    <tr>\n",
       "      <th>黒白</th>\n",
       "      <td>1</td>\n",
       "      <td>NaN</td>\n",
       "      <td>1.0</td>\n",
       "    </tr>\n",
       "  </tbody>\n",
       "</table>\n",
       "<p>338 rows × 3 columns</p>\n",
       "</div>"
      ],
      "text/plain": [
       "    ALL  SELF  TARGET\n",
       "2     2   1.0     1.0\n",
       "3     2   1.0     1.0\n",
       "5     2   1.0     1.0\n",
       "8     2   1.0     1.0\n",
       "9     2   1.0     1.0\n",
       "..  ...   ...     ...\n",
       "頭     1   NaN     1.0\n",
       "顔     2   1.0     1.0\n",
       "魚     1   NaN     1.0\n",
       "鹿     1   NaN     1.0\n",
       "黒白    1   NaN     1.0\n",
       "\n",
       "[338 rows x 3 columns]"
      ]
     },
     "execution_count": 17,
     "metadata": {},
     "output_type": "execute_result"
    }
   ],
   "source": [
    "word_count_df"
   ]
  },
  {
   "attachments": {},
   "cell_type": "markdown",
   "metadata": {},
   "source": [
    "# Histograms"
   ]
  },
  {
   "attachments": {},
   "cell_type": "markdown",
   "metadata": {},
   "source": [
    "## The frequencies of tokens and their frequency"
   ]
  },
  {
   "cell_type": "code",
   "execution_count": 18,
   "metadata": {},
   "outputs": [
    {
     "data": {
      "image/png": "[encoded data removed]",
      "text/plain": [
       "<Figure size 800x400 with 1 Axes>"
      ]
     },
     "metadata": {},
     "output_type": "display_data"
    }
   ],
   "source": [
    "plt.figure(figsize=(8, 4))\n",
    "plt.hist([word_count_df.SELF, word_count_df.TARGET], bins=100, label=['self', 'target'])\n",
    "plt.xlabel('Frequency of token: 出現頻度')\n",
    "plt.ylabel('Frequency: 単語の種類数')\n",
    "plt.legend()\n",
    "plt.show()"
   ]
  },
  {
   "attachments": {},
   "cell_type": "markdown",
   "metadata": {},
   "source": [
    "## The most frequent tokens (Tope N)"
   ]
  },
  {
   "cell_type": "code",
   "execution_count": 19,
   "metadata": {},
   "outputs": [
    {
     "data": {
      "text/plain": [
       "<Figure size 800x400 with 0 Axes>"
      ]
     },
     "metadata": {},
     "output_type": "display_data"
    },
    {
     "data": {
      "image/png": "[encoded data removed]",
      "text/plain": [
       "<Figure size 640x480 with 1 Axes>"
      ]
     },
     "metadata": {},
     "output_type": "display_data"
    }
   ],
   "source": [
    "# TopN\n",
    "topn = 25\n",
    "plt.figure(figsize=(8, 4))\n",
    "word_count_df.sort_values(by=\"ALL\", ascending=False)[:topn].plot(y=[\"ALL\", \"SELF\", \"TARGET\"], kind=\"bar\", use_index=True)\n",
    "plt.xlabel('単語')\n",
    "plt.ylabel('出現頻度')\n",
    "plt.legend()\n",
    "plt.show()"
   ]
  },
  {
   "attachments": {},
   "cell_type": "markdown",
   "metadata": {},
   "source": [
    "## Zipf's law\n",
    "単語の出現頻度 vs. 出現頻度の出現頻度"
   ]
  },
  {
   "cell_type": "code",
   "execution_count": 20,
   "metadata": {},
   "outputs": [],
   "source": [
    "word_freq_all = word_count_df.sort_values(by='ALL', ascending=False).ALL.values\n",
    "word_freq_self = word_count_df.sort_values(by='SELF', ascending=False).SELF.values\n",
    "word_freq_target = word_count_df.sort_values(by='TARGET', ascending=False).TARGET.values"
   ]
  },
  {
   "cell_type": "code",
   "execution_count": 21,
   "metadata": {},
   "outputs": [],
   "source": [
    "ranks = list(range(1, len(word_freq_all) + 1))"
   ]
  },
  {
   "cell_type": "code",
   "execution_count": 22,
   "metadata": {},
   "outputs": [
    {
     "data": {
      "image/png": "[encoded data removed]",
      "text/plain": [
       "<Figure size 800x400 with 1 Axes>"
      ]
     },
     "metadata": {},
     "output_type": "display_data"
    }
   ],
   "source": [
    "plt.figure(figsize=(8, 4))\n",
    "plt.loglog(ranks, word_freq_all,\n",
    "\tranks, word_freq_self,\n",
    "\tranks, word_freq_target)\n",
    "plt.xlabel('出現頻度順位')\n",
    "plt.ylabel('出現頻度')\n",
    "plt.legend([\"ALL\", \"SELF\", \"TARGET\"])\n",
    "plt.show()"
   ]
  },
  {
   "cell_type": "code",
   "execution_count": null,
   "metadata": {},
   "outputs": [],
   "source": []
  }
 ],
 "metadata": {
  "kernelspec": {
   "display_name": "myproject02",
   "language": "python",
   "name": "python3"
  },
  "language_info": {
   "codemirror_mode": {
    "name": "ipython",
    "version": 3
   },
   "file_extension": ".py",
   "mimetype": "text/x-python",
   "name": "python",
   "nbconvert_exporter": "python",
   "pygments_lexer": "ipython3",
   "version": "3.11.4"
  },
  "orig_nbformat": 4
 },
 "nbformat": 4,
 "nbformat_minor": 2
}
