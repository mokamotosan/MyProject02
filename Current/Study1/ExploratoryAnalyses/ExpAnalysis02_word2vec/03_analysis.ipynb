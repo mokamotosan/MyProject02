{
 "cells": [
  {
   "attachments": {},
   "cell_type": "markdown",
   "metadata": {},
   "source": [
    "# Setup"
   ]
  },
  {
   "cell_type": "code",
   "execution_count": 12,
   "metadata": {},
   "outputs": [],
   "source": [
    "import pandas as pd\n",
    "from scipy import stats"
   ]
  },
  {
   "cell_type": "code",
   "execution_count": 13,
   "metadata": {},
   "outputs": [],
   "source": [
    "import seaborn as sns"
   ]
  },
  {
   "cell_type": "code",
   "execution_count": 14,
   "metadata": {},
   "outputs": [],
   "source": [
    "import numpy as np"
   ]
  },
  {
   "attachments": {},
   "cell_type": "markdown",
   "metadata": {},
   "source": [
    "# Laod Data"
   ]
  },
  {
   "cell_type": "code",
   "execution_count": 15,
   "metadata": {},
   "outputs": [
    {
     "data": {
      "text/html": [
       "<div>\n",
       "<style scoped>\n",
       "    .dataframe tbody tr th:only-of-type {\n",
       "        vertical-align: middle;\n",
       "    }\n",
       "\n",
       "    .dataframe tbody tr th {\n",
       "        vertical-align: top;\n",
       "    }\n",
       "\n",
       "    .dataframe thead th {\n",
       "        text-align: right;\n",
       "    }\n",
       "</style>\n",
       "<table border=\"1\" class=\"dataframe\">\n",
       "  <thead>\n",
       "    <tr style=\"text-align: right;\">\n",
       "      <th></th>\n",
       "      <th>IOS_score</th>\n",
       "      <th>IOS_group</th>\n",
       "      <th>wc_self</th>\n",
       "      <th>wc_target</th>\n",
       "      <th>wc_intercept</th>\n",
       "      <th>Overlap_score</th>\n",
       "      <th>word_vec_avg_self</th>\n",
       "      <th>word_vec_avg_target</th>\n",
       "      <th>_merge</th>\n",
       "      <th>euclidean_distance</th>\n",
       "      <th>manhattan_distance</th>\n",
       "      <th>cosine_similarity</th>\n",
       "    </tr>\n",
       "    <tr>\n",
       "      <th>MID</th>\n",
       "      <th></th>\n",
       "      <th></th>\n",
       "      <th></th>\n",
       "      <th></th>\n",
       "      <th></th>\n",
       "      <th></th>\n",
       "      <th></th>\n",
       "      <th></th>\n",
       "      <th></th>\n",
       "      <th></th>\n",
       "      <th></th>\n",
       "      <th></th>\n",
       "    </tr>\n",
       "  </thead>\n",
       "  <tbody>\n",
       "    <tr>\n",
       "      <th>3</th>\n",
       "      <td>2</td>\n",
       "      <td>LowIOS</td>\n",
       "      <td>14</td>\n",
       "      <td>10</td>\n",
       "      <td>1</td>\n",
       "      <td>0.043478</td>\n",
       "      <td>[ 0.1058292   0.02908306  0.05915746  0.029480...</td>\n",
       "      <td>[ 0.10281058 -0.01622817  0.12231994  0.001097...</td>\n",
       "      <td>both</td>\n",
       "      <td>0.392200</td>\n",
       "      <td>2.212569</td>\n",
       "      <td>0.759</td>\n",
       "    </tr>\n",
       "    <tr>\n",
       "      <th>11</th>\n",
       "      <td>2</td>\n",
       "      <td>LowIOS</td>\n",
       "      <td>4</td>\n",
       "      <td>15</td>\n",
       "      <td>1</td>\n",
       "      <td>0.055556</td>\n",
       "      <td>[ 1.69084147e-02 -7.26589700e-03  2.11768001e-...</td>\n",
       "      <td>[ 0.06061446  0.01933753  0.0653864   0.011108...</td>\n",
       "      <td>both</td>\n",
       "      <td>0.494849</td>\n",
       "      <td>2.866378</td>\n",
       "      <td>0.720</td>\n",
       "    </tr>\n",
       "    <tr>\n",
       "      <th>13</th>\n",
       "      <td>6</td>\n",
       "      <td>HighIOS</td>\n",
       "      <td>7</td>\n",
       "      <td>6</td>\n",
       "      <td>0</td>\n",
       "      <td>0.000000</td>\n",
       "      <td>[ 0.05254399 -0.02020597  0.08731089  0.000369...</td>\n",
       "      <td>[ 1.57473356e-01 -2.42090737e-03  7.84671158e-...</td>\n",
       "      <td>both</td>\n",
       "      <td>0.448354</td>\n",
       "      <td>2.635906</td>\n",
       "      <td>0.711</td>\n",
       "    </tr>\n",
       "    <tr>\n",
       "      <th>17</th>\n",
       "      <td>3</td>\n",
       "      <td>LowIOS</td>\n",
       "      <td>15</td>\n",
       "      <td>12</td>\n",
       "      <td>3</td>\n",
       "      <td>0.125000</td>\n",
       "      <td>[ 0.04897259  0.03272291  0.11012402 -0.000982...</td>\n",
       "      <td>[ 0.10208222  0.0109177   0.06720565  0.062141...</td>\n",
       "      <td>both</td>\n",
       "      <td>0.258167</td>\n",
       "      <td>1.495546</td>\n",
       "      <td>0.879</td>\n",
       "    </tr>\n",
       "    <tr>\n",
       "      <th>22</th>\n",
       "      <td>6</td>\n",
       "      <td>HighIOS</td>\n",
       "      <td>4</td>\n",
       "      <td>15</td>\n",
       "      <td>4</td>\n",
       "      <td>0.266667</td>\n",
       "      <td>[ 0.03574508  0.05513598  0.23960969  0.043273...</td>\n",
       "      <td>[ 7.4052483e-02  3.6018115e-02  1.9052523e-01 ...</td>\n",
       "      <td>both</td>\n",
       "      <td>0.411166</td>\n",
       "      <td>2.190575</td>\n",
       "      <td>0.792</td>\n",
       "    </tr>\n",
       "  </tbody>\n",
       "</table>\n",
       "</div>"
      ],
      "text/plain": [
       "     IOS_score IOS_group  wc_self  wc_target  wc_intercept  Overlap_score  \\\n",
       "MID                                                                         \n",
       "3            2    LowIOS       14         10             1       0.043478   \n",
       "11           2    LowIOS        4         15             1       0.055556   \n",
       "13           6   HighIOS        7          6             0       0.000000   \n",
       "17           3    LowIOS       15         12             3       0.125000   \n",
       "22           6   HighIOS        4         15             4       0.266667   \n",
       "\n",
       "                                     word_vec_avg_self  \\\n",
       "MID                                                      \n",
       "3    [ 0.1058292   0.02908306  0.05915746  0.029480...   \n",
       "11   [ 1.69084147e-02 -7.26589700e-03  2.11768001e-...   \n",
       "13   [ 0.05254399 -0.02020597  0.08731089  0.000369...   \n",
       "17   [ 0.04897259  0.03272291  0.11012402 -0.000982...   \n",
       "22   [ 0.03574508  0.05513598  0.23960969  0.043273...   \n",
       "\n",
       "                                   word_vec_avg_target _merge  \\\n",
       "MID                                                             \n",
       "3    [ 0.10281058 -0.01622817  0.12231994  0.001097...   both   \n",
       "11   [ 0.06061446  0.01933753  0.0653864   0.011108...   both   \n",
       "13   [ 1.57473356e-01 -2.42090737e-03  7.84671158e-...   both   \n",
       "17   [ 0.10208222  0.0109177   0.06720565  0.062141...   both   \n",
       "22   [ 7.4052483e-02  3.6018115e-02  1.9052523e-01 ...   both   \n",
       "\n",
       "     euclidean_distance  manhattan_distance  cosine_similarity  \n",
       "MID                                                             \n",
       "3              0.392200            2.212569              0.759  \n",
       "11             0.494849            2.866378              0.720  \n",
       "13             0.448354            2.635906              0.711  \n",
       "17             0.258167            1.495546              0.879  \n",
       "22             0.411166            2.190575              0.792  "
      ]
     },
     "execution_count": 15,
     "metadata": {},
     "output_type": "execute_result"
    }
   ],
   "source": [
    "filename = './output02.csv'\n",
    "df = pd.read_csv(filename, header=0, index_col=0)\n",
    "df.head()"
   ]
  },
  {
   "cell_type": "code",
   "execution_count": 16,
   "metadata": {},
   "outputs": [
    {
     "data": {
      "text/html": [
       "<div>\n",
       "<style scoped>\n",
       "    .dataframe tbody tr th:only-of-type {\n",
       "        vertical-align: middle;\n",
       "    }\n",
       "\n",
       "    .dataframe tbody tr th {\n",
       "        vertical-align: top;\n",
       "    }\n",
       "\n",
       "    .dataframe thead th {\n",
       "        text-align: right;\n",
       "    }\n",
       "</style>\n",
       "<table border=\"1\" class=\"dataframe\">\n",
       "  <thead>\n",
       "    <tr style=\"text-align: right;\">\n",
       "      <th></th>\n",
       "      <th>IOS_score</th>\n",
       "      <th>IOS_group</th>\n",
       "      <th>wc_self</th>\n",
       "      <th>wc_target</th>\n",
       "      <th>wc_intercept</th>\n",
       "      <th>Overlap_score</th>\n",
       "      <th>word_vec_avg_self</th>\n",
       "      <th>word_vec_avg_target</th>\n",
       "      <th>_merge</th>\n",
       "      <th>euclidean_distance</th>\n",
       "      <th>manhattan_distance</th>\n",
       "      <th>cosine_similarity</th>\n",
       "    </tr>\n",
       "    <tr>\n",
       "      <th>MID</th>\n",
       "      <th></th>\n",
       "      <th></th>\n",
       "      <th></th>\n",
       "      <th></th>\n",
       "      <th></th>\n",
       "      <th></th>\n",
       "      <th></th>\n",
       "      <th></th>\n",
       "      <th></th>\n",
       "      <th></th>\n",
       "      <th></th>\n",
       "      <th></th>\n",
       "    </tr>\n",
       "  </thead>\n",
       "  <tbody>\n",
       "    <tr>\n",
       "      <th>3</th>\n",
       "      <td>2</td>\n",
       "      <td>LowIOS</td>\n",
       "      <td>14</td>\n",
       "      <td>10</td>\n",
       "      <td>1</td>\n",
       "      <td>0.043478</td>\n",
       "      <td>[ 0.1058292   0.02908306  0.05915746  0.029480...</td>\n",
       "      <td>[ 0.10281058 -0.01622817  0.12231994  0.001097...</td>\n",
       "      <td>both</td>\n",
       "      <td>0.392200</td>\n",
       "      <td>2.212569</td>\n",
       "      <td>0.759</td>\n",
       "    </tr>\n",
       "    <tr>\n",
       "      <th>11</th>\n",
       "      <td>2</td>\n",
       "      <td>LowIOS</td>\n",
       "      <td>4</td>\n",
       "      <td>15</td>\n",
       "      <td>1</td>\n",
       "      <td>0.055556</td>\n",
       "      <td>[ 1.69084147e-02 -7.26589700e-03  2.11768001e-...</td>\n",
       "      <td>[ 0.06061446  0.01933753  0.0653864   0.011108...</td>\n",
       "      <td>both</td>\n",
       "      <td>0.494849</td>\n",
       "      <td>2.866378</td>\n",
       "      <td>0.720</td>\n",
       "    </tr>\n",
       "    <tr>\n",
       "      <th>13</th>\n",
       "      <td>6</td>\n",
       "      <td>HighIOS</td>\n",
       "      <td>7</td>\n",
       "      <td>6</td>\n",
       "      <td>0</td>\n",
       "      <td>0.000000</td>\n",
       "      <td>[ 0.05254399 -0.02020597  0.08731089  0.000369...</td>\n",
       "      <td>[ 1.57473356e-01 -2.42090737e-03  7.84671158e-...</td>\n",
       "      <td>both</td>\n",
       "      <td>0.448354</td>\n",
       "      <td>2.635906</td>\n",
       "      <td>0.711</td>\n",
       "    </tr>\n",
       "    <tr>\n",
       "      <th>17</th>\n",
       "      <td>3</td>\n",
       "      <td>LowIOS</td>\n",
       "      <td>15</td>\n",
       "      <td>12</td>\n",
       "      <td>3</td>\n",
       "      <td>0.125000</td>\n",
       "      <td>[ 0.04897259  0.03272291  0.11012402 -0.000982...</td>\n",
       "      <td>[ 0.10208222  0.0109177   0.06720565  0.062141...</td>\n",
       "      <td>both</td>\n",
       "      <td>0.258167</td>\n",
       "      <td>1.495546</td>\n",
       "      <td>0.879</td>\n",
       "    </tr>\n",
       "    <tr>\n",
       "      <th>22</th>\n",
       "      <td>6</td>\n",
       "      <td>HighIOS</td>\n",
       "      <td>4</td>\n",
       "      <td>15</td>\n",
       "      <td>4</td>\n",
       "      <td>0.266667</td>\n",
       "      <td>[ 0.03574508  0.05513598  0.23960969  0.043273...</td>\n",
       "      <td>[ 7.4052483e-02  3.6018115e-02  1.9052523e-01 ...</td>\n",
       "      <td>both</td>\n",
       "      <td>0.411166</td>\n",
       "      <td>2.190575</td>\n",
       "      <td>0.792</td>\n",
       "    </tr>\n",
       "  </tbody>\n",
       "</table>\n",
       "</div>"
      ],
      "text/plain": [
       "     IOS_score IOS_group  wc_self  wc_target  wc_intercept  Overlap_score  \\\n",
       "MID                                                                         \n",
       "3            2    LowIOS       14         10             1       0.043478   \n",
       "11           2    LowIOS        4         15             1       0.055556   \n",
       "13           6   HighIOS        7          6             0       0.000000   \n",
       "17           3    LowIOS       15         12             3       0.125000   \n",
       "22           6   HighIOS        4         15             4       0.266667   \n",
       "\n",
       "                                     word_vec_avg_self  \\\n",
       "MID                                                      \n",
       "3    [ 0.1058292   0.02908306  0.05915746  0.029480...   \n",
       "11   [ 1.69084147e-02 -7.26589700e-03  2.11768001e-...   \n",
       "13   [ 0.05254399 -0.02020597  0.08731089  0.000369...   \n",
       "17   [ 0.04897259  0.03272291  0.11012402 -0.000982...   \n",
       "22   [ 0.03574508  0.05513598  0.23960969  0.043273...   \n",
       "\n",
       "                                   word_vec_avg_target _merge  \\\n",
       "MID                                                             \n",
       "3    [ 0.10281058 -0.01622817  0.12231994  0.001097...   both   \n",
       "11   [ 0.06061446  0.01933753  0.0653864   0.011108...   both   \n",
       "13   [ 1.57473356e-01 -2.42090737e-03  7.84671158e-...   both   \n",
       "17   [ 0.10208222  0.0109177   0.06720565  0.062141...   both   \n",
       "22   [ 7.4052483e-02  3.6018115e-02  1.9052523e-01 ...   both   \n",
       "\n",
       "     euclidean_distance  manhattan_distance  cosine_similarity  \n",
       "MID                                                             \n",
       "3              0.392200            2.212569              0.759  \n",
       "11             0.494849            2.866378              0.720  \n",
       "13             0.448354            2.635906              0.711  \n",
       "17             0.258167            1.495546              0.879  \n",
       "22             0.411166            2.190575              0.792  "
      ]
     },
     "execution_count": 16,
     "metadata": {},
     "output_type": "execute_result"
    }
   ],
   "source": [
    "df = df.dropna()\n",
    "df.head()"
   ]
  },
  {
   "attachments": {},
   "cell_type": "markdown",
   "metadata": {},
   "source": [
    "# Descriptive Statistics on Overlap Score"
   ]
  },
  {
   "cell_type": "code",
   "execution_count": 17,
   "metadata": {},
   "outputs": [
    {
     "data": {
      "text/html": [
       "<div>\n",
       "<style scoped>\n",
       "    .dataframe tbody tr th:only-of-type {\n",
       "        vertical-align: middle;\n",
       "    }\n",
       "\n",
       "    .dataframe tbody tr th {\n",
       "        vertical-align: top;\n",
       "    }\n",
       "\n",
       "    .dataframe thead th {\n",
       "        text-align: right;\n",
       "    }\n",
       "</style>\n",
       "<table border=\"1\" class=\"dataframe\">\n",
       "  <thead>\n",
       "    <tr style=\"text-align: right;\">\n",
       "      <th></th>\n",
       "      <th>count</th>\n",
       "      <th>mean</th>\n",
       "      <th>std</th>\n",
       "      <th>min</th>\n",
       "      <th>25%</th>\n",
       "      <th>50%</th>\n",
       "      <th>75%</th>\n",
       "      <th>max</th>\n",
       "    </tr>\n",
       "  </thead>\n",
       "  <tbody>\n",
       "    <tr>\n",
       "      <th>Overlap_score</th>\n",
       "      <td>30.0</td>\n",
       "      <td>0.091445</td>\n",
       "      <td>0.083015</td>\n",
       "      <td>0.0</td>\n",
       "      <td>0.04372</td>\n",
       "      <td>0.073413</td>\n",
       "      <td>0.140476</td>\n",
       "      <td>0.375</td>\n",
       "    </tr>\n",
       "  </tbody>\n",
       "</table>\n",
       "</div>"
      ],
      "text/plain": [
       "               count      mean       std  min      25%       50%       75%  \\\n",
       "Overlap_score   30.0  0.091445  0.083015  0.0  0.04372  0.073413  0.140476   \n",
       "\n",
       "                 max  \n",
       "Overlap_score  0.375  "
      ]
     },
     "execution_count": 17,
     "metadata": {},
     "output_type": "execute_result"
    }
   ],
   "source": [
    "# Low IOS Group\n",
    "df.loc[df['IOS_group'] == 'LowIOS', ['Overlap_score']].describe().T"
   ]
  },
  {
   "cell_type": "code",
   "execution_count": 18,
   "metadata": {},
   "outputs": [
    {
     "data": {
      "text/html": [
       "<div>\n",
       "<style scoped>\n",
       "    .dataframe tbody tr th:only-of-type {\n",
       "        vertical-align: middle;\n",
       "    }\n",
       "\n",
       "    .dataframe tbody tr th {\n",
       "        vertical-align: top;\n",
       "    }\n",
       "\n",
       "    .dataframe thead th {\n",
       "        text-align: right;\n",
       "    }\n",
       "</style>\n",
       "<table border=\"1\" class=\"dataframe\">\n",
       "  <thead>\n",
       "    <tr style=\"text-align: right;\">\n",
       "      <th></th>\n",
       "      <th>count</th>\n",
       "      <th>mean</th>\n",
       "      <th>std</th>\n",
       "      <th>min</th>\n",
       "      <th>25%</th>\n",
       "      <th>50%</th>\n",
       "      <th>75%</th>\n",
       "      <th>max</th>\n",
       "    </tr>\n",
       "  </thead>\n",
       "  <tbody>\n",
       "    <tr>\n",
       "      <th>Overlap_score</th>\n",
       "      <td>23.0</td>\n",
       "      <td>0.082933</td>\n",
       "      <td>0.090257</td>\n",
       "      <td>0.0</td>\n",
       "      <td>0.0</td>\n",
       "      <td>0.064516</td>\n",
       "      <td>0.126667</td>\n",
       "      <td>0.285714</td>\n",
       "    </tr>\n",
       "  </tbody>\n",
       "</table>\n",
       "</div>"
      ],
      "text/plain": [
       "               count      mean       std  min  25%       50%       75%  \\\n",
       "Overlap_score   23.0  0.082933  0.090257  0.0  0.0  0.064516  0.126667   \n",
       "\n",
       "                    max  \n",
       "Overlap_score  0.285714  "
      ]
     },
     "execution_count": 18,
     "metadata": {},
     "output_type": "execute_result"
    }
   ],
   "source": [
    "# High IOS Group\n",
    "df.loc[df['IOS_group'] == 'HighIOS', ['Overlap_score']].describe().T"
   ]
  },
  {
   "attachments": {},
   "cell_type": "markdown",
   "metadata": {},
   "source": [
    "# Visualization"
   ]
  },
  {
   "attachments": {},
   "cell_type": "markdown",
   "metadata": {},
   "source": [
    "## Overlapping Score"
   ]
  },
  {
   "cell_type": "markdown",
   "metadata": {},
   "source": [
    "### Overlapping Score: Histogram"
   ]
  },
  {
   "cell_type": "code",
   "execution_count": 19,
   "metadata": {},
   "outputs": [
    {
     "data": {
      "text/plain": [
       "array([<Axes: title={'center': 'HighIOS'}>,\n",
       "       <Axes: title={'center': 'LowIOS'}>], dtype=object)"
      ]
     },
     "execution_count": 19,
     "metadata": {},
     "output_type": "execute_result"
    },
    {
     "data": {
      "image/png": "[encoded data removed]",
      "text/plain": [
       "<Figure size 640x480 with 2 Axes>"
      ]
     },
     "metadata": {},
     "output_type": "display_data"
    }
   ],
   "source": [
    "df['Overlap_score'].hist(by=df['IOS_group'], range=[0, 1], sharey=True)"
   ]
  },
  {
   "attachments": {},
   "cell_type": "markdown",
   "metadata": {},
   "source": [
    "### Overlapping Score: Boxplot"
   ]
  },
  {
   "cell_type": "code",
   "execution_count": 20,
   "metadata": {},
   "outputs": [
    {
     "data": {
      "text/plain": [
       "<Axes: title={'center': 'Overlap_score'}, xlabel='[IOS_group]'>"
      ]
     },
     "execution_count": 20,
     "metadata": {},
     "output_type": "execute_result"
    },
    {
     "data": {
      "image/png": "[encoded data removed]",
      "text/plain": [
       "<Figure size 640x480 with 1 Axes>"
      ]
     },
     "metadata": {},
     "output_type": "display_data"
    }
   ],
   "source": [
    "df.boxplot(column=['Overlap_score'], by=['IOS_group'])"
   ]
  },
  {
   "attachments": {},
   "cell_type": "markdown",
   "metadata": {},
   "source": [
    "### Overlapping Score: Scatter plot"
   ]
  },
  {
   "cell_type": "code",
   "execution_count": 21,
   "metadata": {},
   "outputs": [
    {
     "data": {
      "text/plain": [
       "<Axes: xlabel='Overlap_score', ylabel='IOS_score'>"
      ]
     },
     "execution_count": 21,
     "metadata": {},
     "output_type": "execute_result"
    },
    {
     "data": {
      "image/png": "[encoded data removed]",
      "text/plain": [
       "<Figure size 640x480 with 1 Axes>"
      ]
     },
     "metadata": {},
     "output_type": "display_data"
    }
   ],
   "source": [
    "sns.scatterplot(x='Overlap_score', y='IOS_score', hue='IOS_group', data=df)"
   ]
  },
  {
   "cell_type": "markdown",
   "metadata": {},
   "source": [
    "## Euclidean Distance"
   ]
  },
  {
   "cell_type": "markdown",
   "metadata": {},
   "source": [
    "### Euclidean Distance: Histogram"
   ]
  },
  {
   "cell_type": "code",
   "execution_count": 22,
   "metadata": {},
   "outputs": [
    {
     "data": {
      "text/plain": [
       "array([<Axes: title={'center': 'HighIOS'}>,\n",
       "       <Axes: title={'center': 'LowIOS'}>], dtype=object)"
      ]
     },
     "execution_count": 22,
     "metadata": {},
     "output_type": "execute_result"
    },
    {
     "data": {
      "image/png": "[encoded data removed]",
      "text/plain": [
       "<Figure size 640x480 with 2 Axes>"
      ]
     },
     "metadata": {},
     "output_type": "display_data"
    }
   ],
   "source": [
    "df['euclidean_distance'].hist(by=df['IOS_group'], range=[0, 1.5], sharey=True)"
   ]
  },
  {
   "cell_type": "markdown",
   "metadata": {},
   "source": [
    "### Euclidean Distance: Boxplot"
   ]
  },
  {
   "cell_type": "code",
   "execution_count": 23,
   "metadata": {},
   "outputs": [
    {
     "data": {
      "text/plain": [
       "<Axes: title={'center': 'euclidean_distance'}, xlabel='[IOS_group]'>"
      ]
     },
     "execution_count": 23,
     "metadata": {},
     "output_type": "execute_result"
    },
    {
     "data": {
      "image/png": "[encoded data removed]",
      "text/plain": [
       "<Figure size 640x480 with 1 Axes>"
      ]
     },
     "metadata": {},
     "output_type": "display_data"
    }
   ],
   "source": [
    "df.boxplot(column=['euclidean_distance'], by=['IOS_group'])"
   ]
  },
  {
   "cell_type": "markdown",
   "metadata": {},
   "source": [
    "### Euclidean Distance: Scatter plot"
   ]
  },
  {
   "cell_type": "code",
   "execution_count": 24,
   "metadata": {},
   "outputs": [
    {
     "data": {
      "text/plain": [
       "<Axes: xlabel='euclidean_distance', ylabel='IOS_score'>"
      ]
     },
     "execution_count": 24,
     "metadata": {},
     "output_type": "execute_result"
    },
    {
     "data": {
      "image/png": "[encoded data removed]",
      "text/plain": [
       "<Figure size 640x480 with 1 Axes>"
      ]
     },
     "metadata": {},
     "output_type": "display_data"
    }
   ],
   "source": [
    "sns.scatterplot(x='euclidean_distance', y='IOS_score', hue='IOS_group', data=df)"
   ]
  },
  {
   "cell_type": "markdown",
   "metadata": {},
   "source": [
    "## Manhattan Distance"
   ]
  },
  {
   "cell_type": "markdown",
   "metadata": {},
   "source": [
    "### Manhattan Distance: Histogram"
   ]
  },
  {
   "cell_type": "code",
   "execution_count": 25,
   "metadata": {},
   "outputs": [
    {
     "data": {
      "text/plain": [
       "array([<Axes: title={'center': 'HighIOS'}>,\n",
       "       <Axes: title={'center': 'LowIOS'}>], dtype=object)"
      ]
     },
     "execution_count": 25,
     "metadata": {},
     "output_type": "execute_result"
    },
    {
     "data": {
      "image/png": "[encoded data removed]",
      "text/plain": [
       "<Figure size 640x480 with 2 Axes>"
      ]
     },
     "metadata": {},
     "output_type": "display_data"
    }
   ],
   "source": [
    "df['manhattan_distance'].hist(by=df['IOS_group'], range=[0, 10], sharey=True)"
   ]
  },
  {
   "cell_type": "markdown",
   "metadata": {},
   "source": [
    "### Manhattan Distance: Boxplot"
   ]
  },
  {
   "cell_type": "code",
   "execution_count": 26,
   "metadata": {},
   "outputs": [
    {
     "data": {
      "text/plain": [
       "<Axes: title={'center': 'manhattan_distance'}, xlabel='[IOS_group]'>"
      ]
     },
     "execution_count": 26,
     "metadata": {},
     "output_type": "execute_result"
    },
    {
     "data": {
      "image/png": "[encoded data removed]",
      "text/plain": [
       "<Figure size 640x480 with 1 Axes>"
      ]
     },
     "metadata": {},
     "output_type": "display_data"
    }
   ],
   "source": [
    "df.boxplot(column=['manhattan_distance'], by=['IOS_group'])"
   ]
  },
  {
   "cell_type": "markdown",
   "metadata": {},
   "source": [
    "### Manhattan Distance: Scatter plot"
   ]
  },
  {
   "cell_type": "code",
   "execution_count": 27,
   "metadata": {},
   "outputs": [
    {
     "data": {
      "text/plain": [
       "<Axes: xlabel='manhattan_distance', ylabel='IOS_score'>"
      ]
     },
     "execution_count": 27,
     "metadata": {},
     "output_type": "execute_result"
    },
    {
     "data": {
      "image/png": "[encoded data removed]",
      "text/plain": [
       "<Figure size 640x480 with 1 Axes>"
      ]
     },
     "metadata": {},
     "output_type": "display_data"
    }
   ],
   "source": [
    "sns.scatterplot(x='manhattan_distance', y='IOS_score', hue='IOS_group', data=df)"
   ]
  },
  {
   "cell_type": "markdown",
   "metadata": {},
   "source": [
    "## Cosine Similarity"
   ]
  },
  {
   "cell_type": "markdown",
   "metadata": {},
   "source": [
    "### Cosine Similarity: Histogram"
   ]
  },
  {
   "cell_type": "code",
   "execution_count": 28,
   "metadata": {},
   "outputs": [
    {
     "data": {
      "text/plain": [
       "array([<Axes: title={'center': 'HighIOS'}>,\n",
       "       <Axes: title={'center': 'LowIOS'}>], dtype=object)"
      ]
     },
     "execution_count": 28,
     "metadata": {},
     "output_type": "execute_result"
    },
    {
     "data": {
      "image/png": "[encoded data removed]",
      "text/plain": [
       "<Figure size 640x480 with 2 Axes>"
      ]
     },
     "metadata": {},
     "output_type": "display_data"
    }
   ],
   "source": [
    "df['cosine_similarity'].hist(by=df['IOS_group'], range=[0, 1], sharey=True)"
   ]
  },
  {
   "cell_type": "markdown",
   "metadata": {},
   "source": [
    "### Cosine Similarity: Boxplot"
   ]
  },
  {
   "cell_type": "code",
   "execution_count": 29,
   "metadata": {},
   "outputs": [
    {
     "data": {
      "text/plain": [
       "<Axes: title={'center': 'cosine_similarity'}, xlabel='[IOS_group]'>"
      ]
     },
     "execution_count": 29,
     "metadata": {},
     "output_type": "execute_result"
    },
    {
     "data": {
      "image/png": "[encoded data removed]",
      "text/plain": [
       "<Figure size 640x480 with 1 Axes>"
      ]
     },
     "metadata": {},
     "output_type": "display_data"
    }
   ],
   "source": [
    "df.boxplot(column=['cosine_similarity'], by=['IOS_group'])"
   ]
  },
  {
   "cell_type": "markdown",
   "metadata": {},
   "source": [
    "### Cosine Similarity: Scatter plot"
   ]
  },
  {
   "cell_type": "code",
   "execution_count": 30,
   "metadata": {},
   "outputs": [
    {
     "data": {
      "text/plain": [
       "<Axes: xlabel='cosine_similarity', ylabel='IOS_score'>"
      ]
     },
     "execution_count": 30,
     "metadata": {},
     "output_type": "execute_result"
    },
    {
     "data": {
      "image/png": "[encoded data removed]",
      "text/plain": [
       "<Figure size 640x480 with 1 Axes>"
      ]
     },
     "metadata": {},
     "output_type": "display_data"
    }
   ],
   "source": [
    "sns.scatterplot(x='cosine_similarity', y='IOS_score', hue='IOS_group', data=df)"
   ]
  },
  {
   "attachments": {},
   "cell_type": "markdown",
   "metadata": {},
   "source": [
    "# Check the Outliers"
   ]
  },
  {
   "cell_type": "code",
   "execution_count": 31,
   "metadata": {},
   "outputs": [
    {
     "data": {
      "text/html": [
       "<div>\n",
       "<style scoped>\n",
       "    .dataframe tbody tr th:only-of-type {\n",
       "        vertical-align: middle;\n",
       "    }\n",
       "\n",
       "    .dataframe tbody tr th {\n",
       "        vertical-align: top;\n",
       "    }\n",
       "\n",
       "    .dataframe thead th {\n",
       "        text-align: right;\n",
       "    }\n",
       "</style>\n",
       "<table border=\"1\" class=\"dataframe\">\n",
       "  <thead>\n",
       "    <tr style=\"text-align: right;\">\n",
       "      <th></th>\n",
       "      <th>IOS_score</th>\n",
       "      <th>IOS_group</th>\n",
       "      <th>wc_self</th>\n",
       "      <th>wc_target</th>\n",
       "      <th>wc_intercept</th>\n",
       "      <th>Overlap_score</th>\n",
       "      <th>word_vec_avg_self</th>\n",
       "      <th>word_vec_avg_target</th>\n",
       "      <th>_merge</th>\n",
       "      <th>euclidean_distance</th>\n",
       "      <th>manhattan_distance</th>\n",
       "      <th>cosine_similarity</th>\n",
       "    </tr>\n",
       "    <tr>\n",
       "      <th>MID</th>\n",
       "      <th></th>\n",
       "      <th></th>\n",
       "      <th></th>\n",
       "      <th></th>\n",
       "      <th></th>\n",
       "      <th></th>\n",
       "      <th></th>\n",
       "      <th></th>\n",
       "      <th></th>\n",
       "      <th></th>\n",
       "      <th></th>\n",
       "      <th></th>\n",
       "    </tr>\n",
       "  </thead>\n",
       "  <tbody>\n",
       "  </tbody>\n",
       "</table>\n",
       "</div>"
      ],
      "text/plain": [
       "Empty DataFrame\n",
       "Columns: [IOS_score, IOS_group, wc_self, wc_target, wc_intercept, Overlap_score, word_vec_avg_self, word_vec_avg_target, _merge, euclidean_distance, manhattan_distance, cosine_similarity]\n",
       "Index: []"
      ]
     },
     "execution_count": 31,
     "metadata": {},
     "output_type": "execute_result"
    }
   ],
   "source": [
    "df.loc[df['Overlap_score'] == 1, :]"
   ]
  },
  {
   "attachments": {},
   "cell_type": "markdown",
   "metadata": {},
   "source": [
    "# Confirmatory Analyses"
   ]
  },
  {
   "attachments": {},
   "cell_type": "markdown",
   "metadata": {},
   "source": [
    "## 01: a one-tailed independent two-sample t-test\n",
    "The author had planned:\n",
    "- sample size: 51 for each group\n",
    "- alpha: 0.05\n",
    "- effect size: 0.5\n",
    "- power: 0.8"
   ]
  },
  {
   "cell_type": "code",
   "execution_count": 32,
   "metadata": {},
   "outputs": [],
   "source": [
    "groupH = df[df['IOS_group']=='HighIOS']\n",
    "groupL = df[df['IOS_group']=='LowIOS']"
   ]
  },
  {
   "cell_type": "code",
   "execution_count": 33,
   "metadata": {},
   "outputs": [
    {
     "data": {
      "text/plain": [
       "23"
      ]
     },
     "execution_count": 33,
     "metadata": {},
     "output_type": "execute_result"
    }
   ],
   "source": [
    "len(groupH)"
   ]
  },
  {
   "cell_type": "code",
   "execution_count": 34,
   "metadata": {},
   "outputs": [
    {
     "data": {
      "text/plain": [
       "30"
      ]
     },
     "execution_count": 34,
     "metadata": {},
     "output_type": "execute_result"
    }
   ],
   "source": [
    "len(groupL)"
   ]
  },
  {
   "cell_type": "markdown",
   "metadata": {},
   "source": [
    "### Overlapping Magnitude"
   ]
  },
  {
   "cell_type": "code",
   "execution_count": 35,
   "metadata": {},
   "outputs": [
    {
     "data": {
      "text/plain": [
       "TtestResult(statistic=-0.35225744329938674, pvalue=0.6368610940294006, df=45.327116461716955)"
      ]
     },
     "execution_count": 35,
     "metadata": {},
     "output_type": "execute_result"
    }
   ],
   "source": [
    "stats.ttest_ind(groupH['Overlap_score'], groupL['Overlap_score'], equal_var=False, alternative='greater') # perform Welch's t-test without assuming equal population variance."
   ]
  },
  {
   "cell_type": "code",
   "execution_count": 36,
   "metadata": {},
   "outputs": [
    {
     "data": {
      "text/plain": [
       "TtestResult(statistic=-0.35225744329938674, pvalue=0.3631389059705993, df=45.327116461716955)"
      ]
     },
     "execution_count": 36,
     "metadata": {},
     "output_type": "execute_result"
    }
   ],
   "source": [
    "stats.ttest_ind(groupH['Overlap_score'], groupL['Overlap_score'], equal_var=False, alternative='less') # perform Welch's t-test without assuming equal population variance."
   ]
  },
  {
   "cell_type": "markdown",
   "metadata": {},
   "source": [
    "### Euclidean Distance"
   ]
  },
  {
   "cell_type": "code",
   "execution_count": 37,
   "metadata": {},
   "outputs": [
    {
     "data": {
      "text/plain": [
       "TtestResult(statistic=1.030813163335521, pvalue=0.8454849577213293, df=38.68671262009021)"
      ]
     },
     "execution_count": 37,
     "metadata": {},
     "output_type": "execute_result"
    }
   ],
   "source": [
    "stats.ttest_ind(groupH['euclidean_distance'], groupL['euclidean_distance'], equal_var=False, alternative='less')"
   ]
  },
  {
   "cell_type": "code",
   "execution_count": 38,
   "metadata": {},
   "outputs": [
    {
     "data": {
      "text/plain": [
       "TtestResult(statistic=1.030813163335521, pvalue=0.1545150422786708, df=38.68671262009021)"
      ]
     },
     "execution_count": 38,
     "metadata": {},
     "output_type": "execute_result"
    }
   ],
   "source": [
    "stats.ttest_ind(groupH['euclidean_distance'], groupL['euclidean_distance'], equal_var=False, alternative='greater')"
   ]
  },
  {
   "cell_type": "markdown",
   "metadata": {},
   "source": [
    "### Manhattan Distance"
   ]
  },
  {
   "cell_type": "code",
   "execution_count": 39,
   "metadata": {},
   "outputs": [
    {
     "data": {
      "text/plain": [
       "TtestResult(statistic=0.9298762907071048, pvalue=0.8210937879006798, df=41.503060157355065)"
      ]
     },
     "execution_count": 39,
     "metadata": {},
     "output_type": "execute_result"
    }
   ],
   "source": [
    "stats.ttest_ind(groupH['manhattan_distance'], groupL['manhattan_distance'], equal_var=False, alternative='less')"
   ]
  },
  {
   "cell_type": "code",
   "execution_count": 40,
   "metadata": {},
   "outputs": [
    {
     "data": {
      "text/plain": [
       "TtestResult(statistic=0.9298762907071048, pvalue=0.17890621209932023, df=41.503060157355065)"
      ]
     },
     "execution_count": 40,
     "metadata": {},
     "output_type": "execute_result"
    }
   ],
   "source": [
    "stats.ttest_ind(groupH['manhattan_distance'], groupL['manhattan_distance'], equal_var=False, alternative='greater')"
   ]
  },
  {
   "cell_type": "markdown",
   "metadata": {},
   "source": [
    "### Cosine Similarity"
   ]
  },
  {
   "cell_type": "code",
   "execution_count": 41,
   "metadata": {},
   "outputs": [
    {
     "data": {
      "text/plain": [
       "TtestResult(statistic=-1.562960008592142, pvalue=0.9363354458236332, df=33.97770631481316)"
      ]
     },
     "execution_count": 41,
     "metadata": {},
     "output_type": "execute_result"
    }
   ],
   "source": [
    "stats.ttest_ind(groupH['cosine_similarity'], groupL['cosine_similarity'], equal_var=False, alternative='greater')"
   ]
  },
  {
   "cell_type": "code",
   "execution_count": 42,
   "metadata": {},
   "outputs": [
    {
     "data": {
      "text/plain": [
       "TtestResult(statistic=-1.562960008592142, pvalue=0.06366455417636684, df=33.97770631481316)"
      ]
     },
     "execution_count": 42,
     "metadata": {},
     "output_type": "execute_result"
    }
   ],
   "source": [
    "stats.ttest_ind(groupH['cosine_similarity'], groupL['cosine_similarity'], equal_var=False, alternative='less')"
   ]
  },
  {
   "attachments": {},
   "cell_type": "markdown",
   "metadata": {},
   "source": [
    "### Post hoc Power Analysis"
   ]
  },
  {
   "cell_type": "code",
   "execution_count": 43,
   "metadata": {},
   "outputs": [
    {
     "name": "stdout",
     "output_type": "stream",
     "text": [
      "Num. of group H: 23\n",
      "Num. of group L: 30\n"
     ]
    }
   ],
   "source": [
    "print('Num. of group H: ' + str(len(groupH)))\n",
    "print('Num. of group L: ' + str(len(groupL)))"
   ]
  },
  {
   "cell_type": "code",
   "execution_count": 44,
   "metadata": {},
   "outputs": [],
   "source": [
    "def cohens_d(x1, x2):\n",
    "    n1 = len(x1)\n",
    "    n2 = len(x2)\n",
    "    x1_mean = x1.mean()\n",
    "    x2_mean = x2.mean()\n",
    "    s1 = x1.std()\n",
    "    s2 = x2.std()\n",
    "    s = np.sqrt((n1*np.square(s1) + n2*np.square(s2)) / (n1 + n2))\n",
    "    d = np.abs(x1_mean - x2_mean) / s\n",
    "    return d"
   ]
  },
  {
   "cell_type": "code",
   "execution_count": 45,
   "metadata": {},
   "outputs": [
    {
     "name": "stdout",
     "output_type": "stream",
     "text": [
      "Cohens d (Euclidean distance): 0.2975\n",
      "Cohens d (Manhattan distance): 0.2651\n",
      "Cohens d (Cosine similarity): 0.4607\n"
     ]
    }
   ],
   "source": [
    "euclidean_d = cohens_d(groupH['euclidean_distance'], groupL['euclidean_distance'])\n",
    "print('Cohen''s d (Euclidean distance): {:.4f}'.format(euclidean_d))\n",
    "manhattan_d = cohens_d(groupH['manhattan_distance'], groupL['manhattan_distance'])\n",
    "print('Cohen''s d (Manhattan distance): {:.4f}'.format(manhattan_d))\n",
    "cosine_d = cohens_d(groupH['cosine_similarity'], groupL['cosine_similarity'])\n",
    "print('Cohen''s d (Cosine similarity): {:.4f}'.format(cosine_d))"
   ]
  },
  {
   "cell_type": "code",
   "execution_count": 46,
   "metadata": {},
   "outputs": [
    {
     "name": "stdout",
     "output_type": "stream",
     "text": [
      "Post hoc power (Euclidean distance): 0.2791\n",
      "Post hoc power (Manhattan distance): 0.2417\n",
      "Post hoc power (Cosine similarity): 0.4981\n"
     ]
    }
   ],
   "source": [
    "# Compute post hoc power powered by G*Power\n",
    "print('Post hoc power (Euclidean distance): {:.4f}'.format(0.2791))\n",
    "print('Post hoc power (Manhattan distance): {:.4f}'.format(0.2417))\n",
    "print('Post hoc power (Cosine similarity): {:.4f}'.format(0.4981))"
   ]
  },
  {
   "attachments": {},
   "cell_type": "markdown",
   "metadata": {},
   "source": [
    "## 02: Spearman's rank correlation coefficient between the IOS scores and the overlapping scores\n",
    "The author had planned:\n",
    "- sample size: 119, including participants who rated on the IOS scale as 4\n",
    "- alpha: 0.05\n",
    "- effect size: 0.3\n",
    "- power: 0.93\n",
    "- two-tailed\n"
   ]
  },
  {
   "cell_type": "markdown",
   "metadata": {},
   "source": [
    "### Overlapping score"
   ]
  },
  {
   "cell_type": "code",
   "execution_count": 47,
   "metadata": {},
   "outputs": [
    {
     "data": {
      "text/html": [
       "<div>\n",
       "<style scoped>\n",
       "    .dataframe tbody tr th:only-of-type {\n",
       "        vertical-align: middle;\n",
       "    }\n",
       "\n",
       "    .dataframe tbody tr th {\n",
       "        vertical-align: top;\n",
       "    }\n",
       "\n",
       "    .dataframe thead th {\n",
       "        text-align: right;\n",
       "    }\n",
       "</style>\n",
       "<table border=\"1\" class=\"dataframe\">\n",
       "  <thead>\n",
       "    <tr style=\"text-align: right;\">\n",
       "      <th></th>\n",
       "      <th>IOS_score</th>\n",
       "      <th>IOS_group</th>\n",
       "      <th>wc_self</th>\n",
       "      <th>wc_target</th>\n",
       "      <th>wc_intercept</th>\n",
       "      <th>Overlap_score</th>\n",
       "      <th>word_vec_avg_self</th>\n",
       "      <th>word_vec_avg_target</th>\n",
       "      <th>_merge</th>\n",
       "      <th>euclidean_distance</th>\n",
       "      <th>manhattan_distance</th>\n",
       "      <th>cosine_similarity</th>\n",
       "    </tr>\n",
       "    <tr>\n",
       "      <th>MID</th>\n",
       "      <th></th>\n",
       "      <th></th>\n",
       "      <th></th>\n",
       "      <th></th>\n",
       "      <th></th>\n",
       "      <th></th>\n",
       "      <th></th>\n",
       "      <th></th>\n",
       "      <th></th>\n",
       "      <th></th>\n",
       "      <th></th>\n",
       "      <th></th>\n",
       "    </tr>\n",
       "  </thead>\n",
       "  <tbody>\n",
       "    <tr>\n",
       "      <th>3</th>\n",
       "      <td>2</td>\n",
       "      <td>LowIOS</td>\n",
       "      <td>14</td>\n",
       "      <td>10</td>\n",
       "      <td>1</td>\n",
       "      <td>0.043478</td>\n",
       "      <td>[ 0.1058292   0.02908306  0.05915746  0.029480...</td>\n",
       "      <td>[ 0.10281058 -0.01622817  0.12231994  0.001097...</td>\n",
       "      <td>both</td>\n",
       "      <td>0.3922</td>\n",
       "      <td>2.212569</td>\n",
       "      <td>0.759</td>\n",
       "    </tr>\n",
       "  </tbody>\n",
       "</table>\n",
       "</div>"
      ],
      "text/plain": [
       "     IOS_score IOS_group  wc_self  wc_target  wc_intercept  Overlap_score  \\\n",
       "MID                                                                         \n",
       "3            2    LowIOS       14         10             1       0.043478   \n",
       "\n",
       "                                     word_vec_avg_self  \\\n",
       "MID                                                      \n",
       "3    [ 0.1058292   0.02908306  0.05915746  0.029480...   \n",
       "\n",
       "                                   word_vec_avg_target _merge  \\\n",
       "MID                                                             \n",
       "3    [ 0.10281058 -0.01622817  0.12231994  0.001097...   both   \n",
       "\n",
       "     euclidean_distance  manhattan_distance  cosine_similarity  \n",
       "MID                                                             \n",
       "3                0.3922            2.212569              0.759  "
      ]
     },
     "execution_count": 47,
     "metadata": {},
     "output_type": "execute_result"
    }
   ],
   "source": [
    "df.head(1)"
   ]
  },
  {
   "cell_type": "code",
   "execution_count": 48,
   "metadata": {},
   "outputs": [],
   "source": [
    "iosscores = df['IOS_score']\n",
    "overlapscores = df['Overlap_score']"
   ]
  },
  {
   "cell_type": "code",
   "execution_count": 49,
   "metadata": {},
   "outputs": [
    {
     "data": {
      "text/plain": [
       "SignificanceResult(statistic=-0.07380869485840447, pvalue=0.5994164727626772)"
      ]
     },
     "execution_count": 49,
     "metadata": {},
     "output_type": "execute_result"
    }
   ],
   "source": [
    "res = stats.spearmanr(iosscores, overlapscores)\n",
    "res"
   ]
  },
  {
   "cell_type": "markdown",
   "metadata": {},
   "source": [
    "### Euclidean Dsitance"
   ]
  },
  {
   "cell_type": "code",
   "execution_count": 50,
   "metadata": {},
   "outputs": [
    {
     "data": {
      "text/plain": [
       "SignificanceResult(statistic=0.12735620059322034, pvalue=0.3634733011288892)"
      ]
     },
     "execution_count": 50,
     "metadata": {},
     "output_type": "execute_result"
    }
   ],
   "source": [
    "euclidean_distance = df['euclidean_distance']\n",
    "res = stats.spearmanr(iosscores, euclidean_distance)\n",
    "res"
   ]
  },
  {
   "cell_type": "markdown",
   "metadata": {},
   "source": [
    "### Manhattan Distance"
   ]
  },
  {
   "cell_type": "code",
   "execution_count": 51,
   "metadata": {},
   "outputs": [
    {
     "data": {
      "text/plain": [
       "SignificanceResult(statistic=0.12826147891730783, pvalue=0.36004456440949073)"
      ]
     },
     "execution_count": 51,
     "metadata": {},
     "output_type": "execute_result"
    }
   ],
   "source": [
    "manhattan_distance = df['manhattan_distance']\n",
    "res = stats.spearmanr(iosscores, manhattan_distance)\n",
    "res"
   ]
  },
  {
   "cell_type": "markdown",
   "metadata": {},
   "source": [
    "### Cosine Similarity"
   ]
  },
  {
   "cell_type": "code",
   "execution_count": 52,
   "metadata": {},
   "outputs": [
    {
     "data": {
      "text/plain": [
       "SignificanceResult(statistic=-0.12789371589722792, pvalue=0.3614350813660161)"
      ]
     },
     "execution_count": 52,
     "metadata": {},
     "output_type": "execute_result"
    }
   ],
   "source": [
    "cosine_similarity = df['cosine_similarity']\n",
    "res = stats.spearmanr(iosscores, cosine_similarity)\n",
    "res"
   ]
  },
  {
   "attachments": {},
   "cell_type": "markdown",
   "metadata": {},
   "source": [
    "### Post hoc Power Analysis"
   ]
  },
  {
   "cell_type": "code",
   "execution_count": 53,
   "metadata": {},
   "outputs": [
    {
     "name": "stdout",
     "output_type": "stream",
     "text": [
      "Num. of Sumple of the IOS socre: 53\n",
      "Num. of Sumple of the Overlapping socre: 53\n"
     ]
    }
   ],
   "source": [
    "print('Num. of Sumple of the IOS socre: ' + str(len(iosscores)))\n",
    "print('Num. of Sumple of the Overlapping socre: ' + str(len(overlapscores)))"
   ]
  },
  {
   "attachments": {},
   "cell_type": "markdown",
   "metadata": {},
   "source": [
    "Achieved power: 0.23 (H1: rho1 = 0.127)"
   ]
  },
  {
   "attachments": {},
   "cell_type": "markdown",
   "metadata": {},
   "source": []
  }
 ],
 "metadata": {
  "kernelspec": {
   "display_name": "myproject02",
   "language": "python",
   "name": "python3"
  },
  "language_info": {
   "codemirror_mode": {
    "name": "ipython",
    "version": 3
   },
   "file_extension": ".py",
   "mimetype": "text/x-python",
   "name": "python",
   "nbconvert_exporter": "python",
   "pygments_lexer": "ipython3",
   "version": "3.11.5"
  },
  "orig_nbformat": 4
 },
 "nbformat": 4,
 "nbformat_minor": 2
}
