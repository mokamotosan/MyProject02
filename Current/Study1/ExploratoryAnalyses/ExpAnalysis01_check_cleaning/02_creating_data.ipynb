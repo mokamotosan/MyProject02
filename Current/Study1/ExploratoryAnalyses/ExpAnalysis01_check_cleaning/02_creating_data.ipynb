{
 "cells": [
  {
   "attachments": {},
   "cell_type": "markdown",
   "metadata": {},
   "source": [
    "# Setup"
   ]
  },
  {
   "cell_type": "code",
   "execution_count": 1,
   "metadata": {},
   "outputs": [],
   "source": [
    "import pandas as pd"
   ]
  },
  {
   "cell_type": "code",
   "execution_count": 2,
   "metadata": {},
   "outputs": [],
   "source": [
    "import numpy as np"
   ]
  },
  {
   "attachments": {},
   "cell_type": "markdown",
   "metadata": {},
   "source": [
    "# Tokenization\n",
    "We will focus on specific kinds of part-of-speech (POS), i.e.,\n",
    "- Adjectives\n",
    "- Verbs and nouns that form verbs when \"suru\" is added as a suffix\n",
    "- nouns"
   ]
  },
  {
   "attachments": {},
   "cell_type": "markdown",
   "metadata": {},
   "source": [
    "## POS tagging"
   ]
  },
  {
   "cell_type": "code",
   "execution_count": 3,
   "metadata": {},
   "outputs": [],
   "source": [
    "!mecab -o ./output01_self.txt.mecab ./output01_self.txt\n",
    "!mecab -o ./output01_target.txt.mecab ./output01_target.txt"
   ]
  },
  {
   "attachments": {},
   "cell_type": "markdown",
   "metadata": {},
   "source": [
    "## Morphological Analysis"
   ]
  },
  {
   "cell_type": "code",
   "execution_count": 4,
   "metadata": {},
   "outputs": [],
   "source": [
    "def my_morphol(filename):\n",
    "\tsentences = []\n",
    "\tsentence = []\n",
    "\tprevious_line = ''\n",
    "\tMID = -1\n",
    "\twith open(filename, mode='r') as f:\n",
    "\t\tfor line in f:\n",
    "\t\t\t# headerに相当する最初の行をスキップ\n",
    "\t\t\t# 文頭 or 文中\n",
    "\t\t\tif line != 'EOS\\n':\n",
    "\t\t\t\tfields = line.split('\\t')\n",
    "\t\t\t\tattr = fields[1].split(',')\n",
    "\t\t\t\t# 変数名行\n",
    "\t\t\t\tif previous_line == '':\n",
    "\t\t\t\t\tcontinue\n",
    "\t\t\t\t# MID行\n",
    "\t\t\t\telif fields[0] == 'MID':\n",
    "\t\t\t\t\tcontinue\n",
    "\t\t\t\t# 文頭\n",
    "\t\t\t\telif previous_line == 'EOS\\n' and attr[1] == '数':\n",
    "\t\t\t\t\tMID = int(fields[0])\n",
    "\t\t\t\t\tsentence.append(MID)\n",
    "\t\t\t\t# 文中\n",
    "\t\t\t\telse:\n",
    "\t\t\t\t\tmorph = {'surface': fields[0], 'base': attr[6], 'pos': attr[0], 'pos1': attr[1]}\n",
    "\t\t\t\t\tsentence.append(morph)\n",
    "\t\t\t# 文末（EOS行）\n",
    "\t\t\telse:\n",
    "\t\t\t\tif MID > 0 and len(sentence) > 0:\n",
    "\t\t\t\t\tsentences.append(sentence)\n",
    "\t\t\t\t\tsentence = []\n",
    "\t\t\t\t\tMID = -1\n",
    "\t\t\t\telif MID > 0 and len(sentence) == 0:\n",
    "\t\t\t\t\tsentences.append([])\n",
    "\t\t\t\t\tsentence = []\n",
    "\t\t\t\t\tMID = -1\n",
    "\n",
    "\t\t\tprevious_line = line\n",
    "\n",
    "\treturn sentences"
   ]
  },
  {
   "cell_type": "code",
   "execution_count": 5,
   "metadata": {},
   "outputs": [],
   "source": [
    "# SELF\n",
    "filename = './output01_self.txt.mecab'\n",
    "sentences_self = my_morphol(filename)"
   ]
  },
  {
   "cell_type": "code",
   "execution_count": 6,
   "metadata": {},
   "outputs": [
    {
     "data": {
      "text/plain": [
       "[2,\n",
       " {'surface': '愛想', 'base': '愛想', 'pos': '名詞', 'pos1': '一般'},\n",
       " {'surface': 'が', 'base': 'が', 'pos': '助詞', 'pos1': '格助詞'},\n",
       " {'surface': 'ない', 'base': 'ない', 'pos': '形容詞', 'pos1': '自立'}]"
      ]
     },
     "execution_count": 6,
     "metadata": {},
     "output_type": "execute_result"
    }
   ],
   "source": [
    "sentences_self[0]"
   ]
  },
  {
   "cell_type": "code",
   "execution_count": 7,
   "metadata": {},
   "outputs": [
    {
     "data": {
      "text/plain": [
       "88"
      ]
     },
     "execution_count": 7,
     "metadata": {},
     "output_type": "execute_result"
    }
   ],
   "source": [
    "len(sentences_self)"
   ]
  },
  {
   "cell_type": "code",
   "execution_count": 8,
   "metadata": {},
   "outputs": [],
   "source": [
    "# TARGET\n",
    "filename = './output01_target.txt.mecab'\n",
    "sentences_target = my_morphol(filename)"
   ]
  },
  {
   "cell_type": "code",
   "execution_count": 9,
   "metadata": {},
   "outputs": [
    {
     "data": {
      "text/plain": [
       "[2]"
      ]
     },
     "execution_count": 9,
     "metadata": {},
     "output_type": "execute_result"
    }
   ],
   "source": [
    "sentences_target[0]"
   ]
  },
  {
   "cell_type": "code",
   "execution_count": 10,
   "metadata": {},
   "outputs": [
    {
     "data": {
      "text/plain": [
       "88"
      ]
     },
     "execution_count": 10,
     "metadata": {},
     "output_type": "execute_result"
    }
   ],
   "source": [
    "len(sentences_target)"
   ]
  },
  {
   "attachments": {},
   "cell_type": "markdown",
   "metadata": {},
   "source": [
    "## Tokenization"
   ]
  },
  {
   "cell_type": "code",
   "execution_count": 11,
   "metadata": {},
   "outputs": [],
   "source": [
    "def my_tokenization(sentences):\n",
    "\tsentences_token = []\n",
    "\tsentence_token = []\n",
    "\tfor sentence in sentences:\n",
    "\t\t# sentence[0] = MID\n",
    "\t\tsentence_token.append(sentence[0])\n",
    "\n",
    "\t\tfor morph in sentence[1:]:\n",
    "\t\t\t# POS according to https://www.gavo.t.u-tokyo.ac.jp/~mine/japanese/nlp+slp/NAIST-JDIC_manual.pdf\n",
    "\t\t\t# Words for Traits\n",
    "\t\t\tif morph['pos'] == '形容詞' and morph['pos1'] == '自立':\n",
    "\t\t\t\tsentence_token.append(morph['base'])\n",
    "\t\t\telif morph['pos'] == '名詞' and morph['pos1'] == '形容動詞語幹':\n",
    "\t\t\t\tif morph['base'] != '*\\n':\n",
    "\t\t\t\t\tsentence_token.append(morph['base'])\n",
    "\t\t\telif morph['pos'] == '名詞' and morph['pos1'] == 'ナイ形容詞語幹':\n",
    "\t\t\t\tif morph['base'] != '*\\n':\n",
    "\t\t\t\t\tsentence_token.append(morph['base'])\n",
    "\n",
    "\t\t\t# Words for Behaviors\n",
    "\t\t\telif morph['pos'] == '動詞' and morph['pos1'] == '自立':\n",
    "\t\t\t\tsentence_token.append(morph['base'])\n",
    "\t\t\telif morph['pos'] == '名詞' and morph['pos1'] == 'サ変接続':\n",
    "\t\t\t\tif morph['base'] != '*\\n':\t# e.g, {'surface': '､', 'base': '*\\n', 'pos': '名詞', 'pos1': 'サ変接続'}\n",
    "\t\t\t\t\tsentence_token.append(morph['base'])\n",
    "\n",
    "\t\t\t# Words for Stereotype etc\n",
    "\t\t\telif morph['pos'] == '名詞' and morph['pos1'] == '一般':\n",
    "\t\t\t\tif morph['base'] != '*\\n':\t# e.g., {'surface': 'キャパオーバー', 'base': '*\\n', 'pos': '名詞', 'pos1': '一般'},\n",
    "\t\t\t\t\tsentence_token.append(morph['base'])\n",
    "\t\t\telif morph['pos'] == '名詞' and morph['pos1'] == '固有名詞':\n",
    "\t\t\t\tif morph['base'] != '*\\n':\t# {'surface': 'k', 'base': '*\\n', 'pos': '名詞', 'pos1': '固有名詞'}\n",
    "\t\t\t\t\tsentence_token.append(morph['base'])\n",
    "\t\t\telif morph['pos'] == '名詞' and morph['pos1'] == '代名詞':\n",
    "\t\t\t\tif morph['base'] != '*\\n':\n",
    "\t\t\t\t\tsentence_token.append(morph['base'])\n",
    "\n",
    "\t\tsentences_token.append(sentence_token)\n",
    "\t\tsentence_token = []\n",
    "\n",
    "\treturn sentences_token"
   ]
  },
  {
   "cell_type": "code",
   "execution_count": 12,
   "metadata": {},
   "outputs": [],
   "source": [
    "# def my_tokenization(sentences):\n",
    "# \tsentences_token = []\n",
    "# \tsentence_token = []\n",
    "# \tfor sentence in sentences:\n",
    "# \t\t# sentence[0] = MID\n",
    "# \t\tsentence_token.append(sentence[0])\n",
    "# \n",
    "# \t\tfor morph in sentence[1:]:\n",
    "# \t\t\t# POS according to https://www.gavo.t.u-tokyo.ac.jp/~mine/japanese/nlp+slp/NAIST-JDIC_manual.pdf\n",
    "# \t\t\t# Words for Traits\n",
    "# \t\t\tif morph['pos'] == '形容詞' and morph['pos1'] == '自立': # pos = 形容詞, pos1 = 自立\n",
    "# \t\t\t\tsentence_token.append(morph['base'])\n",
    "# \t\t\telif morph['pos'] == '名詞' and morph['pos1'] == '形容動詞語幹': # pos = 名詞, pos1 = 形容動詞語幹\n",
    "# \t\t\t\tsentence_token.append(morph['base'])\n",
    "# \t\t\telif morph['pos'] == '名詞' and morph['pos1'] == 'ナイ形容詞語幹': # pos = 名詞, pos1 = ナイ形容詞語幹\n",
    "# \t\t\t\tsentence_token.append(morph['base'])\n",
    "# \n",
    "# \t\t\t# Words for Behaviors\n",
    "# \t\t\telif morph['pos'] == '動詞' and morph['pos1'] == '自立': # pos = 動詞, pos1 = 自立\n",
    "# \t\t\t\tsentence_token.append(morph['base'])\n",
    "# \t\t\telif morph['pos'] == '名詞' and morph['pos1'] == 'サ変接続': # pos = 名詞, pos1 = サ変接続, \n",
    "# \t\t\t\tsentence_token.append(morph['base'])\n",
    "# \n",
    "# \t\t\t# Words for Stereotype etc\n",
    "# \t\t\telif morph['pos'] == '名詞' and morph['pos1'] == '一般': # pos = 名詞, 一般\n",
    "# \t\t\t\tif morph['base'] == '*\\n': # e.g., {'surface': 'キャパオーバー', 'base': '*\\n', 'pos': '名詞', 'pos1': '一般'},\n",
    "# \t\t\t\t\tsentence_token.append(morph['surface'])\n",
    "# \t\t\t\telse:\n",
    "# \t\t\t\t\tsentence_token.append(morph['base'])\n",
    "# \t\t\telif morph['pos'] == '名詞' and morph['pos1'] == '固有名詞': # pos = 名詞, 固有名詞\n",
    "# \t\t\t\tif morph['base'] == '*\\n': # {'surface': 'k', 'base': '*\\n', 'pos': '名詞', 'pos1': '固有名詞'}\n",
    "# \t\t\t\t\tsentence_token.append(morph['surface'])\n",
    "# \t\t\t\telse:\n",
    "# \t\t\t\t\tsentence_token.append(morph['base'])\n",
    "# \t\t\telif morph['pos'] == '名詞' and morph['pos1'] == '代名詞': # pos = 名詞, 代名詞\n",
    "# \t\t\t\tsentence_token.append(morph['base'])\n",
    "# \n",
    "# \t\tsentences_token.append(sentence_token)\n",
    "# \t\tsentence_token = []\n",
    "# \n",
    "# \treturn sentences_token"
   ]
  },
  {
   "cell_type": "code",
   "execution_count": 13,
   "metadata": {},
   "outputs": [],
   "source": [
    "# SELF\n",
    "sentences_token_self = my_tokenization(sentences_self)"
   ]
  },
  {
   "cell_type": "code",
   "execution_count": 14,
   "metadata": {},
   "outputs": [
    {
     "data": {
      "text/plain": [
       "[2, '愛想', 'ない']"
      ]
     },
     "execution_count": 14,
     "metadata": {},
     "output_type": "execute_result"
    }
   ],
   "source": [
    "sentences_token_self[0]"
   ]
  },
  {
   "cell_type": "code",
   "execution_count": 15,
   "metadata": {},
   "outputs": [],
   "source": [
    "# TARGET\n",
    "sentences_token_target = my_tokenization(sentences_target)"
   ]
  },
  {
   "cell_type": "code",
   "execution_count": 16,
   "metadata": {},
   "outputs": [
    {
     "data": {
      "text/plain": [
       "[2]"
      ]
     },
     "execution_count": 16,
     "metadata": {},
     "output_type": "execute_result"
    }
   ],
   "source": [
    "sentences_token_target[0]"
   ]
  },
  {
   "attachments": {},
   "cell_type": "markdown",
   "metadata": {},
   "source": [
    "# Indices\n",
    "overlapping magnitude"
   ]
  },
  {
   "attachments": {},
   "cell_type": "markdown",
   "metadata": {},
   "source": [
    "## An unoriented incidnece matrix A\n",
    "- unique words in rows\n",
    "- self and target in columns (self in the first column; target in the second column)\n",
    "- When word w_i represented in i-th row, is used to describe the self, the corresponding element a_i1 is 1, otherwise, 0."
   ]
  },
  {
   "attachments": {},
   "cell_type": "markdown",
   "metadata": {},
   "source": [
    "## A self-other overlap matrix\n",
    "tranpose(A) * A"
   ]
  },
  {
   "attachments": {},
   "cell_type": "markdown",
   "metadata": {},
   "source": [
    "## Overlapping magnitude\n",
    "n_12 / (n_11 + n_22 - n_12)"
   ]
  },
  {
   "cell_type": "code",
   "execution_count": 17,
   "metadata": {},
   "outputs": [],
   "source": [
    "mid_list = []\n",
    "wc_self = []\n",
    "wc_target = []\n",
    "wc_intercept = []\n",
    "overlap_magnitude_list = []\n",
    "for tokens_self, tokens_target in zip(sentences_token_self, sentences_token_target):\n",
    "\t\n",
    "\ttry:\n",
    "\t\ttokens_self[0] == tokens_target[0] # compare the MIDs\n",
    "\texcept:\n",
    "\t\tprint('The MIDs do not match: the self mid is ' + str(tokens_self[0]) + ', while the target mid is ' + str(tokens_target[0]))\n",
    "\telse:\n",
    "\n",
    "\t\tif len(tokens_self) > 1 and len(tokens_target) > 1:\n",
    "\t\t\t# Create a dictionary\n",
    "\t\t\td = {\n",
    "\t\t\t\t'word': tokens_self[1:] + tokens_target[1:],\n",
    "\t\t\t\t'cond': ['self'] * (len(tokens_self[1:])) + ['target'] * (len(tokens_target[1:]))\n",
    "\t\t\t}\n",
    "\t\t\t# Create a dataframe\n",
    "\t\t\tdf = pd.DataFrame(data=d)\n",
    "\t\t\t# Create a crosstab\n",
    "\t\t\tctab = pd.crosstab(df['word'], df['cond'])\n",
    "\n",
    "\t\t\t# Create an Unoriented Incidence Matrix\n",
    "\t\t\tctab_bin = ctab > 0\t\t# 0 for 0, otherwise (>0) 1\n",
    "\t\t\tincidence_matrix = ctab_bin * 1 # covnert (True, False) to (1, 0)\n",
    "\t\n",
    "\t\t\t# Create a Co-Membership Matrix\n",
    "\t\t\tcomembership_matrix = incidence_matrix.T.dot(incidence_matrix)\n",
    "\n",
    "\t\t\t# Compute an Overlap Magnitude\n",
    "\t\t\tn11 = comembership_matrix.loc['self', 'self']\n",
    "\t\t\tn22 = comembership_matrix.loc['target', 'target']\n",
    "\t\t\tn12 = comembership_matrix.loc['self', 'target']\n",
    "\t\t\toverlap_magnitude = n12 / (n11 + n22 - n12)\n",
    "\t\telif len(tokens_self) == 1 and len(tokens_target) > 1: # no words for self except for MID\n",
    "\t\t\t# Compute an Overlap Magnitude\n",
    "\t\t\tn11 = 0\n",
    "\t\t\tn22 = len(set(tokens_target[1:]))\n",
    "\t\t\tn12 = 0\n",
    "\t\t\toverlap_magnitude = n12 / (n11 + n22 - n12)\n",
    "\t\telif len(tokens_self) > 1 and len(tokens_target) == 1: # no words for target except for MID\n",
    "\t\t\t# Compute an Overlap Magnitude\n",
    "\t\t\tn11 = len(set(tokens_self[1:]))\n",
    "\t\t\tn22 = 0\n",
    "\t\t\tn12 = 0\n",
    "\t\t\toverlap_magnitude = n12 / (n11 + n22 - n12)\n",
    "\t\telif len(tokens_self) == 1 and len(tokens_target) == 1:\n",
    "\t\t\t# Compute an Overlap Magnitude\n",
    "\t\t\tn11 = 0\n",
    "\t\t\tn22 = 0\n",
    "\t\t\tn12 = 0\n",
    "\t\t\toverlap_magnitude = np.nan\n",
    "\t\telse:\n",
    "\t\t\t# will be replaced with NaN in a DataFrame\n",
    "\t\t\toverlap_magnitude = np.nan \n",
    "\n",
    "\t\tmid_list.append(tokens_self[0])\n",
    "\t\twc_self.append(n11)\n",
    "\t\twc_target.append(n22)\n",
    "\t\twc_intercept.append(n12)\n",
    "\t\toverlap_magnitude_list.append(overlap_magnitude)\n"
   ]
  },
  {
   "cell_type": "code",
   "execution_count": 18,
   "metadata": {},
   "outputs": [
    {
     "data": {
      "text/plain": [
       "88"
      ]
     },
     "execution_count": 18,
     "metadata": {},
     "output_type": "execute_result"
    }
   ],
   "source": [
    "overlap_magnitude_df = pd.DataFrame({\n",
    "\t'MID': mid_list,\n",
    "\t'wc_self': wc_self,\n",
    "\t'wc_target': wc_target,\n",
    "\t'wc_intercept': wc_intercept,\n",
    "\t'Overlap_score': overlap_magnitude_list})\n",
    "overlap_magnitude_df.set_index('MID')\n",
    "len(overlap_magnitude_df)"
   ]
  },
  {
   "cell_type": "code",
   "execution_count": 19,
   "metadata": {},
   "outputs": [
    {
     "data": {
      "text/html": [
       "<div>\n",
       "<style scoped>\n",
       "    .dataframe tbody tr th:only-of-type {\n",
       "        vertical-align: middle;\n",
       "    }\n",
       "\n",
       "    .dataframe tbody tr th {\n",
       "        vertical-align: top;\n",
       "    }\n",
       "\n",
       "    .dataframe thead th {\n",
       "        text-align: right;\n",
       "    }\n",
       "</style>\n",
       "<table border=\"1\" class=\"dataframe\">\n",
       "  <thead>\n",
       "    <tr style=\"text-align: right;\">\n",
       "      <th></th>\n",
       "      <th>MID</th>\n",
       "      <th>wc_self</th>\n",
       "      <th>wc_target</th>\n",
       "      <th>wc_intercept</th>\n",
       "      <th>Overlap_score</th>\n",
       "    </tr>\n",
       "  </thead>\n",
       "  <tbody>\n",
       "    <tr>\n",
       "      <th>0</th>\n",
       "      <td>2</td>\n",
       "      <td>2</td>\n",
       "      <td>0</td>\n",
       "      <td>0</td>\n",
       "      <td>0.000000</td>\n",
       "    </tr>\n",
       "    <tr>\n",
       "      <th>1</th>\n",
       "      <td>3</td>\n",
       "      <td>14</td>\n",
       "      <td>10</td>\n",
       "      <td>1</td>\n",
       "      <td>0.043478</td>\n",
       "    </tr>\n",
       "    <tr>\n",
       "      <th>2</th>\n",
       "      <td>5</td>\n",
       "      <td>2</td>\n",
       "      <td>0</td>\n",
       "      <td>0</td>\n",
       "      <td>0.000000</td>\n",
       "    </tr>\n",
       "    <tr>\n",
       "      <th>3</th>\n",
       "      <td>8</td>\n",
       "      <td>0</td>\n",
       "      <td>2</td>\n",
       "      <td>0</td>\n",
       "      <td>0.000000</td>\n",
       "    </tr>\n",
       "    <tr>\n",
       "      <th>4</th>\n",
       "      <td>9</td>\n",
       "      <td>4</td>\n",
       "      <td>0</td>\n",
       "      <td>0</td>\n",
       "      <td>0.000000</td>\n",
       "    </tr>\n",
       "  </tbody>\n",
       "</table>\n",
       "</div>"
      ],
      "text/plain": [
       "   MID  wc_self  wc_target  wc_intercept  Overlap_score\n",
       "0    2        2          0             0       0.000000\n",
       "1    3       14         10             1       0.043478\n",
       "2    5        2          0             0       0.000000\n",
       "3    8        0          2             0       0.000000\n",
       "4    9        4          0             0       0.000000"
      ]
     },
     "execution_count": 19,
     "metadata": {},
     "output_type": "execute_result"
    }
   ],
   "source": [
    "overlap_magnitude_df.head()"
   ]
  },
  {
   "cell_type": "code",
   "execution_count": 20,
   "metadata": {},
   "outputs": [
    {
     "data": {
      "text/html": [
       "<div>\n",
       "<style scoped>\n",
       "    .dataframe tbody tr th:only-of-type {\n",
       "        vertical-align: middle;\n",
       "    }\n",
       "\n",
       "    .dataframe tbody tr th {\n",
       "        vertical-align: top;\n",
       "    }\n",
       "\n",
       "    .dataframe thead th {\n",
       "        text-align: right;\n",
       "    }\n",
       "</style>\n",
       "<table border=\"1\" class=\"dataframe\">\n",
       "  <thead>\n",
       "    <tr style=\"text-align: right;\">\n",
       "      <th></th>\n",
       "      <th>MID</th>\n",
       "      <th>wc_self</th>\n",
       "      <th>wc_target</th>\n",
       "      <th>wc_intercept</th>\n",
       "      <th>Overlap_score</th>\n",
       "    </tr>\n",
       "  </thead>\n",
       "  <tbody>\n",
       "    <tr>\n",
       "      <th>83</th>\n",
       "      <td>174</td>\n",
       "      <td>5</td>\n",
       "      <td>11</td>\n",
       "      <td>0</td>\n",
       "      <td>0.000000</td>\n",
       "    </tr>\n",
       "    <tr>\n",
       "      <th>84</th>\n",
       "      <td>176</td>\n",
       "      <td>9</td>\n",
       "      <td>9</td>\n",
       "      <td>4</td>\n",
       "      <td>0.285714</td>\n",
       "    </tr>\n",
       "    <tr>\n",
       "      <th>85</th>\n",
       "      <td>177</td>\n",
       "      <td>6</td>\n",
       "      <td>1</td>\n",
       "      <td>0</td>\n",
       "      <td>0.000000</td>\n",
       "    </tr>\n",
       "    <tr>\n",
       "      <th>86</th>\n",
       "      <td>181</td>\n",
       "      <td>0</td>\n",
       "      <td>0</td>\n",
       "      <td>0</td>\n",
       "      <td>NaN</td>\n",
       "    </tr>\n",
       "    <tr>\n",
       "      <th>87</th>\n",
       "      <td>182</td>\n",
       "      <td>19</td>\n",
       "      <td>38</td>\n",
       "      <td>6</td>\n",
       "      <td>0.117647</td>\n",
       "    </tr>\n",
       "  </tbody>\n",
       "</table>\n",
       "</div>"
      ],
      "text/plain": [
       "    MID  wc_self  wc_target  wc_intercept  Overlap_score\n",
       "83  174        5         11             0       0.000000\n",
       "84  176        9          9             4       0.285714\n",
       "85  177        6          1             0       0.000000\n",
       "86  181        0          0             0            NaN\n",
       "87  182       19         38             6       0.117647"
      ]
     },
     "execution_count": 20,
     "metadata": {},
     "output_type": "execute_result"
    }
   ],
   "source": [
    "overlap_magnitude_df.tail()"
   ]
  },
  {
   "attachments": {},
   "cell_type": "markdown",
   "metadata": {},
   "source": [
    "# Transformation\n",
    "High IOS group (5, 6, 7) and Low IOS group (1, 2, and 3)"
   ]
  },
  {
   "cell_type": "code",
   "execution_count": 21,
   "metadata": {},
   "outputs": [
    {
     "data": {
      "text/html": [
       "<div>\n",
       "<style scoped>\n",
       "    .dataframe tbody tr th:only-of-type {\n",
       "        vertical-align: middle;\n",
       "    }\n",
       "\n",
       "    .dataframe tbody tr th {\n",
       "        vertical-align: top;\n",
       "    }\n",
       "\n",
       "    .dataframe thead th {\n",
       "        text-align: right;\n",
       "    }\n",
       "</style>\n",
       "<table border=\"1\" class=\"dataframe\">\n",
       "  <thead>\n",
       "    <tr style=\"text-align: right;\">\n",
       "      <th></th>\n",
       "      <th>MID</th>\n",
       "      <th>start</th>\n",
       "      <th>end</th>\n",
       "      <th>rt</th>\n",
       "      <th>self_sex</th>\n",
       "      <th>self_age</th>\n",
       "      <th>residence</th>\n",
       "      <th>participation</th>\n",
       "      <th>IOS_score</th>\n",
       "      <th>target_likedislike</th>\n",
       "      <th>...</th>\n",
       "      <th>self_activeness_score</th>\n",
       "      <th>self_sociability_score</th>\n",
       "      <th>target_tolerance_score</th>\n",
       "      <th>target_pleasantness_score</th>\n",
       "      <th>target_responsibility_score</th>\n",
       "      <th>target_carefulness_score</th>\n",
       "      <th>target_activeness_score</th>\n",
       "      <th>target_sociability_score</th>\n",
       "      <th>completion</th>\n",
       "      <th>stratumID</th>\n",
       "    </tr>\n",
       "  </thead>\n",
       "  <tbody>\n",
       "    <tr>\n",
       "      <th>0</th>\n",
       "      <td>2</td>\n",
       "      <td>2023/05/19-12:49:10</td>\n",
       "      <td>2023/05/19-12:52:07</td>\n",
       "      <td>177.0</td>\n",
       "      <td>1</td>\n",
       "      <td>40</td>\n",
       "      <td>7</td>\n",
       "      <td>1</td>\n",
       "      <td>5</td>\n",
       "      <td>2</td>\n",
       "      <td>...</td>\n",
       "      <td>2</td>\n",
       "      <td>2</td>\n",
       "      <td>5</td>\n",
       "      <td>5</td>\n",
       "      <td>3</td>\n",
       "      <td>3</td>\n",
       "      <td>3</td>\n",
       "      <td>4</td>\n",
       "      <td>COMP</td>\n",
       "      <td>5</td>\n",
       "    </tr>\n",
       "    <tr>\n",
       "      <th>1</th>\n",
       "      <td>3</td>\n",
       "      <td>2023/05/19-12:49:28</td>\n",
       "      <td>2023/05/19-12:55:05</td>\n",
       "      <td>337.0</td>\n",
       "      <td>2</td>\n",
       "      <td>40</td>\n",
       "      <td>23</td>\n",
       "      <td>1</td>\n",
       "      <td>2</td>\n",
       "      <td>2</td>\n",
       "      <td>...</td>\n",
       "      <td>1</td>\n",
       "      <td>2</td>\n",
       "      <td>1</td>\n",
       "      <td>7</td>\n",
       "      <td>2</td>\n",
       "      <td>7</td>\n",
       "      <td>7</td>\n",
       "      <td>2</td>\n",
       "      <td>COMP</td>\n",
       "      <td>2</td>\n",
       "    </tr>\n",
       "    <tr>\n",
       "      <th>2</th>\n",
       "      <td>5</td>\n",
       "      <td>2023/05/19-12:54:24</td>\n",
       "      <td>2023/05/19-12:57:31</td>\n",
       "      <td>187.0</td>\n",
       "      <td>1</td>\n",
       "      <td>46</td>\n",
       "      <td>18</td>\n",
       "      <td>1</td>\n",
       "      <td>2</td>\n",
       "      <td>3</td>\n",
       "      <td>...</td>\n",
       "      <td>4</td>\n",
       "      <td>4</td>\n",
       "      <td>3</td>\n",
       "      <td>5</td>\n",
       "      <td>4</td>\n",
       "      <td>4</td>\n",
       "      <td>3</td>\n",
       "      <td>4</td>\n",
       "      <td>COMP</td>\n",
       "      <td>2</td>\n",
       "    </tr>\n",
       "    <tr>\n",
       "      <th>3</th>\n",
       "      <td>8</td>\n",
       "      <td>2023/05/19-12:57:23</td>\n",
       "      <td>2023/05/19-13:00:14</td>\n",
       "      <td>171.0</td>\n",
       "      <td>2</td>\n",
       "      <td>39</td>\n",
       "      <td>13</td>\n",
       "      <td>1</td>\n",
       "      <td>7</td>\n",
       "      <td>4</td>\n",
       "      <td>...</td>\n",
       "      <td>7</td>\n",
       "      <td>1</td>\n",
       "      <td>7</td>\n",
       "      <td>5</td>\n",
       "      <td>7</td>\n",
       "      <td>4</td>\n",
       "      <td>7</td>\n",
       "      <td>1</td>\n",
       "      <td>COMP</td>\n",
       "      <td>14</td>\n",
       "    </tr>\n",
       "    <tr>\n",
       "      <th>4</th>\n",
       "      <td>9</td>\n",
       "      <td>2023/05/19-12:55:51</td>\n",
       "      <td>2023/05/19-13:01:43</td>\n",
       "      <td>352.0</td>\n",
       "      <td>1</td>\n",
       "      <td>49</td>\n",
       "      <td>13</td>\n",
       "      <td>1</td>\n",
       "      <td>1</td>\n",
       "      <td>4</td>\n",
       "      <td>...</td>\n",
       "      <td>3</td>\n",
       "      <td>5</td>\n",
       "      <td>3</td>\n",
       "      <td>2</td>\n",
       "      <td>2</td>\n",
       "      <td>4</td>\n",
       "      <td>3</td>\n",
       "      <td>5</td>\n",
       "      <td>COMP</td>\n",
       "      <td>8</td>\n",
       "    </tr>\n",
       "  </tbody>\n",
       "</table>\n",
       "<p>5 rows × 27 columns</p>\n",
       "</div>"
      ],
      "text/plain": [
       "   MID                start                  end     rt  self_sex  self_age  \\\n",
       "0    2  2023/05/19-12:49:10  2023/05/19-12:52:07  177.0         1        40   \n",
       "1    3  2023/05/19-12:49:28  2023/05/19-12:55:05  337.0         2        40   \n",
       "2    5  2023/05/19-12:54:24  2023/05/19-12:57:31  187.0         1        46   \n",
       "3    8  2023/05/19-12:57:23  2023/05/19-13:00:14  171.0         2        39   \n",
       "4    9  2023/05/19-12:55:51  2023/05/19-13:01:43  352.0         1        49   \n",
       "\n",
       "   residence  participation  IOS_score  target_likedislike  ...  \\\n",
       "0          7              1          5                   2  ...   \n",
       "1         23              1          2                   2  ...   \n",
       "2         18              1          2                   3  ...   \n",
       "3         13              1          7                   4  ...   \n",
       "4         13              1          1                   4  ...   \n",
       "\n",
       "   self_activeness_score  self_sociability_score target_tolerance_score  \\\n",
       "0                      2                       2                      5   \n",
       "1                      1                       2                      1   \n",
       "2                      4                       4                      3   \n",
       "3                      7                       1                      7   \n",
       "4                      3                       5                      3   \n",
       "\n",
       "   target_pleasantness_score  target_responsibility_score  \\\n",
       "0                          5                            3   \n",
       "1                          7                            2   \n",
       "2                          5                            4   \n",
       "3                          5                            7   \n",
       "4                          2                            2   \n",
       "\n",
       "   target_carefulness_score  target_activeness_score  \\\n",
       "0                         3                        3   \n",
       "1                         7                        7   \n",
       "2                         4                        3   \n",
       "3                         4                        7   \n",
       "4                         4                        3   \n",
       "\n",
       "   target_sociability_score  completion  stratumID  \n",
       "0                         4        COMP          5  \n",
       "1                         2        COMP          2  \n",
       "2                         4        COMP          2  \n",
       "3                         1        COMP         14  \n",
       "4                         5        COMP          8  \n",
       "\n",
       "[5 rows x 27 columns]"
      ]
     },
     "execution_count": 21,
     "metadata": {},
     "output_type": "execute_result"
    }
   ],
   "source": [
    "df = pd.read_csv('./output01_all.csv')\n",
    "df.head()"
   ]
  },
  {
   "cell_type": "code",
   "execution_count": 22,
   "metadata": {},
   "outputs": [],
   "source": [
    "HighIOS_indices = df['IOS_score'] > 4\n",
    "LowIOS_indices = df['IOS_score'] < 4"
   ]
  },
  {
   "cell_type": "code",
   "execution_count": 23,
   "metadata": {},
   "outputs": [
    {
     "data": {
      "text/html": [
       "<div>\n",
       "<style scoped>\n",
       "    .dataframe tbody tr th:only-of-type {\n",
       "        vertical-align: middle;\n",
       "    }\n",
       "\n",
       "    .dataframe tbody tr th {\n",
       "        vertical-align: top;\n",
       "    }\n",
       "\n",
       "    .dataframe thead th {\n",
       "        text-align: right;\n",
       "    }\n",
       "</style>\n",
       "<table border=\"1\" class=\"dataframe\">\n",
       "  <thead>\n",
       "    <tr style=\"text-align: right;\">\n",
       "      <th></th>\n",
       "      <th>MID</th>\n",
       "      <th>start</th>\n",
       "      <th>end</th>\n",
       "      <th>rt</th>\n",
       "      <th>self_sex</th>\n",
       "      <th>self_age</th>\n",
       "      <th>residence</th>\n",
       "      <th>participation</th>\n",
       "      <th>IOS_score</th>\n",
       "      <th>target_likedislike</th>\n",
       "      <th>...</th>\n",
       "      <th>self_sociability_score</th>\n",
       "      <th>target_tolerance_score</th>\n",
       "      <th>target_pleasantness_score</th>\n",
       "      <th>target_responsibility_score</th>\n",
       "      <th>target_carefulness_score</th>\n",
       "      <th>target_activeness_score</th>\n",
       "      <th>target_sociability_score</th>\n",
       "      <th>completion</th>\n",
       "      <th>stratumID</th>\n",
       "      <th>IOS_group</th>\n",
       "    </tr>\n",
       "  </thead>\n",
       "  <tbody>\n",
       "    <tr>\n",
       "      <th>0</th>\n",
       "      <td>2</td>\n",
       "      <td>2023/05/19-12:49:10</td>\n",
       "      <td>2023/05/19-12:52:07</td>\n",
       "      <td>177.0</td>\n",
       "      <td>1</td>\n",
       "      <td>40</td>\n",
       "      <td>7</td>\n",
       "      <td>1</td>\n",
       "      <td>5</td>\n",
       "      <td>2</td>\n",
       "      <td>...</td>\n",
       "      <td>2</td>\n",
       "      <td>5</td>\n",
       "      <td>5</td>\n",
       "      <td>3</td>\n",
       "      <td>3</td>\n",
       "      <td>3</td>\n",
       "      <td>4</td>\n",
       "      <td>COMP</td>\n",
       "      <td>5</td>\n",
       "      <td>HighIOS</td>\n",
       "    </tr>\n",
       "    <tr>\n",
       "      <th>1</th>\n",
       "      <td>3</td>\n",
       "      <td>2023/05/19-12:49:28</td>\n",
       "      <td>2023/05/19-12:55:05</td>\n",
       "      <td>337.0</td>\n",
       "      <td>2</td>\n",
       "      <td>40</td>\n",
       "      <td>23</td>\n",
       "      <td>1</td>\n",
       "      <td>2</td>\n",
       "      <td>2</td>\n",
       "      <td>...</td>\n",
       "      <td>2</td>\n",
       "      <td>1</td>\n",
       "      <td>7</td>\n",
       "      <td>2</td>\n",
       "      <td>7</td>\n",
       "      <td>7</td>\n",
       "      <td>2</td>\n",
       "      <td>COMP</td>\n",
       "      <td>2</td>\n",
       "      <td>LowIOS</td>\n",
       "    </tr>\n",
       "    <tr>\n",
       "      <th>2</th>\n",
       "      <td>5</td>\n",
       "      <td>2023/05/19-12:54:24</td>\n",
       "      <td>2023/05/19-12:57:31</td>\n",
       "      <td>187.0</td>\n",
       "      <td>1</td>\n",
       "      <td>46</td>\n",
       "      <td>18</td>\n",
       "      <td>1</td>\n",
       "      <td>2</td>\n",
       "      <td>3</td>\n",
       "      <td>...</td>\n",
       "      <td>4</td>\n",
       "      <td>3</td>\n",
       "      <td>5</td>\n",
       "      <td>4</td>\n",
       "      <td>4</td>\n",
       "      <td>3</td>\n",
       "      <td>4</td>\n",
       "      <td>COMP</td>\n",
       "      <td>2</td>\n",
       "      <td>LowIOS</td>\n",
       "    </tr>\n",
       "    <tr>\n",
       "      <th>3</th>\n",
       "      <td>8</td>\n",
       "      <td>2023/05/19-12:57:23</td>\n",
       "      <td>2023/05/19-13:00:14</td>\n",
       "      <td>171.0</td>\n",
       "      <td>2</td>\n",
       "      <td>39</td>\n",
       "      <td>13</td>\n",
       "      <td>1</td>\n",
       "      <td>7</td>\n",
       "      <td>4</td>\n",
       "      <td>...</td>\n",
       "      <td>1</td>\n",
       "      <td>7</td>\n",
       "      <td>5</td>\n",
       "      <td>7</td>\n",
       "      <td>4</td>\n",
       "      <td>7</td>\n",
       "      <td>1</td>\n",
       "      <td>COMP</td>\n",
       "      <td>14</td>\n",
       "      <td>HighIOS</td>\n",
       "    </tr>\n",
       "    <tr>\n",
       "      <th>4</th>\n",
       "      <td>9</td>\n",
       "      <td>2023/05/19-12:55:51</td>\n",
       "      <td>2023/05/19-13:01:43</td>\n",
       "      <td>352.0</td>\n",
       "      <td>1</td>\n",
       "      <td>49</td>\n",
       "      <td>13</td>\n",
       "      <td>1</td>\n",
       "      <td>1</td>\n",
       "      <td>4</td>\n",
       "      <td>...</td>\n",
       "      <td>5</td>\n",
       "      <td>3</td>\n",
       "      <td>2</td>\n",
       "      <td>2</td>\n",
       "      <td>4</td>\n",
       "      <td>3</td>\n",
       "      <td>5</td>\n",
       "      <td>COMP</td>\n",
       "      <td>8</td>\n",
       "      <td>LowIOS</td>\n",
       "    </tr>\n",
       "  </tbody>\n",
       "</table>\n",
       "<p>5 rows × 28 columns</p>\n",
       "</div>"
      ],
      "text/plain": [
       "   MID                start                  end     rt  self_sex  self_age  \\\n",
       "0    2  2023/05/19-12:49:10  2023/05/19-12:52:07  177.0         1        40   \n",
       "1    3  2023/05/19-12:49:28  2023/05/19-12:55:05  337.0         2        40   \n",
       "2    5  2023/05/19-12:54:24  2023/05/19-12:57:31  187.0         1        46   \n",
       "3    8  2023/05/19-12:57:23  2023/05/19-13:00:14  171.0         2        39   \n",
       "4    9  2023/05/19-12:55:51  2023/05/19-13:01:43  352.0         1        49   \n",
       "\n",
       "   residence  participation  IOS_score  target_likedislike  ...  \\\n",
       "0          7              1          5                   2  ...   \n",
       "1         23              1          2                   2  ...   \n",
       "2         18              1          2                   3  ...   \n",
       "3         13              1          7                   4  ...   \n",
       "4         13              1          1                   4  ...   \n",
       "\n",
       "   self_sociability_score  target_tolerance_score target_pleasantness_score  \\\n",
       "0                       2                       5                         5   \n",
       "1                       2                       1                         7   \n",
       "2                       4                       3                         5   \n",
       "3                       1                       7                         5   \n",
       "4                       5                       3                         2   \n",
       "\n",
       "   target_responsibility_score  target_carefulness_score  \\\n",
       "0                            3                         3   \n",
       "1                            2                         7   \n",
       "2                            4                         4   \n",
       "3                            7                         4   \n",
       "4                            2                         4   \n",
       "\n",
       "   target_activeness_score  target_sociability_score  completion  stratumID  \\\n",
       "0                        3                         4        COMP          5   \n",
       "1                        7                         2        COMP          2   \n",
       "2                        3                         4        COMP          2   \n",
       "3                        7                         1        COMP         14   \n",
       "4                        3                         5        COMP          8   \n",
       "\n",
       "   IOS_group  \n",
       "0    HighIOS  \n",
       "1     LowIOS  \n",
       "2     LowIOS  \n",
       "3    HighIOS  \n",
       "4     LowIOS  \n",
       "\n",
       "[5 rows x 28 columns]"
      ]
     },
     "execution_count": 23,
     "metadata": {},
     "output_type": "execute_result"
    }
   ],
   "source": [
    "# df にIOS_group列を追加\n",
    "df['IOS_group'] = ['Neither'] * len(df)\n",
    "df.loc[HighIOS_indices, ['IOS_group']] = 'HighIOS'\n",
    "df.loc[LowIOS_indices, ['IOS_group']] = 'LowIOS'\n",
    "df.head()"
   ]
  },
  {
   "attachments": {},
   "cell_type": "markdown",
   "metadata": {},
   "source": [
    "# Output"
   ]
  },
  {
   "cell_type": "code",
   "execution_count": 24,
   "metadata": {},
   "outputs": [
    {
     "data": {
      "text/html": [
       "<div>\n",
       "<style scoped>\n",
       "    .dataframe tbody tr th:only-of-type {\n",
       "        vertical-align: middle;\n",
       "    }\n",
       "\n",
       "    .dataframe tbody tr th {\n",
       "        vertical-align: top;\n",
       "    }\n",
       "\n",
       "    .dataframe thead th {\n",
       "        text-align: right;\n",
       "    }\n",
       "</style>\n",
       "<table border=\"1\" class=\"dataframe\">\n",
       "  <thead>\n",
       "    <tr style=\"text-align: right;\">\n",
       "      <th></th>\n",
       "      <th>MID</th>\n",
       "      <th>wc_self</th>\n",
       "      <th>wc_target</th>\n",
       "      <th>wc_intercept</th>\n",
       "      <th>Overlap_score</th>\n",
       "    </tr>\n",
       "  </thead>\n",
       "  <tbody>\n",
       "    <tr>\n",
       "      <th>0</th>\n",
       "      <td>2</td>\n",
       "      <td>2</td>\n",
       "      <td>0</td>\n",
       "      <td>0</td>\n",
       "      <td>0.000000</td>\n",
       "    </tr>\n",
       "    <tr>\n",
       "      <th>1</th>\n",
       "      <td>3</td>\n",
       "      <td>14</td>\n",
       "      <td>10</td>\n",
       "      <td>1</td>\n",
       "      <td>0.043478</td>\n",
       "    </tr>\n",
       "    <tr>\n",
       "      <th>2</th>\n",
       "      <td>5</td>\n",
       "      <td>2</td>\n",
       "      <td>0</td>\n",
       "      <td>0</td>\n",
       "      <td>0.000000</td>\n",
       "    </tr>\n",
       "    <tr>\n",
       "      <th>3</th>\n",
       "      <td>8</td>\n",
       "      <td>0</td>\n",
       "      <td>2</td>\n",
       "      <td>0</td>\n",
       "      <td>0.000000</td>\n",
       "    </tr>\n",
       "    <tr>\n",
       "      <th>4</th>\n",
       "      <td>9</td>\n",
       "      <td>4</td>\n",
       "      <td>0</td>\n",
       "      <td>0</td>\n",
       "      <td>0.000000</td>\n",
       "    </tr>\n",
       "  </tbody>\n",
       "</table>\n",
       "</div>"
      ],
      "text/plain": [
       "   MID  wc_self  wc_target  wc_intercept  Overlap_score\n",
       "0    2        2          0             0       0.000000\n",
       "1    3       14         10             1       0.043478\n",
       "2    5        2          0             0       0.000000\n",
       "3    8        0          2             0       0.000000\n",
       "4    9        4          0             0       0.000000"
      ]
     },
     "execution_count": 24,
     "metadata": {},
     "output_type": "execute_result"
    }
   ],
   "source": [
    "overlap_magnitude_df.head()"
   ]
  },
  {
   "cell_type": "code",
   "execution_count": 25,
   "metadata": {},
   "outputs": [
    {
     "data": {
      "text/html": [
       "<div>\n",
       "<style scoped>\n",
       "    .dataframe tbody tr th:only-of-type {\n",
       "        vertical-align: middle;\n",
       "    }\n",
       "\n",
       "    .dataframe tbody tr th {\n",
       "        vertical-align: top;\n",
       "    }\n",
       "\n",
       "    .dataframe thead th {\n",
       "        text-align: right;\n",
       "    }\n",
       "</style>\n",
       "<table border=\"1\" class=\"dataframe\">\n",
       "  <thead>\n",
       "    <tr style=\"text-align: right;\">\n",
       "      <th></th>\n",
       "      <th>MID</th>\n",
       "      <th>IOS_group</th>\n",
       "    </tr>\n",
       "  </thead>\n",
       "  <tbody>\n",
       "    <tr>\n",
       "      <th>0</th>\n",
       "      <td>2</td>\n",
       "      <td>HighIOS</td>\n",
       "    </tr>\n",
       "    <tr>\n",
       "      <th>1</th>\n",
       "      <td>3</td>\n",
       "      <td>LowIOS</td>\n",
       "    </tr>\n",
       "    <tr>\n",
       "      <th>2</th>\n",
       "      <td>5</td>\n",
       "      <td>LowIOS</td>\n",
       "    </tr>\n",
       "    <tr>\n",
       "      <th>3</th>\n",
       "      <td>8</td>\n",
       "      <td>HighIOS</td>\n",
       "    </tr>\n",
       "    <tr>\n",
       "      <th>4</th>\n",
       "      <td>9</td>\n",
       "      <td>LowIOS</td>\n",
       "    </tr>\n",
       "  </tbody>\n",
       "</table>\n",
       "</div>"
      ],
      "text/plain": [
       "   MID IOS_group\n",
       "0    2   HighIOS\n",
       "1    3    LowIOS\n",
       "2    5    LowIOS\n",
       "3    8   HighIOS\n",
       "4    9    LowIOS"
      ]
     },
     "execution_count": 25,
     "metadata": {},
     "output_type": "execute_result"
    }
   ],
   "source": [
    "df.loc[:, ['MID', 'IOS_group']].head()"
   ]
  },
  {
   "cell_type": "code",
   "execution_count": 26,
   "metadata": {},
   "outputs": [],
   "source": [
    "# overlap_magnitude_df と df.loc[:, ['MID', 'IOS_group']] をマージ（key=MID)\n",
    "out_df = pd.merge(overlap_magnitude_df, df.loc[:, ['MID', 'IOS_score', 'IOS_group']], on='MID')\n",
    "\n",
    "filename = './output02.csv'\n",
    "out_df.to_csv(filename, index=False)"
   ]
  },
  {
   "cell_type": "code",
   "execution_count": 27,
   "metadata": {},
   "outputs": [],
   "source": [
    "# 確認用\n",
    "sentences_token_self_df = pd.DataFrame(sentences_token_self).rename(columns={0: 'MID'})\n",
    "sentences_token_self_df.set_index('MID')\n",
    "sentences_token_self_df.to_csv('./sentences_token_self_df.csv', index=False)\n",
    "\n",
    "sentences_token_target_df = pd.DataFrame(sentences_token_target).rename(columns={0: 'MID'})\n",
    "sentences_token_target_df.set_index('MID')\n",
    "sentences_token_target_df.to_csv('./sentences_token_target_df.csv', index=False)"
   ]
  },
  {
   "attachments": {},
   "cell_type": "markdown",
   "metadata": {},
   "source": []
  },
  {
   "cell_type": "code",
   "execution_count": 28,
   "metadata": {},
   "outputs": [
    {
     "data": {
      "text/plain": [
       "IOS_group\n",
       "HighIOS    41\n",
       "LowIOS     39\n",
       "Neither     8\n",
       "dtype: int64"
      ]
     },
     "execution_count": 28,
     "metadata": {},
     "output_type": "execute_result"
    }
   ],
   "source": [
    "out_df.groupby('IOS_group').size()"
   ]
  },
  {
   "cell_type": "code",
   "execution_count": null,
   "metadata": {},
   "outputs": [],
   "source": []
  }
 ],
 "metadata": {
  "kernelspec": {
   "display_name": "myproject02",
   "language": "python",
   "name": "python3"
  },
  "language_info": {
   "codemirror_mode": {
    "name": "ipython",
    "version": 3
   },
   "file_extension": ".py",
   "mimetype": "text/x-python",
   "name": "python",
   "nbconvert_exporter": "python",
   "pygments_lexer": "ipython3",
   "version": "3.11.5"
  },
  "orig_nbformat": 4
 },
 "nbformat": 4,
 "nbformat_minor": 2
}
