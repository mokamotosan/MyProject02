{
 "cells": [
  {
   "attachments": {},
   "cell_type": "markdown",
   "metadata": {},
   "source": [
    "# Setup"
   ]
  },
  {
   "cell_type": "code",
   "execution_count": 62,
   "metadata": {},
   "outputs": [],
   "source": [
    "import pandas as pd\n",
    "from scipy import stats"
   ]
  },
  {
   "cell_type": "code",
   "execution_count": 63,
   "metadata": {},
   "outputs": [],
   "source": [
    "import seaborn as sns"
   ]
  },
  {
   "cell_type": "code",
   "execution_count": 64,
   "metadata": {},
   "outputs": [],
   "source": [
    "import numpy as np"
   ]
  },
  {
   "attachments": {},
   "cell_type": "markdown",
   "metadata": {},
   "source": [
    "# Laod Data"
   ]
  },
  {
   "cell_type": "code",
   "execution_count": 65,
   "metadata": {},
   "outputs": [
    {
     "data": {
      "text/html": [
       "<div>\n",
       "<style scoped>\n",
       "    .dataframe tbody tr th:only-of-type {\n",
       "        vertical-align: middle;\n",
       "    }\n",
       "\n",
       "    .dataframe tbody tr th {\n",
       "        vertical-align: top;\n",
       "    }\n",
       "\n",
       "    .dataframe thead th {\n",
       "        text-align: right;\n",
       "    }\n",
       "</style>\n",
       "<table border=\"1\" class=\"dataframe\">\n",
       "  <thead>\n",
       "    <tr style=\"text-align: right;\">\n",
       "      <th></th>\n",
       "      <th>IOS_score</th>\n",
       "      <th>IOS_group</th>\n",
       "      <th>wc_self</th>\n",
       "      <th>wc_target</th>\n",
       "      <th>wc_intercept</th>\n",
       "      <th>Overlap_score</th>\n",
       "      <th>word_vec_avg_self</th>\n",
       "      <th>word_vec_avg_target</th>\n",
       "      <th>_merge</th>\n",
       "      <th>euclidean_distance</th>\n",
       "      <th>manhattan_distance</th>\n",
       "      <th>cosine_similarity</th>\n",
       "    </tr>\n",
       "    <tr>\n",
       "      <th>MID</th>\n",
       "      <th></th>\n",
       "      <th></th>\n",
       "      <th></th>\n",
       "      <th></th>\n",
       "      <th></th>\n",
       "      <th></th>\n",
       "      <th></th>\n",
       "      <th></th>\n",
       "      <th></th>\n",
       "      <th></th>\n",
       "      <th></th>\n",
       "      <th></th>\n",
       "    </tr>\n",
       "  </thead>\n",
       "  <tbody>\n",
       "    <tr>\n",
       "      <th>3</th>\n",
       "      <td>2</td>\n",
       "      <td>LowIOS</td>\n",
       "      <td>8</td>\n",
       "      <td>4</td>\n",
       "      <td>1</td>\n",
       "      <td>0.090909</td>\n",
       "      <td>[ 0.11943819  0.05346557  0.07014093  0.009255...</td>\n",
       "      <td>[ 0.02737059  0.05008292  0.14684474 -0.024978...</td>\n",
       "      <td>both</td>\n",
       "      <td>0.520467</td>\n",
       "      <td>2.948766</td>\n",
       "      <td>0.629</td>\n",
       "    </tr>\n",
       "    <tr>\n",
       "      <th>11</th>\n",
       "      <td>2</td>\n",
       "      <td>LowIOS</td>\n",
       "      <td>1</td>\n",
       "      <td>8</td>\n",
       "      <td>1</td>\n",
       "      <td>0.125000</td>\n",
       "      <td>[-0.02357543 -0.12109289  0.21683958 -0.104704...</td>\n",
       "      <td>[ 0.09778938  0.02801418  0.19070491 -0.054827...</td>\n",
       "      <td>both</td>\n",
       "      <td>0.698260</td>\n",
       "      <td>3.752620</td>\n",
       "      <td>0.731</td>\n",
       "    </tr>\n",
       "    <tr>\n",
       "      <th>13</th>\n",
       "      <td>6</td>\n",
       "      <td>HighIOS</td>\n",
       "      <td>3</td>\n",
       "      <td>1</td>\n",
       "      <td>0</td>\n",
       "      <td>0.000000</td>\n",
       "      <td>[ 0.00887019 -0.07493114  0.19292825 -0.068387...</td>\n",
       "      <td>[ 0.24672021 -0.06143744  0.16993149 -0.076877...</td>\n",
       "      <td>both</td>\n",
       "      <td>1.061228</td>\n",
       "      <td>6.097061</td>\n",
       "      <td>0.320</td>\n",
       "    </tr>\n",
       "    <tr>\n",
       "      <th>17</th>\n",
       "      <td>3</td>\n",
       "      <td>LowIOS</td>\n",
       "      <td>7</td>\n",
       "      <td>7</td>\n",
       "      <td>3</td>\n",
       "      <td>0.272727</td>\n",
       "      <td>[ 9.24505740e-02  7.80474022e-02  1.51948884e-...</td>\n",
       "      <td>[ 0.11519082  0.04175487  0.12056322  0.037018...</td>\n",
       "      <td>both</td>\n",
       "      <td>0.376340</td>\n",
       "      <td>2.162843</td>\n",
       "      <td>0.805</td>\n",
       "    </tr>\n",
       "    <tr>\n",
       "      <th>22</th>\n",
       "      <td>6</td>\n",
       "      <td>HighIOS</td>\n",
       "      <td>2</td>\n",
       "      <td>8</td>\n",
       "      <td>2</td>\n",
       "      <td>0.250000</td>\n",
       "      <td>[ 0.0311171   0.09546094  0.3110742   0.003598...</td>\n",
       "      <td>[ 0.11047471  0.06481349  0.2719891  -0.048207...</td>\n",
       "      <td>both</td>\n",
       "      <td>0.473944</td>\n",
       "      <td>2.713301</td>\n",
       "      <td>0.823</td>\n",
       "    </tr>\n",
       "  </tbody>\n",
       "</table>\n",
       "</div>"
      ],
      "text/plain": [
       "     IOS_score IOS_group  wc_self  wc_target  wc_intercept  Overlap_score  \\\n",
       "MID                                                                         \n",
       "3            2    LowIOS        8          4             1       0.090909   \n",
       "11           2    LowIOS        1          8             1       0.125000   \n",
       "13           6   HighIOS        3          1             0       0.000000   \n",
       "17           3    LowIOS        7          7             3       0.272727   \n",
       "22           6   HighIOS        2          8             2       0.250000   \n",
       "\n",
       "                                     word_vec_avg_self  \\\n",
       "MID                                                      \n",
       "3    [ 0.11943819  0.05346557  0.07014093  0.009255...   \n",
       "11   [-0.02357543 -0.12109289  0.21683958 -0.104704...   \n",
       "13   [ 0.00887019 -0.07493114  0.19292825 -0.068387...   \n",
       "17   [ 9.24505740e-02  7.80474022e-02  1.51948884e-...   \n",
       "22   [ 0.0311171   0.09546094  0.3110742   0.003598...   \n",
       "\n",
       "                                   word_vec_avg_target _merge  \\\n",
       "MID                                                             \n",
       "3    [ 0.02737059  0.05008292  0.14684474 -0.024978...   both   \n",
       "11   [ 0.09778938  0.02801418  0.19070491 -0.054827...   both   \n",
       "13   [ 0.24672021 -0.06143744  0.16993149 -0.076877...   both   \n",
       "17   [ 0.11519082  0.04175487  0.12056322  0.037018...   both   \n",
       "22   [ 0.11047471  0.06481349  0.2719891  -0.048207...   both   \n",
       "\n",
       "     euclidean_distance  manhattan_distance  cosine_similarity  \n",
       "MID                                                             \n",
       "3              0.520467            2.948766              0.629  \n",
       "11             0.698260            3.752620              0.731  \n",
       "13             1.061228            6.097061              0.320  \n",
       "17             0.376340            2.162843              0.805  \n",
       "22             0.473944            2.713301              0.823  "
      ]
     },
     "execution_count": 65,
     "metadata": {},
     "output_type": "execute_result"
    }
   ],
   "source": [
    "filename = './output02.csv'\n",
    "df = pd.read_csv(filename, header=0, index_col=0)\n",
    "df.head()"
   ]
  },
  {
   "cell_type": "code",
   "execution_count": 66,
   "metadata": {},
   "outputs": [
    {
     "data": {
      "text/plain": [
       "IOS_group\n",
       "HighIOS    20\n",
       "LowIOS     26\n",
       "Neither     4\n",
       "dtype: int64"
      ]
     },
     "execution_count": 66,
     "metadata": {},
     "output_type": "execute_result"
    }
   ],
   "source": [
    "df.groupby('IOS_group').size()"
   ]
  },
  {
   "cell_type": "code",
   "execution_count": 67,
   "metadata": {},
   "outputs": [
    {
     "data": {
      "text/html": [
       "<div>\n",
       "<style scoped>\n",
       "    .dataframe tbody tr th:only-of-type {\n",
       "        vertical-align: middle;\n",
       "    }\n",
       "\n",
       "    .dataframe tbody tr th {\n",
       "        vertical-align: top;\n",
       "    }\n",
       "\n",
       "    .dataframe thead th {\n",
       "        text-align: right;\n",
       "    }\n",
       "</style>\n",
       "<table border=\"1\" class=\"dataframe\">\n",
       "  <thead>\n",
       "    <tr style=\"text-align: right;\">\n",
       "      <th></th>\n",
       "      <th>IOS_score</th>\n",
       "      <th>IOS_group</th>\n",
       "      <th>wc_self</th>\n",
       "      <th>wc_target</th>\n",
       "      <th>wc_intercept</th>\n",
       "      <th>Overlap_score</th>\n",
       "      <th>word_vec_avg_self</th>\n",
       "      <th>word_vec_avg_target</th>\n",
       "      <th>_merge</th>\n",
       "      <th>euclidean_distance</th>\n",
       "      <th>manhattan_distance</th>\n",
       "      <th>cosine_similarity</th>\n",
       "    </tr>\n",
       "    <tr>\n",
       "      <th>MID</th>\n",
       "      <th></th>\n",
       "      <th></th>\n",
       "      <th></th>\n",
       "      <th></th>\n",
       "      <th></th>\n",
       "      <th></th>\n",
       "      <th></th>\n",
       "      <th></th>\n",
       "      <th></th>\n",
       "      <th></th>\n",
       "      <th></th>\n",
       "      <th></th>\n",
       "    </tr>\n",
       "  </thead>\n",
       "  <tbody>\n",
       "    <tr>\n",
       "      <th>3</th>\n",
       "      <td>2</td>\n",
       "      <td>LowIOS</td>\n",
       "      <td>8</td>\n",
       "      <td>4</td>\n",
       "      <td>1</td>\n",
       "      <td>0.090909</td>\n",
       "      <td>[ 0.11943819  0.05346557  0.07014093  0.009255...</td>\n",
       "      <td>[ 0.02737059  0.05008292  0.14684474 -0.024978...</td>\n",
       "      <td>both</td>\n",
       "      <td>0.520467</td>\n",
       "      <td>2.948766</td>\n",
       "      <td>0.629</td>\n",
       "    </tr>\n",
       "    <tr>\n",
       "      <th>11</th>\n",
       "      <td>2</td>\n",
       "      <td>LowIOS</td>\n",
       "      <td>1</td>\n",
       "      <td>8</td>\n",
       "      <td>1</td>\n",
       "      <td>0.125000</td>\n",
       "      <td>[-0.02357543 -0.12109289  0.21683958 -0.104704...</td>\n",
       "      <td>[ 0.09778938  0.02801418  0.19070491 -0.054827...</td>\n",
       "      <td>both</td>\n",
       "      <td>0.698260</td>\n",
       "      <td>3.752620</td>\n",
       "      <td>0.731</td>\n",
       "    </tr>\n",
       "    <tr>\n",
       "      <th>13</th>\n",
       "      <td>6</td>\n",
       "      <td>HighIOS</td>\n",
       "      <td>3</td>\n",
       "      <td>1</td>\n",
       "      <td>0</td>\n",
       "      <td>0.000000</td>\n",
       "      <td>[ 0.00887019 -0.07493114  0.19292825 -0.068387...</td>\n",
       "      <td>[ 0.24672021 -0.06143744  0.16993149 -0.076877...</td>\n",
       "      <td>both</td>\n",
       "      <td>1.061228</td>\n",
       "      <td>6.097061</td>\n",
       "      <td>0.320</td>\n",
       "    </tr>\n",
       "    <tr>\n",
       "      <th>17</th>\n",
       "      <td>3</td>\n",
       "      <td>LowIOS</td>\n",
       "      <td>7</td>\n",
       "      <td>7</td>\n",
       "      <td>3</td>\n",
       "      <td>0.272727</td>\n",
       "      <td>[ 9.24505740e-02  7.80474022e-02  1.51948884e-...</td>\n",
       "      <td>[ 0.11519082  0.04175487  0.12056322  0.037018...</td>\n",
       "      <td>both</td>\n",
       "      <td>0.376340</td>\n",
       "      <td>2.162843</td>\n",
       "      <td>0.805</td>\n",
       "    </tr>\n",
       "    <tr>\n",
       "      <th>22</th>\n",
       "      <td>6</td>\n",
       "      <td>HighIOS</td>\n",
       "      <td>2</td>\n",
       "      <td>8</td>\n",
       "      <td>2</td>\n",
       "      <td>0.250000</td>\n",
       "      <td>[ 0.0311171   0.09546094  0.3110742   0.003598...</td>\n",
       "      <td>[ 0.11047471  0.06481349  0.2719891  -0.048207...</td>\n",
       "      <td>both</td>\n",
       "      <td>0.473944</td>\n",
       "      <td>2.713301</td>\n",
       "      <td>0.823</td>\n",
       "    </tr>\n",
       "  </tbody>\n",
       "</table>\n",
       "</div>"
      ],
      "text/plain": [
       "     IOS_score IOS_group  wc_self  wc_target  wc_intercept  Overlap_score  \\\n",
       "MID                                                                         \n",
       "3            2    LowIOS        8          4             1       0.090909   \n",
       "11           2    LowIOS        1          8             1       0.125000   \n",
       "13           6   HighIOS        3          1             0       0.000000   \n",
       "17           3    LowIOS        7          7             3       0.272727   \n",
       "22           6   HighIOS        2          8             2       0.250000   \n",
       "\n",
       "                                     word_vec_avg_self  \\\n",
       "MID                                                      \n",
       "3    [ 0.11943819  0.05346557  0.07014093  0.009255...   \n",
       "11   [-0.02357543 -0.12109289  0.21683958 -0.104704...   \n",
       "13   [ 0.00887019 -0.07493114  0.19292825 -0.068387...   \n",
       "17   [ 9.24505740e-02  7.80474022e-02  1.51948884e-...   \n",
       "22   [ 0.0311171   0.09546094  0.3110742   0.003598...   \n",
       "\n",
       "                                   word_vec_avg_target _merge  \\\n",
       "MID                                                             \n",
       "3    [ 0.02737059  0.05008292  0.14684474 -0.024978...   both   \n",
       "11   [ 0.09778938  0.02801418  0.19070491 -0.054827...   both   \n",
       "13   [ 0.24672021 -0.06143744  0.16993149 -0.076877...   both   \n",
       "17   [ 0.11519082  0.04175487  0.12056322  0.037018...   both   \n",
       "22   [ 0.11047471  0.06481349  0.2719891  -0.048207...   both   \n",
       "\n",
       "     euclidean_distance  manhattan_distance  cosine_similarity  \n",
       "MID                                                             \n",
       "3              0.520467            2.948766              0.629  \n",
       "11             0.698260            3.752620              0.731  \n",
       "13             1.061228            6.097061              0.320  \n",
       "17             0.376340            2.162843              0.805  \n",
       "22             0.473944            2.713301              0.823  "
      ]
     },
     "execution_count": 67,
     "metadata": {},
     "output_type": "execute_result"
    }
   ],
   "source": [
    "df = df.dropna()\n",
    "df.head()"
   ]
  },
  {
   "cell_type": "code",
   "execution_count": 68,
   "metadata": {},
   "outputs": [
    {
     "data": {
      "text/plain": [
       "IOS_group\n",
       "HighIOS    20\n",
       "LowIOS     26\n",
       "Neither     4\n",
       "dtype: int64"
      ]
     },
     "execution_count": 68,
     "metadata": {},
     "output_type": "execute_result"
    }
   ],
   "source": [
    "df.groupby('IOS_group').size()"
   ]
  },
  {
   "attachments": {},
   "cell_type": "markdown",
   "metadata": {},
   "source": [
    "# Descriptive Statistics on Overlap Score"
   ]
  },
  {
   "cell_type": "code",
   "execution_count": 69,
   "metadata": {},
   "outputs": [
    {
     "data": {
      "text/html": [
       "<div>\n",
       "<style scoped>\n",
       "    .dataframe tbody tr th:only-of-type {\n",
       "        vertical-align: middle;\n",
       "    }\n",
       "\n",
       "    .dataframe tbody tr th {\n",
       "        vertical-align: top;\n",
       "    }\n",
       "\n",
       "    .dataframe thead th {\n",
       "        text-align: right;\n",
       "    }\n",
       "</style>\n",
       "<table border=\"1\" class=\"dataframe\">\n",
       "  <thead>\n",
       "    <tr style=\"text-align: right;\">\n",
       "      <th></th>\n",
       "      <th>count</th>\n",
       "      <th>mean</th>\n",
       "      <th>std</th>\n",
       "      <th>min</th>\n",
       "      <th>25%</th>\n",
       "      <th>50%</th>\n",
       "      <th>75%</th>\n",
       "      <th>max</th>\n",
       "    </tr>\n",
       "  </thead>\n",
       "  <tbody>\n",
       "    <tr>\n",
       "      <th>Overlap_score</th>\n",
       "      <td>26.0</td>\n",
       "      <td>0.117414</td>\n",
       "      <td>0.077646</td>\n",
       "      <td>0.0</td>\n",
       "      <td>0.077692</td>\n",
       "      <td>0.127717</td>\n",
       "      <td>0.166667</td>\n",
       "      <td>0.272727</td>\n",
       "    </tr>\n",
       "  </tbody>\n",
       "</table>\n",
       "</div>"
      ],
      "text/plain": [
       "               count      mean       std  min       25%       50%       75%  \\\n",
       "Overlap_score   26.0  0.117414  0.077646  0.0  0.077692  0.127717  0.166667   \n",
       "\n",
       "                    max  \n",
       "Overlap_score  0.272727  "
      ]
     },
     "execution_count": 69,
     "metadata": {},
     "output_type": "execute_result"
    }
   ],
   "source": [
    "# Low IOS Group\n",
    "df.loc[df['IOS_group'] == 'LowIOS', ['Overlap_score']].describe().T"
   ]
  },
  {
   "cell_type": "code",
   "execution_count": 70,
   "metadata": {},
   "outputs": [
    {
     "data": {
      "text/html": [
       "<div>\n",
       "<style scoped>\n",
       "    .dataframe tbody tr th:only-of-type {\n",
       "        vertical-align: middle;\n",
       "    }\n",
       "\n",
       "    .dataframe tbody tr th {\n",
       "        vertical-align: top;\n",
       "    }\n",
       "\n",
       "    .dataframe thead th {\n",
       "        text-align: right;\n",
       "    }\n",
       "</style>\n",
       "<table border=\"1\" class=\"dataframe\">\n",
       "  <thead>\n",
       "    <tr style=\"text-align: right;\">\n",
       "      <th></th>\n",
       "      <th>count</th>\n",
       "      <th>mean</th>\n",
       "      <th>std</th>\n",
       "      <th>min</th>\n",
       "      <th>25%</th>\n",
       "      <th>50%</th>\n",
       "      <th>75%</th>\n",
       "      <th>max</th>\n",
       "    </tr>\n",
       "  </thead>\n",
       "  <tbody>\n",
       "    <tr>\n",
       "      <th>Overlap_score</th>\n",
       "      <td>20.0</td>\n",
       "      <td>0.071816</td>\n",
       "      <td>0.092841</td>\n",
       "      <td>0.0</td>\n",
       "      <td>0.0</td>\n",
       "      <td>0.0</td>\n",
       "      <td>0.139205</td>\n",
       "      <td>0.25</td>\n",
       "    </tr>\n",
       "  </tbody>\n",
       "</table>\n",
       "</div>"
      ],
      "text/plain": [
       "               count      mean       std  min  25%  50%       75%   max\n",
       "Overlap_score   20.0  0.071816  0.092841  0.0  0.0  0.0  0.139205  0.25"
      ]
     },
     "execution_count": 70,
     "metadata": {},
     "output_type": "execute_result"
    }
   ],
   "source": [
    "# High IOS Group\n",
    "df.loc[df['IOS_group'] == 'HighIOS', ['Overlap_score']].describe().T"
   ]
  },
  {
   "attachments": {},
   "cell_type": "markdown",
   "metadata": {},
   "source": [
    "# Visualization"
   ]
  },
  {
   "attachments": {},
   "cell_type": "markdown",
   "metadata": {},
   "source": [
    "## Overlapping Score"
   ]
  },
  {
   "cell_type": "markdown",
   "metadata": {},
   "source": [
    "### Overlapping Score: Histogram"
   ]
  },
  {
   "cell_type": "code",
   "execution_count": 71,
   "metadata": {},
   "outputs": [
    {
     "data": {
      "text/plain": [
       "array([[<Axes: title={'center': 'HighIOS'}>,\n",
       "        <Axes: title={'center': 'LowIOS'}>],\n",
       "       [<Axes: title={'center': 'Neither'}>, <Axes: >]], dtype=object)"
      ]
     },
     "execution_count": 71,
     "metadata": {},
     "output_type": "execute_result"
    },
    {
     "data": {
      "image/png": "[encoded data removed]",
      "text/plain": [
       "<Figure size 640x480 with 4 Axes>"
      ]
     },
     "metadata": {},
     "output_type": "display_data"
    }
   ],
   "source": [
    "df['Overlap_score'].hist(by=df['IOS_group'], range=[0, 1], sharey=True)"
   ]
  },
  {
   "attachments": {},
   "cell_type": "markdown",
   "metadata": {},
   "source": [
    "### Overlapping Score: Boxplot"
   ]
  },
  {
   "cell_type": "code",
   "execution_count": 72,
   "metadata": {},
   "outputs": [
    {
     "data": {
      "text/plain": [
       "<Axes: title={'center': 'Overlap_score'}, xlabel='[IOS_group]'>"
      ]
     },
     "execution_count": 72,
     "metadata": {},
     "output_type": "execute_result"
    },
    {
     "data": {
      "image/png": "[encoded data removed]",
      "text/plain": [
       "<Figure size 640x480 with 1 Axes>"
      ]
     },
     "metadata": {},
     "output_type": "display_data"
    }
   ],
   "source": [
    "df.boxplot(column=['Overlap_score'], by=['IOS_group'])"
   ]
  },
  {
   "attachments": {},
   "cell_type": "markdown",
   "metadata": {},
   "source": [
    "### Overlapping Score: Scatter plot"
   ]
  },
  {
   "cell_type": "code",
   "execution_count": 73,
   "metadata": {},
   "outputs": [
    {
     "data": {
      "text/plain": [
       "<Axes: xlabel='Overlap_score', ylabel='IOS_score'>"
      ]
     },
     "execution_count": 73,
     "metadata": {},
     "output_type": "execute_result"
    },
    {
     "data": {
      "image/png": "[encoded data removed]",
      "text/plain": [
       "<Figure size 640x480 with 1 Axes>"
      ]
     },
     "metadata": {},
     "output_type": "display_data"
    }
   ],
   "source": [
    "sns.scatterplot(x='Overlap_score', y='IOS_score', hue='IOS_group', data=df)"
   ]
  },
  {
   "cell_type": "markdown",
   "metadata": {},
   "source": [
    "## Euclidean Distance"
   ]
  },
  {
   "cell_type": "markdown",
   "metadata": {},
   "source": [
    "### Euclidean Distance: Histogram"
   ]
  },
  {
   "cell_type": "code",
   "execution_count": 74,
   "metadata": {},
   "outputs": [
    {
     "data": {
      "text/plain": [
       "array([[<Axes: title={'center': 'HighIOS'}>,\n",
       "        <Axes: title={'center': 'LowIOS'}>],\n",
       "       [<Axes: title={'center': 'Neither'}>, <Axes: >]], dtype=object)"
      ]
     },
     "execution_count": 74,
     "metadata": {},
     "output_type": "execute_result"
    },
    {
     "data": {
      "image/png": "[encoded data removed]",
      "text/plain": [
       "<Figure size 640x480 with 4 Axes>"
      ]
     },
     "metadata": {},
     "output_type": "display_data"
    }
   ],
   "source": [
    "df['euclidean_distance'].hist(by=df['IOS_group'], range=[0, 1.5], sharey=True)"
   ]
  },
  {
   "cell_type": "markdown",
   "metadata": {},
   "source": [
    "### Euclidean Distance: Boxplot"
   ]
  },
  {
   "cell_type": "code",
   "execution_count": 75,
   "metadata": {},
   "outputs": [
    {
     "data": {
      "text/plain": [
       "<Axes: title={'center': 'euclidean_distance'}, xlabel='[IOS_group]'>"
      ]
     },
     "execution_count": 75,
     "metadata": {},
     "output_type": "execute_result"
    },
    {
     "data": {
      "image/png": "[encoded data removed]",
      "text/plain": [
       "<Figure size 640x480 with 1 Axes>"
      ]
     },
     "metadata": {},
     "output_type": "display_data"
    }
   ],
   "source": [
    "df.boxplot(column=['euclidean_distance'], by=['IOS_group'])"
   ]
  },
  {
   "cell_type": "markdown",
   "metadata": {},
   "source": [
    "### Euclidean Distance: Scatter plot"
   ]
  },
  {
   "cell_type": "code",
   "execution_count": 76,
   "metadata": {},
   "outputs": [
    {
     "data": {
      "text/plain": [
       "<Axes: xlabel='euclidean_distance', ylabel='IOS_score'>"
      ]
     },
     "execution_count": 76,
     "metadata": {},
     "output_type": "execute_result"
    },
    {
     "data": {
      "image/png": "[encoded data removed]",
      "text/plain": [
       "<Figure size 640x480 with 1 Axes>"
      ]
     },
     "metadata": {},
     "output_type": "display_data"
    }
   ],
   "source": [
    "sns.scatterplot(x='euclidean_distance', y='IOS_score', hue='IOS_group', data=df)"
   ]
  },
  {
   "cell_type": "markdown",
   "metadata": {},
   "source": [
    "## Manhattan Distance"
   ]
  },
  {
   "cell_type": "markdown",
   "metadata": {},
   "source": [
    "### Manhattan Distance: Histogram"
   ]
  },
  {
   "cell_type": "code",
   "execution_count": 77,
   "metadata": {},
   "outputs": [
    {
     "data": {
      "text/plain": [
       "array([[<Axes: title={'center': 'HighIOS'}>,\n",
       "        <Axes: title={'center': 'LowIOS'}>],\n",
       "       [<Axes: title={'center': 'Neither'}>, <Axes: >]], dtype=object)"
      ]
     },
     "execution_count": 77,
     "metadata": {},
     "output_type": "execute_result"
    },
    {
     "data": {
      "image/png": "[encoded data removed]",
      "text/plain": [
       "<Figure size 640x480 with 4 Axes>"
      ]
     },
     "metadata": {},
     "output_type": "display_data"
    }
   ],
   "source": [
    "df['manhattan_distance'].hist(by=df['IOS_group'], range=[0, 10], sharey=True)"
   ]
  },
  {
   "cell_type": "markdown",
   "metadata": {},
   "source": [
    "### Manhattan Distance: Boxplot"
   ]
  },
  {
   "cell_type": "code",
   "execution_count": 78,
   "metadata": {},
   "outputs": [
    {
     "data": {
      "text/plain": [
       "<Axes: title={'center': 'manhattan_distance'}, xlabel='[IOS_group]'>"
      ]
     },
     "execution_count": 78,
     "metadata": {},
     "output_type": "execute_result"
    },
    {
     "data": {
      "image/png": "[encoded data removed]",
      "text/plain": [
       "<Figure size 640x480 with 1 Axes>"
      ]
     },
     "metadata": {},
     "output_type": "display_data"
    }
   ],
   "source": [
    "df.boxplot(column=['manhattan_distance'], by=['IOS_group'])"
   ]
  },
  {
   "cell_type": "markdown",
   "metadata": {},
   "source": [
    "### Manhattan Distance: Scatter plot"
   ]
  },
  {
   "cell_type": "code",
   "execution_count": 79,
   "metadata": {},
   "outputs": [
    {
     "data": {
      "text/plain": [
       "<Axes: xlabel='manhattan_distance', ylabel='IOS_score'>"
      ]
     },
     "execution_count": 79,
     "metadata": {},
     "output_type": "execute_result"
    },
    {
     "data": {
      "image/png": "[encoded data removed]",
      "text/plain": [
       "<Figure size 640x480 with 1 Axes>"
      ]
     },
     "metadata": {},
     "output_type": "display_data"
    }
   ],
   "source": [
    "sns.scatterplot(x='manhattan_distance', y='IOS_score', hue='IOS_group', data=df)"
   ]
  },
  {
   "cell_type": "markdown",
   "metadata": {},
   "source": [
    "## Cosine Similarity"
   ]
  },
  {
   "cell_type": "markdown",
   "metadata": {},
   "source": [
    "### Cosine Similarity: Histogram"
   ]
  },
  {
   "cell_type": "code",
   "execution_count": 80,
   "metadata": {},
   "outputs": [
    {
     "data": {
      "text/plain": [
       "array([[<Axes: title={'center': 'HighIOS'}>,\n",
       "        <Axes: title={'center': 'LowIOS'}>],\n",
       "       [<Axes: title={'center': 'Neither'}>, <Axes: >]], dtype=object)"
      ]
     },
     "execution_count": 80,
     "metadata": {},
     "output_type": "execute_result"
    },
    {
     "data": {
      "image/png": "[encoded data removed]",
      "text/plain": [
       "<Figure size 640x480 with 4 Axes>"
      ]
     },
     "metadata": {},
     "output_type": "display_data"
    }
   ],
   "source": [
    "df['cosine_similarity'].hist(by=df['IOS_group'], range=[0, 1], sharey=True)"
   ]
  },
  {
   "cell_type": "markdown",
   "metadata": {},
   "source": [
    "### Cosine Similarity: Boxplot"
   ]
  },
  {
   "cell_type": "code",
   "execution_count": 81,
   "metadata": {},
   "outputs": [
    {
     "data": {
      "text/plain": [
       "<Axes: title={'center': 'cosine_similarity'}, xlabel='[IOS_group]'>"
      ]
     },
     "execution_count": 81,
     "metadata": {},
     "output_type": "execute_result"
    },
    {
     "data": {
      "image/png": "[encoded data removed]",
      "text/plain": [
       "<Figure size 640x480 with 1 Axes>"
      ]
     },
     "metadata": {},
     "output_type": "display_data"
    }
   ],
   "source": [
    "df.boxplot(column=['cosine_similarity'], by=['IOS_group'])"
   ]
  },
  {
   "cell_type": "markdown",
   "metadata": {},
   "source": [
    "### Cosine Similarity: Scatter plot"
   ]
  },
  {
   "cell_type": "code",
   "execution_count": 82,
   "metadata": {},
   "outputs": [
    {
     "data": {
      "text/plain": [
       "<Axes: xlabel='cosine_similarity', ylabel='IOS_score'>"
      ]
     },
     "execution_count": 82,
     "metadata": {},
     "output_type": "execute_result"
    },
    {
     "data": {
      "image/png": "[encoded data removed]",
      "text/plain": [
       "<Figure size 640x480 with 1 Axes>"
      ]
     },
     "metadata": {},
     "output_type": "display_data"
    }
   ],
   "source": [
    "sns.scatterplot(x='cosine_similarity', y='IOS_score', hue='IOS_group', data=df)"
   ]
  },
  {
   "attachments": {},
   "cell_type": "markdown",
   "metadata": {},
   "source": [
    "# Check the Outliers"
   ]
  },
  {
   "cell_type": "code",
   "execution_count": 83,
   "metadata": {},
   "outputs": [
    {
     "data": {
      "text/html": [
       "<div>\n",
       "<style scoped>\n",
       "    .dataframe tbody tr th:only-of-type {\n",
       "        vertical-align: middle;\n",
       "    }\n",
       "\n",
       "    .dataframe tbody tr th {\n",
       "        vertical-align: top;\n",
       "    }\n",
       "\n",
       "    .dataframe thead th {\n",
       "        text-align: right;\n",
       "    }\n",
       "</style>\n",
       "<table border=\"1\" class=\"dataframe\">\n",
       "  <thead>\n",
       "    <tr style=\"text-align: right;\">\n",
       "      <th></th>\n",
       "      <th>IOS_score</th>\n",
       "      <th>IOS_group</th>\n",
       "      <th>wc_self</th>\n",
       "      <th>wc_target</th>\n",
       "      <th>wc_intercept</th>\n",
       "      <th>Overlap_score</th>\n",
       "      <th>word_vec_avg_self</th>\n",
       "      <th>word_vec_avg_target</th>\n",
       "      <th>_merge</th>\n",
       "      <th>euclidean_distance</th>\n",
       "      <th>manhattan_distance</th>\n",
       "      <th>cosine_similarity</th>\n",
       "    </tr>\n",
       "    <tr>\n",
       "      <th>MID</th>\n",
       "      <th></th>\n",
       "      <th></th>\n",
       "      <th></th>\n",
       "      <th></th>\n",
       "      <th></th>\n",
       "      <th></th>\n",
       "      <th></th>\n",
       "      <th></th>\n",
       "      <th></th>\n",
       "      <th></th>\n",
       "      <th></th>\n",
       "      <th></th>\n",
       "    </tr>\n",
       "  </thead>\n",
       "  <tbody>\n",
       "  </tbody>\n",
       "</table>\n",
       "</div>"
      ],
      "text/plain": [
       "Empty DataFrame\n",
       "Columns: [IOS_score, IOS_group, wc_self, wc_target, wc_intercept, Overlap_score, word_vec_avg_self, word_vec_avg_target, _merge, euclidean_distance, manhattan_distance, cosine_similarity]\n",
       "Index: []"
      ]
     },
     "execution_count": 83,
     "metadata": {},
     "output_type": "execute_result"
    }
   ],
   "source": [
    "df.loc[df['Overlap_score'] == 1, :]"
   ]
  },
  {
   "attachments": {},
   "cell_type": "markdown",
   "metadata": {},
   "source": [
    "# Confirmatory Analyses"
   ]
  },
  {
   "attachments": {},
   "cell_type": "markdown",
   "metadata": {},
   "source": [
    "## 01: a one-tailed independent two-sample t-test\n",
    "The author had planned:\n",
    "- sample size: 51 for each group\n",
    "- alpha: 0.05\n",
    "- effect size: 0.5\n",
    "- power: 0.8"
   ]
  },
  {
   "cell_type": "code",
   "execution_count": 84,
   "metadata": {},
   "outputs": [],
   "source": [
    "groupH = df[df['IOS_group']=='HighIOS']\n",
    "groupL = df[df['IOS_group']=='LowIOS']"
   ]
  },
  {
   "cell_type": "markdown",
   "metadata": {},
   "source": [
    "### Overlapping Magnitude"
   ]
  },
  {
   "cell_type": "code",
   "execution_count": 85,
   "metadata": {},
   "outputs": [
    {
     "data": {
      "text/plain": [
       "TtestResult(statistic=-1.771097213559083, pvalue=0.9575909988730523, df=36.840456547081125)"
      ]
     },
     "execution_count": 85,
     "metadata": {},
     "output_type": "execute_result"
    }
   ],
   "source": [
    "stats.ttest_ind(groupH['Overlap_score'], groupL['Overlap_score'], equal_var=False, alternative='greater') # perform Welch's t-test without assuming equal population variance."
   ]
  },
  {
   "cell_type": "code",
   "execution_count": 86,
   "metadata": {},
   "outputs": [
    {
     "data": {
      "text/plain": [
       "TtestResult(statistic=-1.771097213559083, pvalue=0.0424090011269477, df=36.840456547081125)"
      ]
     },
     "execution_count": 86,
     "metadata": {},
     "output_type": "execute_result"
    }
   ],
   "source": [
    "stats.ttest_ind(groupH['Overlap_score'], groupL['Overlap_score'], equal_var=False, alternative='less') # perform Welch's t-test without assuming equal population variance."
   ]
  },
  {
   "cell_type": "markdown",
   "metadata": {},
   "source": [
    "### Euclidean Distance"
   ]
  },
  {
   "cell_type": "code",
   "execution_count": 87,
   "metadata": {},
   "outputs": [
    {
     "data": {
      "text/plain": [
       "TtestResult(statistic=1.944079633532404, pvalue=0.9689164757555071, df=27.53894057378704)"
      ]
     },
     "execution_count": 87,
     "metadata": {},
     "output_type": "execute_result"
    }
   ],
   "source": [
    "stats.ttest_ind(groupH['euclidean_distance'], groupL['euclidean_distance'], equal_var=False, alternative='less')"
   ]
  },
  {
   "cell_type": "code",
   "execution_count": 88,
   "metadata": {},
   "outputs": [
    {
     "data": {
      "text/plain": [
       "TtestResult(statistic=1.944079633532404, pvalue=0.031083524244492934, df=27.53894057378704)"
      ]
     },
     "execution_count": 88,
     "metadata": {},
     "output_type": "execute_result"
    }
   ],
   "source": [
    "stats.ttest_ind(groupH['euclidean_distance'], groupL['euclidean_distance'], equal_var=False, alternative='greater')"
   ]
  },
  {
   "cell_type": "markdown",
   "metadata": {},
   "source": [
    "### Manhattan Distance"
   ]
  },
  {
   "cell_type": "code",
   "execution_count": 89,
   "metadata": {},
   "outputs": [
    {
     "data": {
      "text/plain": [
       "TtestResult(statistic=2.125646011846273, pvalue=0.9785622279879714, df=26.866404294460605)"
      ]
     },
     "execution_count": 89,
     "metadata": {},
     "output_type": "execute_result"
    }
   ],
   "source": [
    "stats.ttest_ind(groupH['manhattan_distance'], groupL['manhattan_distance'], equal_var=False, alternative='less')"
   ]
  },
  {
   "cell_type": "code",
   "execution_count": 90,
   "metadata": {},
   "outputs": [
    {
     "data": {
      "text/plain": [
       "TtestResult(statistic=2.125646011846273, pvalue=0.021437772012028577, df=26.866404294460605)"
      ]
     },
     "execution_count": 90,
     "metadata": {},
     "output_type": "execute_result"
    }
   ],
   "source": [
    "stats.ttest_ind(groupH['manhattan_distance'], groupL['manhattan_distance'], equal_var=False, alternative='greater')"
   ]
  },
  {
   "cell_type": "markdown",
   "metadata": {},
   "source": [
    "### Cosine Similarity"
   ]
  },
  {
   "cell_type": "code",
   "execution_count": 91,
   "metadata": {},
   "outputs": [
    {
     "data": {
      "text/plain": [
       "TtestResult(statistic=-2.144054951174973, pvalue=0.9793361794590205, df=26.607695767351377)"
      ]
     },
     "execution_count": 91,
     "metadata": {},
     "output_type": "execute_result"
    }
   ],
   "source": [
    "stats.ttest_ind(groupH['cosine_similarity'], groupL['cosine_similarity'], equal_var=False, alternative='greater')"
   ]
  },
  {
   "cell_type": "code",
   "execution_count": 92,
   "metadata": {},
   "outputs": [
    {
     "data": {
      "text/plain": [
       "TtestResult(statistic=-2.144054951174973, pvalue=0.020663820540979445, df=26.607695767351377)"
      ]
     },
     "execution_count": 92,
     "metadata": {},
     "output_type": "execute_result"
    }
   ],
   "source": [
    "stats.ttest_ind(groupH['cosine_similarity'], groupL['cosine_similarity'], equal_var=False, alternative='less')"
   ]
  },
  {
   "cell_type": "code",
   "execution_count": 93,
   "metadata": {},
   "outputs": [
    {
     "data": {
      "text/plain": [
       "TtestResult(statistic=-2.144054951174973, pvalue=0.04132764108195889, df=26.607695767351377)"
      ]
     },
     "execution_count": 93,
     "metadata": {},
     "output_type": "execute_result"
    }
   ],
   "source": [
    "stats.ttest_ind(groupH['cosine_similarity'], groupL['cosine_similarity'], equal_var=False, alternative='two-sided')"
   ]
  },
  {
   "cell_type": "code",
   "execution_count": 94,
   "metadata": {},
   "outputs": [
    {
     "data": {
      "text/html": [
       "<div>\n",
       "<style scoped>\n",
       "    .dataframe tbody tr th:only-of-type {\n",
       "        vertical-align: middle;\n",
       "    }\n",
       "\n",
       "    .dataframe tbody tr th {\n",
       "        vertical-align: top;\n",
       "    }\n",
       "\n",
       "    .dataframe thead th {\n",
       "        text-align: right;\n",
       "    }\n",
       "</style>\n",
       "<table border=\"1\" class=\"dataframe\">\n",
       "  <thead>\n",
       "    <tr style=\"text-align: right;\">\n",
       "      <th></th>\n",
       "      <th>cosine_similarity</th>\n",
       "    </tr>\n",
       "    <tr>\n",
       "      <th>IOS_group</th>\n",
       "      <th></th>\n",
       "    </tr>\n",
       "  </thead>\n",
       "  <tbody>\n",
       "    <tr>\n",
       "      <th>HighIOS</th>\n",
       "      <td>0.532900</td>\n",
       "    </tr>\n",
       "    <tr>\n",
       "      <th>LowIOS</th>\n",
       "      <td>0.692615</td>\n",
       "    </tr>\n",
       "    <tr>\n",
       "      <th>Neither</th>\n",
       "      <td>0.604000</td>\n",
       "    </tr>\n",
       "  </tbody>\n",
       "</table>\n",
       "</div>"
      ],
      "text/plain": [
       "           cosine_similarity\n",
       "IOS_group                   \n",
       "HighIOS             0.532900\n",
       "LowIOS              0.692615\n",
       "Neither             0.604000"
      ]
     },
     "execution_count": 94,
     "metadata": {},
     "output_type": "execute_result"
    }
   ],
   "source": [
    "df[['IOS_group', 'cosine_similarity']].groupby('IOS_group').mean()"
   ]
  },
  {
   "cell_type": "code",
   "execution_count": 95,
   "metadata": {},
   "outputs": [
    {
     "data": {
      "text/html": [
       "<div>\n",
       "<style scoped>\n",
       "    .dataframe tbody tr th:only-of-type {\n",
       "        vertical-align: middle;\n",
       "    }\n",
       "\n",
       "    .dataframe tbody tr th {\n",
       "        vertical-align: top;\n",
       "    }\n",
       "\n",
       "    .dataframe thead th {\n",
       "        text-align: right;\n",
       "    }\n",
       "</style>\n",
       "<table border=\"1\" class=\"dataframe\">\n",
       "  <thead>\n",
       "    <tr style=\"text-align: right;\">\n",
       "      <th></th>\n",
       "      <th>cosine_similarity</th>\n",
       "    </tr>\n",
       "    <tr>\n",
       "      <th>IOS_group</th>\n",
       "      <th></th>\n",
       "    </tr>\n",
       "  </thead>\n",
       "  <tbody>\n",
       "    <tr>\n",
       "      <th>HighIOS</th>\n",
       "      <td>0.303922</td>\n",
       "    </tr>\n",
       "    <tr>\n",
       "      <th>LowIOS</th>\n",
       "      <td>0.155554</td>\n",
       "    </tr>\n",
       "    <tr>\n",
       "      <th>Neither</th>\n",
       "      <td>0.360508</td>\n",
       "    </tr>\n",
       "  </tbody>\n",
       "</table>\n",
       "</div>"
      ],
      "text/plain": [
       "           cosine_similarity\n",
       "IOS_group                   \n",
       "HighIOS             0.303922\n",
       "LowIOS              0.155554\n",
       "Neither             0.360508"
      ]
     },
     "execution_count": 95,
     "metadata": {},
     "output_type": "execute_result"
    }
   ],
   "source": [
    "df[['IOS_group', 'cosine_similarity']].groupby('IOS_group').std()"
   ]
  },
  {
   "cell_type": "code",
   "execution_count": 97,
   "metadata": {},
   "outputs": [
    {
     "data": {
      "text/html": [
       "<div>\n",
       "<style scoped>\n",
       "    .dataframe tbody tr th:only-of-type {\n",
       "        vertical-align: middle;\n",
       "    }\n",
       "\n",
       "    .dataframe tbody tr th {\n",
       "        vertical-align: top;\n",
       "    }\n",
       "\n",
       "    .dataframe thead th {\n",
       "        text-align: right;\n",
       "    }\n",
       "</style>\n",
       "<table border=\"1\" class=\"dataframe\">\n",
       "  <thead>\n",
       "    <tr style=\"text-align: right;\">\n",
       "      <th></th>\n",
       "      <th>1</th>\n",
       "      <th>2</th>\n",
       "      <th>3</th>\n",
       "      <th>4</th>\n",
       "      <th>5</th>\n",
       "      <th>6</th>\n",
       "      <th>7</th>\n",
       "      <th>8</th>\n",
       "      <th>9</th>\n",
       "      <th>10</th>\n",
       "      <th>...</th>\n",
       "      <th>32</th>\n",
       "      <th>33</th>\n",
       "      <th>34</th>\n",
       "      <th>35</th>\n",
       "      <th>36</th>\n",
       "      <th>37</th>\n",
       "      <th>38</th>\n",
       "      <th>39</th>\n",
       "      <th>40</th>\n",
       "      <th>41</th>\n",
       "    </tr>\n",
       "    <tr>\n",
       "      <th>MID</th>\n",
       "      <th></th>\n",
       "      <th></th>\n",
       "      <th></th>\n",
       "      <th></th>\n",
       "      <th></th>\n",
       "      <th></th>\n",
       "      <th></th>\n",
       "      <th></th>\n",
       "      <th></th>\n",
       "      <th></th>\n",
       "      <th></th>\n",
       "      <th></th>\n",
       "      <th></th>\n",
       "      <th></th>\n",
       "      <th></th>\n",
       "      <th></th>\n",
       "      <th></th>\n",
       "      <th></th>\n",
       "      <th></th>\n",
       "      <th></th>\n",
       "      <th></th>\n",
       "    </tr>\n",
       "  </thead>\n",
       "  <tbody>\n",
       "    <tr>\n",
       "      <th>2</th>\n",
       "      <td>NaN</td>\n",
       "      <td>NaN</td>\n",
       "      <td>NaN</td>\n",
       "      <td>NaN</td>\n",
       "      <td>NaN</td>\n",
       "      <td>NaN</td>\n",
       "      <td>NaN</td>\n",
       "      <td>NaN</td>\n",
       "      <td>NaN</td>\n",
       "      <td>NaN</td>\n",
       "      <td>...</td>\n",
       "      <td>NaN</td>\n",
       "      <td>NaN</td>\n",
       "      <td>NaN</td>\n",
       "      <td>NaN</td>\n",
       "      <td>NaN</td>\n",
       "      <td>NaN</td>\n",
       "      <td>NaN</td>\n",
       "      <td>NaN</td>\n",
       "      <td>NaN</td>\n",
       "      <td>NaN</td>\n",
       "    </tr>\n",
       "    <tr>\n",
       "      <th>3</th>\n",
       "      <td>怒る</td>\n",
       "      <td>聞く</td>\n",
       "      <td>計画</td>\n",
       "      <td>する</td>\n",
       "      <td>動く</td>\n",
       "      <td>行動</td>\n",
       "      <td>ある</td>\n",
       "      <td>いる</td>\n",
       "      <td>NaN</td>\n",
       "      <td>NaN</td>\n",
       "      <td>...</td>\n",
       "      <td>NaN</td>\n",
       "      <td>NaN</td>\n",
       "      <td>NaN</td>\n",
       "      <td>NaN</td>\n",
       "      <td>NaN</td>\n",
       "      <td>NaN</td>\n",
       "      <td>NaN</td>\n",
       "      <td>NaN</td>\n",
       "      <td>NaN</td>\n",
       "      <td>NaN</td>\n",
       "    </tr>\n",
       "    <tr>\n",
       "      <th>5</th>\n",
       "      <td>遊ぶ</td>\n",
       "      <td>NaN</td>\n",
       "      <td>NaN</td>\n",
       "      <td>NaN</td>\n",
       "      <td>NaN</td>\n",
       "      <td>NaN</td>\n",
       "      <td>NaN</td>\n",
       "      <td>NaN</td>\n",
       "      <td>NaN</td>\n",
       "      <td>NaN</td>\n",
       "      <td>...</td>\n",
       "      <td>NaN</td>\n",
       "      <td>NaN</td>\n",
       "      <td>NaN</td>\n",
       "      <td>NaN</td>\n",
       "      <td>NaN</td>\n",
       "      <td>NaN</td>\n",
       "      <td>NaN</td>\n",
       "      <td>NaN</td>\n",
       "      <td>NaN</td>\n",
       "      <td>NaN</td>\n",
       "    </tr>\n",
       "    <tr>\n",
       "      <th>8</th>\n",
       "      <td>NaN</td>\n",
       "      <td>NaN</td>\n",
       "      <td>NaN</td>\n",
       "      <td>NaN</td>\n",
       "      <td>NaN</td>\n",
       "      <td>NaN</td>\n",
       "      <td>NaN</td>\n",
       "      <td>NaN</td>\n",
       "      <td>NaN</td>\n",
       "      <td>NaN</td>\n",
       "      <td>...</td>\n",
       "      <td>NaN</td>\n",
       "      <td>NaN</td>\n",
       "      <td>NaN</td>\n",
       "      <td>NaN</td>\n",
       "      <td>NaN</td>\n",
       "      <td>NaN</td>\n",
       "      <td>NaN</td>\n",
       "      <td>NaN</td>\n",
       "      <td>NaN</td>\n",
       "      <td>NaN</td>\n",
       "    </tr>\n",
       "    <tr>\n",
       "      <th>9</th>\n",
       "      <td>いう</td>\n",
       "      <td>話しかける</td>\n",
       "      <td>NaN</td>\n",
       "      <td>NaN</td>\n",
       "      <td>NaN</td>\n",
       "      <td>NaN</td>\n",
       "      <td>NaN</td>\n",
       "      <td>NaN</td>\n",
       "      <td>NaN</td>\n",
       "      <td>NaN</td>\n",
       "      <td>...</td>\n",
       "      <td>NaN</td>\n",
       "      <td>NaN</td>\n",
       "      <td>NaN</td>\n",
       "      <td>NaN</td>\n",
       "      <td>NaN</td>\n",
       "      <td>NaN</td>\n",
       "      <td>NaN</td>\n",
       "      <td>NaN</td>\n",
       "      <td>NaN</td>\n",
       "      <td>NaN</td>\n",
       "    </tr>\n",
       "  </tbody>\n",
       "</table>\n",
       "<p>5 rows × 41 columns</p>\n",
       "</div>"
      ],
      "text/plain": [
       "       1      2    3    4    5    6    7    8    9   10  ...   32   33   34  \\\n",
       "MID                                                      ...                  \n",
       "2    NaN    NaN  NaN  NaN  NaN  NaN  NaN  NaN  NaN  NaN  ...  NaN  NaN  NaN   \n",
       "3     怒る     聞く   計画   する   動く   行動   ある   いる  NaN  NaN  ...  NaN  NaN  NaN   \n",
       "5     遊ぶ    NaN  NaN  NaN  NaN  NaN  NaN  NaN  NaN  NaN  ...  NaN  NaN  NaN   \n",
       "8    NaN    NaN  NaN  NaN  NaN  NaN  NaN  NaN  NaN  NaN  ...  NaN  NaN  NaN   \n",
       "9     いう  話しかける  NaN  NaN  NaN  NaN  NaN  NaN  NaN  NaN  ...  NaN  NaN  NaN   \n",
       "\n",
       "      35   36   37   38   39   40   41  \n",
       "MID                                     \n",
       "2    NaN  NaN  NaN  NaN  NaN  NaN  NaN  \n",
       "3    NaN  NaN  NaN  NaN  NaN  NaN  NaN  \n",
       "5    NaN  NaN  NaN  NaN  NaN  NaN  NaN  \n",
       "8    NaN  NaN  NaN  NaN  NaN  NaN  NaN  \n",
       "9    NaN  NaN  NaN  NaN  NaN  NaN  NaN  \n",
       "\n",
       "[5 rows x 41 columns]"
      ]
     },
     "execution_count": 97,
     "metadata": {},
     "output_type": "execute_result"
    }
   ],
   "source": [
    "sentences_token_self_df = pd.read_csv('./sentences_token_self_df.csv', header=0, index_col=0)\n",
    "sentences_token_self_df.head()"
   ]
  },
  {
   "cell_type": "code",
   "execution_count": 98,
   "metadata": {},
   "outputs": [
    {
     "data": {
      "text/html": [
       "<div>\n",
       "<style scoped>\n",
       "    .dataframe tbody tr th:only-of-type {\n",
       "        vertical-align: middle;\n",
       "    }\n",
       "\n",
       "    .dataframe tbody tr th {\n",
       "        vertical-align: top;\n",
       "    }\n",
       "\n",
       "    .dataframe thead th {\n",
       "        text-align: right;\n",
       "    }\n",
       "</style>\n",
       "<table border=\"1\" class=\"dataframe\">\n",
       "  <thead>\n",
       "    <tr style=\"text-align: right;\">\n",
       "      <th></th>\n",
       "      <th>token_self</th>\n",
       "    </tr>\n",
       "    <tr>\n",
       "      <th>MID</th>\n",
       "      <th></th>\n",
       "    </tr>\n",
       "  </thead>\n",
       "  <tbody>\n",
       "    <tr>\n",
       "      <th>2</th>\n",
       "      <td>[nan, nan, nan, nan, nan, nan, nan, nan, nan, ...</td>\n",
       "    </tr>\n",
       "    <tr>\n",
       "      <th>3</th>\n",
       "      <td>[怒る, 聞く, 計画, する, 動く, 行動, ある, いる, nan, nan, nan...</td>\n",
       "    </tr>\n",
       "    <tr>\n",
       "      <th>5</th>\n",
       "      <td>[遊ぶ, nan, nan, nan, nan, nan, nan, nan, nan, n...</td>\n",
       "    </tr>\n",
       "    <tr>\n",
       "      <th>8</th>\n",
       "      <td>[nan, nan, nan, nan, nan, nan, nan, nan, nan, ...</td>\n",
       "    </tr>\n",
       "    <tr>\n",
       "      <th>9</th>\n",
       "      <td>[いう, 話しかける, nan, nan, nan, nan, nan, nan, nan,...</td>\n",
       "    </tr>\n",
       "  </tbody>\n",
       "</table>\n",
       "</div>"
      ],
      "text/plain": [
       "                                            token_self\n",
       "MID                                                   \n",
       "2    [nan, nan, nan, nan, nan, nan, nan, nan, nan, ...\n",
       "3    [怒る, 聞く, 計画, する, 動く, 行動, ある, いる, nan, nan, nan...\n",
       "5    [遊ぶ, nan, nan, nan, nan, nan, nan, nan, nan, n...\n",
       "8    [nan, nan, nan, nan, nan, nan, nan, nan, nan, ...\n",
       "9    [いう, 話しかける, nan, nan, nan, nan, nan, nan, nan,..."
      ]
     },
     "execution_count": 98,
     "metadata": {},
     "output_type": "execute_result"
    }
   ],
   "source": [
    "cols = sentences_token_self_df.columns\n",
    "sentences_token_self_df['token_self'] = sentences_token_self_df.values.tolist()\n",
    "sentences_token_self_df = sentences_token_self_df.drop(cols, axis=1)\n",
    "sentences_token_self_df.head()"
   ]
  },
  {
   "cell_type": "code",
   "execution_count": 99,
   "metadata": {},
   "outputs": [
    {
     "data": {
      "text/html": [
       "<div>\n",
       "<style scoped>\n",
       "    .dataframe tbody tr th:only-of-type {\n",
       "        vertical-align: middle;\n",
       "    }\n",
       "\n",
       "    .dataframe tbody tr th {\n",
       "        vertical-align: top;\n",
       "    }\n",
       "\n",
       "    .dataframe thead th {\n",
       "        text-align: right;\n",
       "    }\n",
       "</style>\n",
       "<table border=\"1\" class=\"dataframe\">\n",
       "  <thead>\n",
       "    <tr style=\"text-align: right;\">\n",
       "      <th></th>\n",
       "      <th>IOS_group</th>\n",
       "      <th>cosine_similarity</th>\n",
       "      <th>token_self</th>\n",
       "    </tr>\n",
       "    <tr>\n",
       "      <th>MID</th>\n",
       "      <th></th>\n",
       "      <th></th>\n",
       "      <th></th>\n",
       "    </tr>\n",
       "  </thead>\n",
       "  <tbody>\n",
       "    <tr>\n",
       "      <th>3</th>\n",
       "      <td>LowIOS</td>\n",
       "      <td>0.629</td>\n",
       "      <td>[怒る, 聞く, 計画, する, 動く, 行動, ある, いる, nan, nan, nan...</td>\n",
       "    </tr>\n",
       "    <tr>\n",
       "      <th>11</th>\n",
       "      <td>LowIOS</td>\n",
       "      <td>0.731</td>\n",
       "      <td>[思う, 思う, nan, nan, nan, nan, nan, nan, nan, na...</td>\n",
       "    </tr>\n",
       "    <tr>\n",
       "      <th>13</th>\n",
       "      <td>HighIOS</td>\n",
       "      <td>0.320</td>\n",
       "      <td>[やる, やる, 思う, 入る, nan, nan, nan, nan, nan, nan,...</td>\n",
       "    </tr>\n",
       "    <tr>\n",
       "      <th>17</th>\n",
       "      <td>LowIOS</td>\n",
       "      <td>0.805</td>\n",
       "      <td>[接す, やり遂げる, 考える, 行動, する, 動く, なる, nan, nan, nan...</td>\n",
       "    </tr>\n",
       "    <tr>\n",
       "      <th>22</th>\n",
       "      <td>HighIOS</td>\n",
       "      <td>0.823</td>\n",
       "      <td>[買う, 調べる, nan, nan, nan, nan, nan, nan, nan, n...</td>\n",
       "    </tr>\n",
       "  </tbody>\n",
       "</table>\n",
       "</div>"
      ],
      "text/plain": [
       "    IOS_group  cosine_similarity  \\\n",
       "MID                                \n",
       "3      LowIOS              0.629   \n",
       "11     LowIOS              0.731   \n",
       "13    HighIOS              0.320   \n",
       "17     LowIOS              0.805   \n",
       "22    HighIOS              0.823   \n",
       "\n",
       "                                            token_self  \n",
       "MID                                                     \n",
       "3    [怒る, 聞く, 計画, する, 動く, 行動, ある, いる, nan, nan, nan...  \n",
       "11   [思う, 思う, nan, nan, nan, nan, nan, nan, nan, na...  \n",
       "13   [やる, やる, 思う, 入る, nan, nan, nan, nan, nan, nan,...  \n",
       "17   [接す, やり遂げる, 考える, 行動, する, 動く, なる, nan, nan, nan...  \n",
       "22   [買う, 調べる, nan, nan, nan, nan, nan, nan, nan, n...  "
      ]
     },
     "execution_count": 99,
     "metadata": {},
     "output_type": "execute_result"
    }
   ],
   "source": [
    "df_merged = pd.merge(df[['IOS_group', 'cosine_similarity']], sentences_token_self_df, how='inner', left_index=True, right_index=True)\n",
    "df_merged.head()"
   ]
  },
  {
   "cell_type": "code",
   "execution_count": 102,
   "metadata": {},
   "outputs": [
    {
     "data": {
      "text/html": [
       "<div>\n",
       "<style scoped>\n",
       "    .dataframe tbody tr th:only-of-type {\n",
       "        vertical-align: middle;\n",
       "    }\n",
       "\n",
       "    .dataframe tbody tr th {\n",
       "        vertical-align: top;\n",
       "    }\n",
       "\n",
       "    .dataframe thead th {\n",
       "        text-align: right;\n",
       "    }\n",
       "</style>\n",
       "<table border=\"1\" class=\"dataframe\">\n",
       "  <thead>\n",
       "    <tr style=\"text-align: right;\">\n",
       "      <th></th>\n",
       "      <th>1</th>\n",
       "      <th>2</th>\n",
       "      <th>3</th>\n",
       "      <th>4</th>\n",
       "      <th>5</th>\n",
       "      <th>6</th>\n",
       "      <th>7</th>\n",
       "      <th>8</th>\n",
       "      <th>9</th>\n",
       "      <th>10</th>\n",
       "      <th>...</th>\n",
       "      <th>19</th>\n",
       "      <th>20</th>\n",
       "      <th>21</th>\n",
       "      <th>22</th>\n",
       "      <th>23</th>\n",
       "      <th>24</th>\n",
       "      <th>25</th>\n",
       "      <th>26</th>\n",
       "      <th>27</th>\n",
       "      <th>28</th>\n",
       "    </tr>\n",
       "    <tr>\n",
       "      <th>MID</th>\n",
       "      <th></th>\n",
       "      <th></th>\n",
       "      <th></th>\n",
       "      <th></th>\n",
       "      <th></th>\n",
       "      <th></th>\n",
       "      <th></th>\n",
       "      <th></th>\n",
       "      <th></th>\n",
       "      <th></th>\n",
       "      <th></th>\n",
       "      <th></th>\n",
       "      <th></th>\n",
       "      <th></th>\n",
       "      <th></th>\n",
       "      <th></th>\n",
       "      <th></th>\n",
       "      <th></th>\n",
       "      <th></th>\n",
       "      <th></th>\n",
       "      <th></th>\n",
       "    </tr>\n",
       "  </thead>\n",
       "  <tbody>\n",
       "    <tr>\n",
       "      <th>2</th>\n",
       "      <td>NaN</td>\n",
       "      <td>NaN</td>\n",
       "      <td>NaN</td>\n",
       "      <td>NaN</td>\n",
       "      <td>NaN</td>\n",
       "      <td>NaN</td>\n",
       "      <td>NaN</td>\n",
       "      <td>NaN</td>\n",
       "      <td>NaN</td>\n",
       "      <td>NaN</td>\n",
       "      <td>...</td>\n",
       "      <td>NaN</td>\n",
       "      <td>NaN</td>\n",
       "      <td>NaN</td>\n",
       "      <td>NaN</td>\n",
       "      <td>NaN</td>\n",
       "      <td>NaN</td>\n",
       "      <td>NaN</td>\n",
       "      <td>NaN</td>\n",
       "      <td>NaN</td>\n",
       "      <td>NaN</td>\n",
       "    </tr>\n",
       "    <tr>\n",
       "      <th>3</th>\n",
       "      <td>怒る</td>\n",
       "      <td>仕事</td>\n",
       "      <td>抱え込む</td>\n",
       "      <td>チェック</td>\n",
       "      <td>NaN</td>\n",
       "      <td>NaN</td>\n",
       "      <td>NaN</td>\n",
       "      <td>NaN</td>\n",
       "      <td>NaN</td>\n",
       "      <td>NaN</td>\n",
       "      <td>...</td>\n",
       "      <td>NaN</td>\n",
       "      <td>NaN</td>\n",
       "      <td>NaN</td>\n",
       "      <td>NaN</td>\n",
       "      <td>NaN</td>\n",
       "      <td>NaN</td>\n",
       "      <td>NaN</td>\n",
       "      <td>NaN</td>\n",
       "      <td>NaN</td>\n",
       "      <td>NaN</td>\n",
       "    </tr>\n",
       "    <tr>\n",
       "      <th>5</th>\n",
       "      <td>NaN</td>\n",
       "      <td>NaN</td>\n",
       "      <td>NaN</td>\n",
       "      <td>NaN</td>\n",
       "      <td>NaN</td>\n",
       "      <td>NaN</td>\n",
       "      <td>NaN</td>\n",
       "      <td>NaN</td>\n",
       "      <td>NaN</td>\n",
       "      <td>NaN</td>\n",
       "      <td>...</td>\n",
       "      <td>NaN</td>\n",
       "      <td>NaN</td>\n",
       "      <td>NaN</td>\n",
       "      <td>NaN</td>\n",
       "      <td>NaN</td>\n",
       "      <td>NaN</td>\n",
       "      <td>NaN</td>\n",
       "      <td>NaN</td>\n",
       "      <td>NaN</td>\n",
       "      <td>NaN</td>\n",
       "    </tr>\n",
       "    <tr>\n",
       "      <th>8</th>\n",
       "      <td>回答</td>\n",
       "      <td>NaN</td>\n",
       "      <td>NaN</td>\n",
       "      <td>NaN</td>\n",
       "      <td>NaN</td>\n",
       "      <td>NaN</td>\n",
       "      <td>NaN</td>\n",
       "      <td>NaN</td>\n",
       "      <td>NaN</td>\n",
       "      <td>NaN</td>\n",
       "      <td>...</td>\n",
       "      <td>NaN</td>\n",
       "      <td>NaN</td>\n",
       "      <td>NaN</td>\n",
       "      <td>NaN</td>\n",
       "      <td>NaN</td>\n",
       "      <td>NaN</td>\n",
       "      <td>NaN</td>\n",
       "      <td>NaN</td>\n",
       "      <td>NaN</td>\n",
       "      <td>NaN</td>\n",
       "    </tr>\n",
       "    <tr>\n",
       "      <th>9</th>\n",
       "      <td>NaN</td>\n",
       "      <td>NaN</td>\n",
       "      <td>NaN</td>\n",
       "      <td>NaN</td>\n",
       "      <td>NaN</td>\n",
       "      <td>NaN</td>\n",
       "      <td>NaN</td>\n",
       "      <td>NaN</td>\n",
       "      <td>NaN</td>\n",
       "      <td>NaN</td>\n",
       "      <td>...</td>\n",
       "      <td>NaN</td>\n",
       "      <td>NaN</td>\n",
       "      <td>NaN</td>\n",
       "      <td>NaN</td>\n",
       "      <td>NaN</td>\n",
       "      <td>NaN</td>\n",
       "      <td>NaN</td>\n",
       "      <td>NaN</td>\n",
       "      <td>NaN</td>\n",
       "      <td>NaN</td>\n",
       "    </tr>\n",
       "  </tbody>\n",
       "</table>\n",
       "<p>5 rows × 28 columns</p>\n",
       "</div>"
      ],
      "text/plain": [
       "       1    2     3     4    5    6    7    8    9   10  ...   19   20   21  \\\n",
       "MID                                                      ...                  \n",
       "2    NaN  NaN   NaN   NaN  NaN  NaN  NaN  NaN  NaN  NaN  ...  NaN  NaN  NaN   \n",
       "3     怒る   仕事  抱え込む  チェック  NaN  NaN  NaN  NaN  NaN  NaN  ...  NaN  NaN  NaN   \n",
       "5    NaN  NaN   NaN   NaN  NaN  NaN  NaN  NaN  NaN  NaN  ...  NaN  NaN  NaN   \n",
       "8     回答  NaN   NaN   NaN  NaN  NaN  NaN  NaN  NaN  NaN  ...  NaN  NaN  NaN   \n",
       "9    NaN  NaN   NaN   NaN  NaN  NaN  NaN  NaN  NaN  NaN  ...  NaN  NaN  NaN   \n",
       "\n",
       "      22   23   24   25   26   27   28  \n",
       "MID                                     \n",
       "2    NaN  NaN  NaN  NaN  NaN  NaN  NaN  \n",
       "3    NaN  NaN  NaN  NaN  NaN  NaN  NaN  \n",
       "5    NaN  NaN  NaN  NaN  NaN  NaN  NaN  \n",
       "8    NaN  NaN  NaN  NaN  NaN  NaN  NaN  \n",
       "9    NaN  NaN  NaN  NaN  NaN  NaN  NaN  \n",
       "\n",
       "[5 rows x 28 columns]"
      ]
     },
     "execution_count": 102,
     "metadata": {},
     "output_type": "execute_result"
    }
   ],
   "source": [
    "sentences_token_target_df = pd.read_csv('./sentences_token_target_df.csv', header=0, index_col=0)\n",
    "sentences_token_target_df.head()"
   ]
  },
  {
   "cell_type": "code",
   "execution_count": 103,
   "metadata": {},
   "outputs": [
    {
     "data": {
      "text/html": [
       "<div>\n",
       "<style scoped>\n",
       "    .dataframe tbody tr th:only-of-type {\n",
       "        vertical-align: middle;\n",
       "    }\n",
       "\n",
       "    .dataframe tbody tr th {\n",
       "        vertical-align: top;\n",
       "    }\n",
       "\n",
       "    .dataframe thead th {\n",
       "        text-align: right;\n",
       "    }\n",
       "</style>\n",
       "<table border=\"1\" class=\"dataframe\">\n",
       "  <thead>\n",
       "    <tr style=\"text-align: right;\">\n",
       "      <th></th>\n",
       "      <th>token_target</th>\n",
       "    </tr>\n",
       "    <tr>\n",
       "      <th>MID</th>\n",
       "      <th></th>\n",
       "    </tr>\n",
       "  </thead>\n",
       "  <tbody>\n",
       "    <tr>\n",
       "      <th>2</th>\n",
       "      <td>[nan, nan, nan, nan, nan, nan, nan, nan, nan, ...</td>\n",
       "    </tr>\n",
       "    <tr>\n",
       "      <th>3</th>\n",
       "      <td>[怒る, 仕事, 抱え込む, チェック, nan, nan, nan, nan, nan, ...</td>\n",
       "    </tr>\n",
       "    <tr>\n",
       "      <th>5</th>\n",
       "      <td>[nan, nan, nan, nan, nan, nan, nan, nan, nan, ...</td>\n",
       "    </tr>\n",
       "    <tr>\n",
       "      <th>8</th>\n",
       "      <td>[回答, nan, nan, nan, nan, nan, nan, nan, nan, n...</td>\n",
       "    </tr>\n",
       "    <tr>\n",
       "      <th>9</th>\n",
       "      <td>[nan, nan, nan, nan, nan, nan, nan, nan, nan, ...</td>\n",
       "    </tr>\n",
       "  </tbody>\n",
       "</table>\n",
       "</div>"
      ],
      "text/plain": [
       "                                          token_target\n",
       "MID                                                   \n",
       "2    [nan, nan, nan, nan, nan, nan, nan, nan, nan, ...\n",
       "3    [怒る, 仕事, 抱え込む, チェック, nan, nan, nan, nan, nan, ...\n",
       "5    [nan, nan, nan, nan, nan, nan, nan, nan, nan, ...\n",
       "8    [回答, nan, nan, nan, nan, nan, nan, nan, nan, n...\n",
       "9    [nan, nan, nan, nan, nan, nan, nan, nan, nan, ..."
      ]
     },
     "execution_count": 103,
     "metadata": {},
     "output_type": "execute_result"
    }
   ],
   "source": [
    "cols = sentences_token_target_df.columns\n",
    "sentences_token_target_df['token_target'] = sentences_token_target_df.values.tolist()\n",
    "sentences_token_target_df= sentences_token_target_df.drop(cols, axis=1)\n",
    "sentences_token_target_df.head()"
   ]
  },
  {
   "cell_type": "code",
   "execution_count": 104,
   "metadata": {},
   "outputs": [
    {
     "data": {
      "text/html": [
       "<div>\n",
       "<style scoped>\n",
       "    .dataframe tbody tr th:only-of-type {\n",
       "        vertical-align: middle;\n",
       "    }\n",
       "\n",
       "    .dataframe tbody tr th {\n",
       "        vertical-align: top;\n",
       "    }\n",
       "\n",
       "    .dataframe thead th {\n",
       "        text-align: right;\n",
       "    }\n",
       "</style>\n",
       "<table border=\"1\" class=\"dataframe\">\n",
       "  <thead>\n",
       "    <tr style=\"text-align: right;\">\n",
       "      <th></th>\n",
       "      <th>IOS_group</th>\n",
       "      <th>cosine_similarity</th>\n",
       "      <th>token_self</th>\n",
       "      <th>token_target</th>\n",
       "    </tr>\n",
       "    <tr>\n",
       "      <th>MID</th>\n",
       "      <th></th>\n",
       "      <th></th>\n",
       "      <th></th>\n",
       "      <th></th>\n",
       "    </tr>\n",
       "  </thead>\n",
       "  <tbody>\n",
       "    <tr>\n",
       "      <th>3</th>\n",
       "      <td>LowIOS</td>\n",
       "      <td>0.629</td>\n",
       "      <td>[怒る, 聞く, 計画, する, 動く, 行動, ある, いる, nan, nan, nan...</td>\n",
       "      <td>[怒る, 仕事, 抱え込む, チェック, nan, nan, nan, nan, nan, ...</td>\n",
       "    </tr>\n",
       "    <tr>\n",
       "      <th>11</th>\n",
       "      <td>LowIOS</td>\n",
       "      <td>0.731</td>\n",
       "      <td>[思う, 思う, nan, nan, nan, nan, nan, nan, nan, na...</td>\n",
       "      <td>[仕事, ある, 思う, やる, する, 一緒, 出かける, 接する, nan, nan, ...</td>\n",
       "    </tr>\n",
       "    <tr>\n",
       "      <th>13</th>\n",
       "      <td>HighIOS</td>\n",
       "      <td>0.320</td>\n",
       "      <td>[やる, やる, 思う, 入る, nan, nan, nan, nan, nan, nan,...</td>\n",
       "      <td>[する, nan, nan, nan, nan, nan, nan, nan, nan, n...</td>\n",
       "    </tr>\n",
       "    <tr>\n",
       "      <th>17</th>\n",
       "      <td>LowIOS</td>\n",
       "      <td>0.805</td>\n",
       "      <td>[接す, やり遂げる, 考える, 行動, する, 動く, なる, nan, nan, nan...</td>\n",
       "      <td>[ミス, 許す, 言う, 守る, 考える, 行動, する, 行動, nan, nan, na...</td>\n",
       "    </tr>\n",
       "    <tr>\n",
       "      <th>22</th>\n",
       "      <td>HighIOS</td>\n",
       "      <td>0.823</td>\n",
       "      <td>[買う, 調べる, nan, nan, nan, nan, nan, nan, nan, n...</td>\n",
       "      <td>[なる, 会う, 仕事, 休む, 買う, 調べる, 買う, 話しかける, する, 会う, n...</td>\n",
       "    </tr>\n",
       "  </tbody>\n",
       "</table>\n",
       "</div>"
      ],
      "text/plain": [
       "    IOS_group  cosine_similarity  \\\n",
       "MID                                \n",
       "3      LowIOS              0.629   \n",
       "11     LowIOS              0.731   \n",
       "13    HighIOS              0.320   \n",
       "17     LowIOS              0.805   \n",
       "22    HighIOS              0.823   \n",
       "\n",
       "                                            token_self  \\\n",
       "MID                                                      \n",
       "3    [怒る, 聞く, 計画, する, 動く, 行動, ある, いる, nan, nan, nan...   \n",
       "11   [思う, 思う, nan, nan, nan, nan, nan, nan, nan, na...   \n",
       "13   [やる, やる, 思う, 入る, nan, nan, nan, nan, nan, nan,...   \n",
       "17   [接す, やり遂げる, 考える, 行動, する, 動く, なる, nan, nan, nan...   \n",
       "22   [買う, 調べる, nan, nan, nan, nan, nan, nan, nan, n...   \n",
       "\n",
       "                                          token_target  \n",
       "MID                                                     \n",
       "3    [怒る, 仕事, 抱え込む, チェック, nan, nan, nan, nan, nan, ...  \n",
       "11   [仕事, ある, 思う, やる, する, 一緒, 出かける, 接する, nan, nan, ...  \n",
       "13   [する, nan, nan, nan, nan, nan, nan, nan, nan, n...  \n",
       "17   [ミス, 許す, 言う, 守る, 考える, 行動, する, 行動, nan, nan, na...  \n",
       "22   [なる, 会う, 仕事, 休む, 買う, 調べる, 買う, 話しかける, する, 会う, n...  "
      ]
     },
     "execution_count": 104,
     "metadata": {},
     "output_type": "execute_result"
    }
   ],
   "source": [
    "df_merged = pd.merge(df_merged, sentences_token_target_df, how='inner', left_index=True, right_index=True)\n",
    "df_merged.head()"
   ]
  },
  {
   "cell_type": "code",
   "execution_count": 107,
   "metadata": {},
   "outputs": [
    {
     "data": {
      "text/html": [
       "<div>\n",
       "<style scoped>\n",
       "    .dataframe tbody tr th:only-of-type {\n",
       "        vertical-align: middle;\n",
       "    }\n",
       "\n",
       "    .dataframe tbody tr th {\n",
       "        vertical-align: top;\n",
       "    }\n",
       "\n",
       "    .dataframe thead th {\n",
       "        text-align: right;\n",
       "    }\n",
       "</style>\n",
       "<table border=\"1\" class=\"dataframe\">\n",
       "  <thead>\n",
       "    <tr style=\"text-align: right;\">\n",
       "      <th></th>\n",
       "      <th>IOS_group</th>\n",
       "      <th>cosine_similarity</th>\n",
       "      <th>token_self</th>\n",
       "      <th>token_target</th>\n",
       "    </tr>\n",
       "    <tr>\n",
       "      <th>MID</th>\n",
       "      <th></th>\n",
       "      <th></th>\n",
       "      <th></th>\n",
       "      <th></th>\n",
       "    </tr>\n",
       "  </thead>\n",
       "  <tbody>\n",
       "    <tr>\n",
       "      <th>177</th>\n",
       "      <td>HighIOS</td>\n",
       "      <td>0.091</td>\n",
       "      <td>[逃げる, よる, nan, nan, nan, nan, nan, nan, nan, n...</td>\n",
       "      <td>[束縛, nan, nan, nan, nan, nan, nan, nan, nan, n...</td>\n",
       "    </tr>\n",
       "    <tr>\n",
       "      <th>69</th>\n",
       "      <td>HighIOS</td>\n",
       "      <td>0.143</td>\n",
       "      <td>[する, nan, nan, nan, nan, nan, nan, nan, nan, n...</td>\n",
       "      <td>[考える, 仕事, 営業, ある, nan, nan, nan, nan, nan, nan...</td>\n",
       "    </tr>\n",
       "    <tr>\n",
       "      <th>92</th>\n",
       "      <td>HighIOS</td>\n",
       "      <td>0.171</td>\n",
       "      <td>[叩く, 叩く, こもる, nan, nan, nan, nan, nan, nan, na...</td>\n",
       "      <td>[許す, 保証, する, 計画, する, いる, nan, nan, nan, nan, n...</td>\n",
       "    </tr>\n",
       "    <tr>\n",
       "      <th>176</th>\n",
       "      <td>HighIOS</td>\n",
       "      <td>0.214</td>\n",
       "      <td>[考える, nan, nan, nan, nan, nan, nan, nan, nan, ...</td>\n",
       "      <td>[あり, nan, nan, nan, nan, nan, nan, nan, nan, n...</td>\n",
       "    </tr>\n",
       "    <tr>\n",
       "      <th>174</th>\n",
       "      <td>HighIOS</td>\n",
       "      <td>0.230</td>\n",
       "      <td>[似る, ある, nan, nan, nan, nan, nan, nan, nan, na...</td>\n",
       "      <td>[する, 言う, 思い立つ, 行動, する, する, nan, nan, nan, nan,...</td>\n",
       "    </tr>\n",
       "    <tr>\n",
       "      <th>85</th>\n",
       "      <td>HighIOS</td>\n",
       "      <td>0.271</td>\n",
       "      <td>[尊敬, する, いく, いく, nan, nan, nan, nan, nan, nan,...</td>\n",
       "      <td>[気に入る, ある, 思う, nan, nan, nan, nan, nan, nan, n...</td>\n",
       "    </tr>\n",
       "    <tr>\n",
       "      <th>157</th>\n",
       "      <td>HighIOS</td>\n",
       "      <td>0.288</td>\n",
       "      <td>[話し掛ける, nan, nan, nan, nan, nan, nan, nan, nan...</td>\n",
       "      <td>[約束, する, 守る, nan, nan, nan, nan, nan, nan, nan...</td>\n",
       "    </tr>\n",
       "    <tr>\n",
       "      <th>13</th>\n",
       "      <td>HighIOS</td>\n",
       "      <td>0.320</td>\n",
       "      <td>[やる, やる, 思う, 入る, nan, nan, nan, nan, nan, nan,...</td>\n",
       "      <td>[する, nan, nan, nan, nan, nan, nan, nan, nan, n...</td>\n",
       "    </tr>\n",
       "    <tr>\n",
       "      <th>153</th>\n",
       "      <td>HighIOS</td>\n",
       "      <td>0.409</td>\n",
       "      <td>[傷つく, 当たる, 当たる, 疲れる, nan, nan, nan, nan, nan, ...</td>\n",
       "      <td>[会う, 仲違い, nan, nan, nan, nan, nan, nan, nan, n...</td>\n",
       "    </tr>\n",
       "    <tr>\n",
       "      <th>98</th>\n",
       "      <td>HighIOS</td>\n",
       "      <td>0.421</td>\n",
       "      <td>[持つ, なる, わかる, 仕事, 間違える, 注力, する, 失敗, 恐れる, 思う, 行...</td>\n",
       "      <td>[相談, のる, 仕事, いる, nan, nan, nan, nan, nan, nan,...</td>\n",
       "    </tr>\n",
       "  </tbody>\n",
       "</table>\n",
       "</div>"
      ],
      "text/plain": [
       "    IOS_group  cosine_similarity  \\\n",
       "MID                                \n",
       "177   HighIOS              0.091   \n",
       "69    HighIOS              0.143   \n",
       "92    HighIOS              0.171   \n",
       "176   HighIOS              0.214   \n",
       "174   HighIOS              0.230   \n",
       "85    HighIOS              0.271   \n",
       "157   HighIOS              0.288   \n",
       "13    HighIOS              0.320   \n",
       "153   HighIOS              0.409   \n",
       "98    HighIOS              0.421   \n",
       "\n",
       "                                            token_self  \\\n",
       "MID                                                      \n",
       "177  [逃げる, よる, nan, nan, nan, nan, nan, nan, nan, n...   \n",
       "69   [する, nan, nan, nan, nan, nan, nan, nan, nan, n...   \n",
       "92   [叩く, 叩く, こもる, nan, nan, nan, nan, nan, nan, na...   \n",
       "176  [考える, nan, nan, nan, nan, nan, nan, nan, nan, ...   \n",
       "174  [似る, ある, nan, nan, nan, nan, nan, nan, nan, na...   \n",
       "85   [尊敬, する, いく, いく, nan, nan, nan, nan, nan, nan,...   \n",
       "157  [話し掛ける, nan, nan, nan, nan, nan, nan, nan, nan...   \n",
       "13   [やる, やる, 思う, 入る, nan, nan, nan, nan, nan, nan,...   \n",
       "153  [傷つく, 当たる, 当たる, 疲れる, nan, nan, nan, nan, nan, ...   \n",
       "98   [持つ, なる, わかる, 仕事, 間違える, 注力, する, 失敗, 恐れる, 思う, 行...   \n",
       "\n",
       "                                          token_target  \n",
       "MID                                                     \n",
       "177  [束縛, nan, nan, nan, nan, nan, nan, nan, nan, n...  \n",
       "69   [考える, 仕事, 営業, ある, nan, nan, nan, nan, nan, nan...  \n",
       "92   [許す, 保証, する, 計画, する, いる, nan, nan, nan, nan, n...  \n",
       "176  [あり, nan, nan, nan, nan, nan, nan, nan, nan, n...  \n",
       "174  [する, 言う, 思い立つ, 行動, する, する, nan, nan, nan, nan,...  \n",
       "85   [気に入る, ある, 思う, nan, nan, nan, nan, nan, nan, n...  \n",
       "157  [約束, する, 守る, nan, nan, nan, nan, nan, nan, nan...  \n",
       "13   [する, nan, nan, nan, nan, nan, nan, nan, nan, n...  \n",
       "153  [会う, 仲違い, nan, nan, nan, nan, nan, nan, nan, n...  \n",
       "98   [相談, のる, 仕事, いる, nan, nan, nan, nan, nan, nan,...  "
      ]
     },
     "execution_count": 107,
     "metadata": {},
     "output_type": "execute_result"
    }
   ],
   "source": [
    "# Low similarity @High_IOS\n",
    "df_merged[df_merged['IOS_group'] == 'HighIOS'].sort_values(by='cosine_similarity', ascending=True).head(10)"
   ]
  },
  {
   "cell_type": "code",
   "execution_count": 109,
   "metadata": {},
   "outputs": [
    {
     "data": {
      "text/html": [
       "<div>\n",
       "<style scoped>\n",
       "    .dataframe tbody tr th:only-of-type {\n",
       "        vertical-align: middle;\n",
       "    }\n",
       "\n",
       "    .dataframe tbody tr th {\n",
       "        vertical-align: top;\n",
       "    }\n",
       "\n",
       "    .dataframe thead th {\n",
       "        text-align: right;\n",
       "    }\n",
       "</style>\n",
       "<table border=\"1\" class=\"dataframe\">\n",
       "  <thead>\n",
       "    <tr style=\"text-align: right;\">\n",
       "      <th></th>\n",
       "      <th>IOS_group</th>\n",
       "      <th>cosine_similarity</th>\n",
       "      <th>token_self</th>\n",
       "      <th>token_target</th>\n",
       "    </tr>\n",
       "    <tr>\n",
       "      <th>MID</th>\n",
       "      <th></th>\n",
       "      <th></th>\n",
       "      <th></th>\n",
       "      <th></th>\n",
       "    </tr>\n",
       "  </thead>\n",
       "  <tbody>\n",
       "    <tr>\n",
       "      <th>83</th>\n",
       "      <td>LowIOS</td>\n",
       "      <td>0.881</td>\n",
       "      <td>[持つ, 認識, する, 評価, する, 分かる, 仕事, 限る, 取り組む, ある, 抜く...</td>\n",
       "      <td>[つく, 話す, つく, 教える, 知る, 交換, する, ある, 聞く, 決める, 守る,...</td>\n",
       "    </tr>\n",
       "    <tr>\n",
       "      <th>43</th>\n",
       "      <td>LowIOS</td>\n",
       "      <td>0.871</td>\n",
       "      <td>[ある, 相談, 評価, 現れる, 辞める, やる, 生きる, 思い切る, 行動, 出来る,...</td>\n",
       "      <td>[養う, 判断, 間違う, 行動, ある, 出来る, nan, nan, nan, nan,...</td>\n",
       "    </tr>\n",
       "    <tr>\n",
       "      <th>146</th>\n",
       "      <td>LowIOS</td>\n",
       "      <td>0.868</td>\n",
       "      <td>[おこる, 威圧, ある, 怖がる, 与える, 仕事, こなす, 考える, 行動, する, ...</td>\n",
       "      <td>[なる, 言う, 一緒, いる, 疲れる, 仕事, こなす, 考える, 行動, する, 回答...</td>\n",
       "    </tr>\n",
       "    <tr>\n",
       "      <th>99</th>\n",
       "      <td>LowIOS</td>\n",
       "      <td>0.837</td>\n",
       "      <td>[返事, もらえる, する, 思う, 思い当たる, nan, nan, nan, nan, ...</td>\n",
       "      <td>[思う, 謝る, でる, nan, nan, nan, nan, nan, nan, nan...</td>\n",
       "    </tr>\n",
       "    <tr>\n",
       "      <th>54</th>\n",
       "      <td>LowIOS</td>\n",
       "      <td>0.837</td>\n",
       "      <td>[守る, 考える, おもう, 接する, できる, 心掛ける, 信用, する, する, ある,...</td>\n",
       "      <td>[思う, 会う, こぼす, ある, 言う, する, 料理, 参加, する, 参加, する, ...</td>\n",
       "    </tr>\n",
       "    <tr>\n",
       "      <th>87</th>\n",
       "      <td>LowIOS</td>\n",
       "      <td>0.831</td>\n",
       "      <td>[理解, ある, 思う, 思う, 仕事, やる, 考える, 行動, する, 仕事, 打ち解け...</td>\n",
       "      <td>[保てる, 関係, やる, 考える, 待つ, 関わる, nan, nan, nan, nan...</td>\n",
       "    </tr>\n",
       "    <tr>\n",
       "      <th>91</th>\n",
       "      <td>LowIOS</td>\n",
       "      <td>0.830</td>\n",
       "      <td>[囲む, 苦労, する, 受け止める, 思う, 言う, 否定, する, 思う, 苦しむ, 抵...</td>\n",
       "      <td>[する, ある, 話, する, なる, する, 感じる, いる, とる, 計画, する, 行...</td>\n",
       "    </tr>\n",
       "    <tr>\n",
       "      <th>17</th>\n",
       "      <td>LowIOS</td>\n",
       "      <td>0.805</td>\n",
       "      <td>[接す, やり遂げる, 考える, 行動, する, 動く, なる, nan, nan, nan...</td>\n",
       "      <td>[ミス, 許す, 言う, 守る, 考える, 行動, する, 行動, nan, nan, na...</td>\n",
       "    </tr>\n",
       "    <tr>\n",
       "      <th>93</th>\n",
       "      <td>LowIOS</td>\n",
       "      <td>0.798</td>\n",
       "      <td>[する, やる, 通す, する, する, nan, nan, nan, nan, nan, ...</td>\n",
       "      <td>[裏切る, 取る, 浮気, する, nan, nan, nan, nan, nan, nan...</td>\n",
       "    </tr>\n",
       "    <tr>\n",
       "      <th>81</th>\n",
       "      <td>LowIOS</td>\n",
       "      <td>0.798</td>\n",
       "      <td>[受け答え, 出来る, 失敗, 恐れる, 躊躇, する, nan, nan, nan, na...</td>\n",
       "      <td>[該当, する, 思う, 頼む, 実行, できる, とぼける, 話しかける, nan, na...</td>\n",
       "    </tr>\n",
       "  </tbody>\n",
       "</table>\n",
       "</div>"
      ],
      "text/plain": [
       "    IOS_group  cosine_similarity  \\\n",
       "MID                                \n",
       "83     LowIOS              0.881   \n",
       "43     LowIOS              0.871   \n",
       "146    LowIOS              0.868   \n",
       "99     LowIOS              0.837   \n",
       "54     LowIOS              0.837   \n",
       "87     LowIOS              0.831   \n",
       "91     LowIOS              0.830   \n",
       "17     LowIOS              0.805   \n",
       "93     LowIOS              0.798   \n",
       "81     LowIOS              0.798   \n",
       "\n",
       "                                            token_self  \\\n",
       "MID                                                      \n",
       "83   [持つ, 認識, する, 評価, する, 分かる, 仕事, 限る, 取り組む, ある, 抜く...   \n",
       "43   [ある, 相談, 評価, 現れる, 辞める, やる, 生きる, 思い切る, 行動, 出来る,...   \n",
       "146  [おこる, 威圧, ある, 怖がる, 与える, 仕事, こなす, 考える, 行動, する, ...   \n",
       "99   [返事, もらえる, する, 思う, 思い当たる, nan, nan, nan, nan, ...   \n",
       "54   [守る, 考える, おもう, 接する, できる, 心掛ける, 信用, する, する, ある,...   \n",
       "87   [理解, ある, 思う, 思う, 仕事, やる, 考える, 行動, する, 仕事, 打ち解け...   \n",
       "91   [囲む, 苦労, する, 受け止める, 思う, 言う, 否定, する, 思う, 苦しむ, 抵...   \n",
       "17   [接す, やり遂げる, 考える, 行動, する, 動く, なる, nan, nan, nan...   \n",
       "93   [する, やる, 通す, する, する, nan, nan, nan, nan, nan, ...   \n",
       "81   [受け答え, 出来る, 失敗, 恐れる, 躊躇, する, nan, nan, nan, na...   \n",
       "\n",
       "                                          token_target  \n",
       "MID                                                     \n",
       "83   [つく, 話す, つく, 教える, 知る, 交換, する, ある, 聞く, 決める, 守る,...  \n",
       "43   [養う, 判断, 間違う, 行動, ある, 出来る, nan, nan, nan, nan,...  \n",
       "146  [なる, 言う, 一緒, いる, 疲れる, 仕事, こなす, 考える, 行動, する, 回答...  \n",
       "99   [思う, 謝る, でる, nan, nan, nan, nan, nan, nan, nan...  \n",
       "54   [思う, 会う, こぼす, ある, 言う, する, 料理, 参加, する, 参加, する, ...  \n",
       "87   [保てる, 関係, やる, 考える, 待つ, 関わる, nan, nan, nan, nan...  \n",
       "91   [する, ある, 話, する, なる, する, 感じる, いる, とる, 計画, する, 行...  \n",
       "17   [ミス, 許す, 言う, 守る, 考える, 行動, する, 行動, nan, nan, na...  \n",
       "93   [裏切る, 取る, 浮気, する, nan, nan, nan, nan, nan, nan...  \n",
       "81   [該当, する, 思う, 頼む, 実行, できる, とぼける, 話しかける, nan, na...  "
      ]
     },
     "execution_count": 109,
     "metadata": {},
     "output_type": "execute_result"
    }
   ],
   "source": [
    "# High similarity @Low_IOS\n",
    "df_merged[df_merged['IOS_group'] == 'LowIOS'].sort_values(by='cosine_similarity', ascending=False).head(10)"
   ]
  },
  {
   "attachments": {},
   "cell_type": "markdown",
   "metadata": {},
   "source": [
    "### Post hoc Power Analysis"
   ]
  },
  {
   "cell_type": "code",
   "execution_count": 41,
   "metadata": {},
   "outputs": [
    {
     "name": "stdout",
     "output_type": "stream",
     "text": [
      "Num. of group H: 20\n",
      "Num. of group L: 26\n"
     ]
    }
   ],
   "source": [
    "print('Num. of group H: ' + str(len(groupH)))\n",
    "print('Num. of group L: ' + str(len(groupL)))"
   ]
  },
  {
   "cell_type": "code",
   "execution_count": 42,
   "metadata": {},
   "outputs": [],
   "source": [
    "def cohens_d(x1, x2):\n",
    "    n1 = len(x1)\n",
    "    n2 = len(x2)\n",
    "    x1_mean = x1.mean()\n",
    "    x2_mean = x2.mean()\n",
    "    s1 = x1.std()\n",
    "    s2 = x2.std()\n",
    "    s = np.sqrt((n1*np.square(s1) + n2*np.square(s2)) / (n1 + n2))\n",
    "    d = np.abs(x1_mean - x2_mean) / s\n",
    "    return d"
   ]
  },
  {
   "cell_type": "code",
   "execution_count": 43,
   "metadata": {},
   "outputs": [
    {
     "name": "stdout",
     "output_type": "stream",
     "text": [
      "Cohens d (Euclidean distance): 0.6208\n",
      "Cohens d (Manhattan distance): 0.6814\n",
      "Cohens d (Cosine similarity): 0.6883\n"
     ]
    }
   ],
   "source": [
    "euclidean_d = cohens_d(groupH['euclidean_distance'], groupL['euclidean_distance'])\n",
    "print('Cohen''s d (Euclidean distance): {:.4f}'.format(euclidean_d))\n",
    "manhattan_d = cohens_d(groupH['manhattan_distance'], groupL['manhattan_distance'])\n",
    "print('Cohen''s d (Manhattan distance): {:.4f}'.format(manhattan_d))\n",
    "cosine_d = cohens_d(groupH['cosine_similarity'], groupL['cosine_similarity'])\n",
    "print('Cohen''s d (Cosine similarity): {:.4f}'.format(cosine_d))"
   ]
  },
  {
   "cell_type": "code",
   "execution_count": 44,
   "metadata": {},
   "outputs": [
    {
     "name": "stdout",
     "output_type": "stream",
     "text": [
      "Post hoc power (Euclidean distance): 0.6591\n",
      "Post hoc power (Manhattan distance): 0.7292\n",
      "Post hoc power (Cosine similarity): 0.7368\n"
     ]
    }
   ],
   "source": [
    "# Compute post hoc power powered by G*Power\n",
    "print('Post hoc power (Euclidean distance): {:.4f}'.format(0.6591))\n",
    "print('Post hoc power (Manhattan distance): {:.4f}'.format(0.7292))\n",
    "print('Post hoc power (Cosine similarity): {:.4f}'.format(0.7368))"
   ]
  },
  {
   "attachments": {},
   "cell_type": "markdown",
   "metadata": {},
   "source": [
    "## 02: Spearman's rank correlation coefficient between the IOS scores and the overlapping scores\n",
    "The author had planned:\n",
    "- sample size: 119, including participants who rated on the IOS scale as 4\n",
    "- alpha: 0.05\n",
    "- effect size: 0.3\n",
    "- power: 0.93\n",
    "- two-tailed\n"
   ]
  },
  {
   "cell_type": "markdown",
   "metadata": {},
   "source": [
    "### Overlapping score"
   ]
  },
  {
   "cell_type": "code",
   "execution_count": 45,
   "metadata": {},
   "outputs": [
    {
     "data": {
      "text/html": [
       "<div>\n",
       "<style scoped>\n",
       "    .dataframe tbody tr th:only-of-type {\n",
       "        vertical-align: middle;\n",
       "    }\n",
       "\n",
       "    .dataframe tbody tr th {\n",
       "        vertical-align: top;\n",
       "    }\n",
       "\n",
       "    .dataframe thead th {\n",
       "        text-align: right;\n",
       "    }\n",
       "</style>\n",
       "<table border=\"1\" class=\"dataframe\">\n",
       "  <thead>\n",
       "    <tr style=\"text-align: right;\">\n",
       "      <th></th>\n",
       "      <th>IOS_score</th>\n",
       "      <th>IOS_group</th>\n",
       "      <th>wc_self</th>\n",
       "      <th>wc_target</th>\n",
       "      <th>wc_intercept</th>\n",
       "      <th>Overlap_score</th>\n",
       "      <th>word_vec_avg_self</th>\n",
       "      <th>word_vec_avg_target</th>\n",
       "      <th>_merge</th>\n",
       "      <th>euclidean_distance</th>\n",
       "      <th>manhattan_distance</th>\n",
       "      <th>cosine_similarity</th>\n",
       "    </tr>\n",
       "    <tr>\n",
       "      <th>MID</th>\n",
       "      <th></th>\n",
       "      <th></th>\n",
       "      <th></th>\n",
       "      <th></th>\n",
       "      <th></th>\n",
       "      <th></th>\n",
       "      <th></th>\n",
       "      <th></th>\n",
       "      <th></th>\n",
       "      <th></th>\n",
       "      <th></th>\n",
       "      <th></th>\n",
       "    </tr>\n",
       "  </thead>\n",
       "  <tbody>\n",
       "    <tr>\n",
       "      <th>3</th>\n",
       "      <td>2</td>\n",
       "      <td>LowIOS</td>\n",
       "      <td>8</td>\n",
       "      <td>4</td>\n",
       "      <td>1</td>\n",
       "      <td>0.090909</td>\n",
       "      <td>[ 0.11943819  0.05346557  0.07014093  0.009255...</td>\n",
       "      <td>[ 0.02737059  0.05008292  0.14684474 -0.024978...</td>\n",
       "      <td>both</td>\n",
       "      <td>0.520467</td>\n",
       "      <td>2.948766</td>\n",
       "      <td>0.629</td>\n",
       "    </tr>\n",
       "  </tbody>\n",
       "</table>\n",
       "</div>"
      ],
      "text/plain": [
       "     IOS_score IOS_group  wc_self  wc_target  wc_intercept  Overlap_score  \\\n",
       "MID                                                                         \n",
       "3            2    LowIOS        8          4             1       0.090909   \n",
       "\n",
       "                                     word_vec_avg_self  \\\n",
       "MID                                                      \n",
       "3    [ 0.11943819  0.05346557  0.07014093  0.009255...   \n",
       "\n",
       "                                   word_vec_avg_target _merge  \\\n",
       "MID                                                             \n",
       "3    [ 0.02737059  0.05008292  0.14684474 -0.024978...   both   \n",
       "\n",
       "     euclidean_distance  manhattan_distance  cosine_similarity  \n",
       "MID                                                             \n",
       "3              0.520467            2.948766              0.629  "
      ]
     },
     "execution_count": 45,
     "metadata": {},
     "output_type": "execute_result"
    }
   ],
   "source": [
    "df.head(1)"
   ]
  },
  {
   "cell_type": "code",
   "execution_count": 46,
   "metadata": {},
   "outputs": [],
   "source": [
    "iosscores = df['IOS_score']\n",
    "overlapscores = df['Overlap_score']"
   ]
  },
  {
   "cell_type": "code",
   "execution_count": 47,
   "metadata": {},
   "outputs": [
    {
     "data": {
      "text/plain": [
       "SignificanceResult(statistic=-0.22430480554849083, pvalue=0.11735181892172995)"
      ]
     },
     "execution_count": 47,
     "metadata": {},
     "output_type": "execute_result"
    }
   ],
   "source": [
    "res = stats.spearmanr(iosscores, overlapscores)\n",
    "res"
   ]
  },
  {
   "cell_type": "markdown",
   "metadata": {},
   "source": [
    "### Euclidean Dsitance"
   ]
  },
  {
   "cell_type": "code",
   "execution_count": 48,
   "metadata": {},
   "outputs": [
    {
     "data": {
      "text/plain": [
       "SignificanceResult(statistic=0.22893291016668457, pvalue=0.10978171247622574)"
      ]
     },
     "execution_count": 48,
     "metadata": {},
     "output_type": "execute_result"
    }
   ],
   "source": [
    "euclidean_distance = df['euclidean_distance']\n",
    "res = stats.spearmanr(iosscores, euclidean_distance)\n",
    "res"
   ]
  },
  {
   "cell_type": "markdown",
   "metadata": {},
   "source": [
    "### Manhattan Distance"
   ]
  },
  {
   "cell_type": "code",
   "execution_count": 49,
   "metadata": {},
   "outputs": [
    {
     "data": {
      "text/plain": [
       "SignificanceResult(statistic=0.2269816388249698, pvalue=0.11292646795711726)"
      ]
     },
     "execution_count": 49,
     "metadata": {},
     "output_type": "execute_result"
    }
   ],
   "source": [
    "manhattan_distance = df['manhattan_distance']\n",
    "res = stats.spearmanr(iosscores, manhattan_distance)\n",
    "res"
   ]
  },
  {
   "cell_type": "markdown",
   "metadata": {},
   "source": [
    "### Cosine Similarity"
   ]
  },
  {
   "cell_type": "code",
   "execution_count": 50,
   "metadata": {},
   "outputs": [
    {
     "data": {
      "text/plain": [
       "SignificanceResult(statistic=-0.17646065889047152, pvalue=0.22025414270919622)"
      ]
     },
     "execution_count": 50,
     "metadata": {},
     "output_type": "execute_result"
    }
   ],
   "source": [
    "cosine_similarity = df['cosine_similarity']\n",
    "res = stats.spearmanr(iosscores, cosine_similarity)\n",
    "res"
   ]
  },
  {
   "attachments": {},
   "cell_type": "markdown",
   "metadata": {},
   "source": [
    "### Post hoc Power Analysis"
   ]
  },
  {
   "cell_type": "code",
   "execution_count": 51,
   "metadata": {},
   "outputs": [
    {
     "name": "stdout",
     "output_type": "stream",
     "text": [
      "Num. of Sumple of the IOS socre: 50\n",
      "Num. of Sumple of the Overlapping socre: 50\n"
     ]
    }
   ],
   "source": [
    "print('Num. of Sumple of the IOS socre: ' + str(len(iosscores)))\n",
    "print('Num. of Sumple of the Overlapping socre: ' + str(len(overlapscores)))"
   ]
  },
  {
   "cell_type": "markdown",
   "metadata": {},
   "source": [
    "Achieved power: 0.382 (rho1 = 0.20)"
   ]
  },
  {
   "attachments": {},
   "cell_type": "markdown",
   "metadata": {},
   "source": []
  }
 ],
 "metadata": {
  "kernelspec": {
   "display_name": "myproject02",
   "language": "python",
   "name": "python3"
  },
  "language_info": {
   "codemirror_mode": {
    "name": "ipython",
    "version": 3
   },
   "file_extension": ".py",
   "mimetype": "text/x-python",
   "name": "python",
   "nbconvert_exporter": "python",
   "pygments_lexer": "ipython3",
   "version": "3.11.5"
  },
  "orig_nbformat": 4
 },
 "nbformat": 4,
 "nbformat_minor": 2
}
